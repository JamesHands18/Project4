{
 "cells": [
  {
   "cell_type": "code",
   "execution_count": 1,
   "metadata": {},
   "outputs": [
    {
     "data": {
      "text/html": [
       "<div>\n",
       "<style scoped>\n",
       "    .dataframe tbody tr th:only-of-type {\n",
       "        vertical-align: middle;\n",
       "    }\n",
       "\n",
       "    .dataframe tbody tr th {\n",
       "        vertical-align: top;\n",
       "    }\n",
       "\n",
       "    .dataframe thead th {\n",
       "        text-align: right;\n",
       "    }\n",
       "</style>\n",
       "<table border=\"1\" class=\"dataframe\">\n",
       "  <thead>\n",
       "    <tr style=\"text-align: right;\">\n",
       "      <th></th>\n",
       "      <th>carat</th>\n",
       "      <th>depth</th>\n",
       "      <th>table</th>\n",
       "      <th>price</th>\n",
       "      <th>cut_b'Good'</th>\n",
       "      <th>cut_b'Ideal'</th>\n",
       "      <th>cut_b'Premium'</th>\n",
       "      <th>cut_b'Very Good'</th>\n",
       "      <th>color_b'E'</th>\n",
       "      <th>color_b'F'</th>\n",
       "      <th>...</th>\n",
       "      <th>color_b'H'</th>\n",
       "      <th>color_b'I'</th>\n",
       "      <th>color_b'J'</th>\n",
       "      <th>clarity_b'IF'</th>\n",
       "      <th>clarity_b'SI1'</th>\n",
       "      <th>clarity_b'SI2'</th>\n",
       "      <th>clarity_b'VS1'</th>\n",
       "      <th>clarity_b'VS2'</th>\n",
       "      <th>clarity_b'VVS1'</th>\n",
       "      <th>clarity_b'VVS2'</th>\n",
       "    </tr>\n",
       "  </thead>\n",
       "  <tbody>\n",
       "    <tr>\n",
       "      <th>0</th>\n",
       "      <td>-1.405572</td>\n",
       "      <td>-0.156729</td>\n",
       "      <td>-1.120720</td>\n",
       "      <td>-1.038223</td>\n",
       "      <td>-0.342592</td>\n",
       "      <td>1.305138</td>\n",
       "      <td>-0.566777</td>\n",
       "      <td>-0.568675</td>\n",
       "      <td>2.224396</td>\n",
       "      <td>-0.462318</td>\n",
       "      <td>...</td>\n",
       "      <td>-0.439985</td>\n",
       "      <td>-0.359811</td>\n",
       "      <td>-0.263711</td>\n",
       "      <td>-0.172747</td>\n",
       "      <td>-0.574252</td>\n",
       "      <td>2.004444</td>\n",
       "      <td>-0.421931</td>\n",
       "      <td>-0.510935</td>\n",
       "      <td>-0.254255</td>\n",
       "      <td>-0.308898</td>\n",
       "    </tr>\n",
       "    <tr>\n",
       "      <th>1</th>\n",
       "      <td>-1.447307</td>\n",
       "      <td>-1.265593</td>\n",
       "      <td>1.490024</td>\n",
       "      <td>-1.038223</td>\n",
       "      <td>-0.342592</td>\n",
       "      <td>-0.766202</td>\n",
       "      <td>1.764362</td>\n",
       "      <td>-0.568675</td>\n",
       "      <td>2.224396</td>\n",
       "      <td>-0.462318</td>\n",
       "      <td>...</td>\n",
       "      <td>-0.439985</td>\n",
       "      <td>-0.359811</td>\n",
       "      <td>-0.263711</td>\n",
       "      <td>-0.172747</td>\n",
       "      <td>1.741395</td>\n",
       "      <td>-0.498891</td>\n",
       "      <td>-0.421931</td>\n",
       "      <td>-0.510935</td>\n",
       "      <td>-0.254255</td>\n",
       "      <td>-0.308898</td>\n",
       "    </tr>\n",
       "    <tr>\n",
       "      <th>2</th>\n",
       "      <td>-1.405572</td>\n",
       "      <td>-3.157185</td>\n",
       "      <td>3.230521</td>\n",
       "      <td>-1.037985</td>\n",
       "      <td>2.918924</td>\n",
       "      <td>-0.766202</td>\n",
       "      <td>-0.566777</td>\n",
       "      <td>-0.568675</td>\n",
       "      <td>2.224396</td>\n",
       "      <td>-0.462318</td>\n",
       "      <td>...</td>\n",
       "      <td>-0.439985</td>\n",
       "      <td>-0.359811</td>\n",
       "      <td>-0.263711</td>\n",
       "      <td>-0.172747</td>\n",
       "      <td>-0.574252</td>\n",
       "      <td>-0.498891</td>\n",
       "      <td>2.370058</td>\n",
       "      <td>-0.510935</td>\n",
       "      <td>-0.254255</td>\n",
       "      <td>-0.308898</td>\n",
       "    </tr>\n",
       "    <tr>\n",
       "      <th>3</th>\n",
       "      <td>-1.280367</td>\n",
       "      <td>0.430317</td>\n",
       "      <td>0.184652</td>\n",
       "      <td>-1.036319</td>\n",
       "      <td>-0.342592</td>\n",
       "      <td>-0.766202</td>\n",
       "      <td>1.764362</td>\n",
       "      <td>-0.568675</td>\n",
       "      <td>-0.449560</td>\n",
       "      <td>-0.462318</td>\n",
       "      <td>...</td>\n",
       "      <td>-0.439985</td>\n",
       "      <td>2.779237</td>\n",
       "      <td>-0.263711</td>\n",
       "      <td>-0.172747</td>\n",
       "      <td>-0.574252</td>\n",
       "      <td>-0.498891</td>\n",
       "      <td>-0.421931</td>\n",
       "      <td>1.957197</td>\n",
       "      <td>-0.254255</td>\n",
       "      <td>-0.308898</td>\n",
       "    </tr>\n",
       "    <tr>\n",
       "      <th>4</th>\n",
       "      <td>-1.238632</td>\n",
       "      <td>1.017363</td>\n",
       "      <td>0.184652</td>\n",
       "      <td>-1.036081</td>\n",
       "      <td>2.918924</td>\n",
       "      <td>-0.766202</td>\n",
       "      <td>-0.566777</td>\n",
       "      <td>-0.568675</td>\n",
       "      <td>-0.449560</td>\n",
       "      <td>-0.462318</td>\n",
       "      <td>...</td>\n",
       "      <td>-0.439985</td>\n",
       "      <td>-0.359811</td>\n",
       "      <td>3.792031</td>\n",
       "      <td>-0.172747</td>\n",
       "      <td>-0.574252</td>\n",
       "      <td>2.004444</td>\n",
       "      <td>-0.421931</td>\n",
       "      <td>-0.510935</td>\n",
       "      <td>-0.254255</td>\n",
       "      <td>-0.308898</td>\n",
       "    </tr>\n",
       "  </tbody>\n",
       "</table>\n",
       "<p>5 rows × 21 columns</p>\n",
       "</div>"
      ],
      "text/plain": [
       "      carat     depth     table     price  cut_b'Good'  cut_b'Ideal'  \\\n",
       "0 -1.405572 -0.156729 -1.120720 -1.038223    -0.342592      1.305138   \n",
       "1 -1.447307 -1.265593  1.490024 -1.038223    -0.342592     -0.766202   \n",
       "2 -1.405572 -3.157185  3.230521 -1.037985     2.918924     -0.766202   \n",
       "3 -1.280367  0.430317  0.184652 -1.036319    -0.342592     -0.766202   \n",
       "4 -1.238632  1.017363  0.184652 -1.036081     2.918924     -0.766202   \n",
       "\n",
       "   cut_b'Premium'  cut_b'Very Good'  color_b'E'  color_b'F'  ...  color_b'H'  \\\n",
       "0       -0.566777         -0.568675    2.224396   -0.462318  ...   -0.439985   \n",
       "1        1.764362         -0.568675    2.224396   -0.462318  ...   -0.439985   \n",
       "2       -0.566777         -0.568675    2.224396   -0.462318  ...   -0.439985   \n",
       "3        1.764362         -0.568675   -0.449560   -0.462318  ...   -0.439985   \n",
       "4       -0.566777         -0.568675   -0.449560   -0.462318  ...   -0.439985   \n",
       "\n",
       "   color_b'I'  color_b'J'  clarity_b'IF'  clarity_b'SI1'  clarity_b'SI2'  \\\n",
       "0   -0.359811   -0.263711      -0.172747       -0.574252        2.004444   \n",
       "1   -0.359811   -0.263711      -0.172747        1.741395       -0.498891   \n",
       "2   -0.359811   -0.263711      -0.172747       -0.574252       -0.498891   \n",
       "3    2.779237   -0.263711      -0.172747       -0.574252       -0.498891   \n",
       "4   -0.359811    3.792031      -0.172747       -0.574252        2.004444   \n",
       "\n",
       "   clarity_b'VS1'  clarity_b'VS2'  clarity_b'VVS1'  clarity_b'VVS2'  \n",
       "0       -0.421931       -0.510935        -0.254255        -0.308898  \n",
       "1       -0.421931       -0.510935        -0.254255        -0.308898  \n",
       "2        2.370058       -0.510935        -0.254255        -0.308898  \n",
       "3       -0.421931        1.957197        -0.254255        -0.308898  \n",
       "4       -0.421931       -0.510935        -0.254255        -0.308898  \n",
       "\n",
       "[5 rows x 21 columns]"
      ]
     },
     "execution_count": 1,
     "metadata": {},
     "output_type": "execute_result"
    }
   ],
   "source": [
    "# Import our dependencies\n",
    "from sklearn.model_selection import train_test_split\n",
    "from sklearn.preprocessing import StandardScaler\n",
    "import pandas as pd\n",
    "import tensorflow as tf\n",
    "from sklearn.metrics import r2_score\n",
    "\n",
    "#  Import and read the charity_data.csv.\n",
    "diamond_df = pd.read_csv(\"Resources/scaled.csv\")\n",
    "diamond_df.head()"
   ]
  },
  {
   "cell_type": "code",
   "execution_count": 2,
   "metadata": {},
   "outputs": [],
   "source": [
    "# Split our preprocessed data into our features and target arrays\n",
    "#try to predict carat\n",
    "\n",
    "y = diamond_df['carat']\n",
    "\n",
    "\n",
    "X = diamond_df.drop('carat', axis=1)\n",
    "\n",
    "\n",
    "# Split the preprocessed data into a training and testing dataset\n",
    "X_train, X_test,y_train,y_test =train_test_split(X,y, random_state=10)"
   ]
  },
  {
   "cell_type": "code",
   "execution_count": 3,
   "metadata": {},
   "outputs": [
    {
     "data": {
      "text/plain": [
       "0       -1.405572\n",
       "1       -1.447307\n",
       "2       -1.405572\n",
       "3       -1.280367\n",
       "4       -1.238632\n",
       "           ...   \n",
       "39751   -0.383065\n",
       "39752   -0.383065\n",
       "39753   -0.424800\n",
       "39754   -0.090921\n",
       "39755   -0.320463\n",
       "Name: carat, Length: 39756, dtype: float64"
      ]
     },
     "execution_count": 3,
     "metadata": {},
     "output_type": "execute_result"
    }
   ],
   "source": [
    "y"
   ]
  },
  {
   "cell_type": "code",
   "execution_count": 4,
   "metadata": {},
   "outputs": [],
   "source": [
    "#The data could be potentially scaled again but there was no need for the scope of the project\n",
    "# Create a StandardScaler instances\n",
    "#scaler = StandardScaler()\n",
    "\n",
    "# Fit the StandardScaler\n",
    "#X_scaler = scaler.fit(X_train)\n",
    "\n",
    "# Scale the data\n",
    "#X_train_scaled = X_scaler.transform(X_train)\n",
    "#X_test_scaled = X_scaler.transform(X_test)"
   ]
  },
  {
   "cell_type": "code",
   "execution_count": 5,
   "metadata": {},
   "outputs": [
    {
     "name": "stdout",
     "output_type": "stream",
     "text": [
      "Model: \"sequential\"\n",
      "_________________________________________________________________\n",
      " Layer (type)                Output Shape              Param #   \n",
      "=================================================================\n",
      " dense (Dense)               (None, 10)                210       \n",
      "                                                                 \n",
      " dense_1 (Dense)             (None, 15)                165       \n",
      "                                                                 \n",
      " dense_2 (Dense)             (None, 10)                160       \n",
      "                                                                 \n",
      " dense_3 (Dense)             (None, 1)                 11        \n",
      "                                                                 \n",
      "=================================================================\n",
      "Total params: 546\n",
      "Trainable params: 546\n",
      "Non-trainable params: 0\n",
      "_________________________________________________________________\n"
     ]
    }
   ],
   "source": [
    "# Define the model - deep neural net, i.e., the number of input features and hidden nodes for each layer.\n",
    "\n",
    "diamonds_nn= len(X_train.columns)\n",
    "hidden_node_layer = 10\n",
    "second_hidden_node_layer = 10\n",
    "third_hidden_layer= 15\n",
    "nn = tf.keras.models.Sequential()\n",
    "\n",
    "# First hidden layer\n",
    "nn.add(tf.keras.layers.Dense(units=hidden_node_layer, input_dim=diamonds_nn, activation='relu'))\n",
    "#additional layer\n",
    "nn.add(tf.keras.layers.Dense(units=third_hidden_layer, activation='relu'))\n",
    "# Second hidden layer\n",
    "nn.add(tf.keras.layers.Dense(units=second_hidden_node_layer, activation='relu'))\n",
    "\n",
    "\n",
    "# Output layer\n",
    "nn.add(tf.keras.layers.Dense(units=1, activation='linear'))\n",
    "\n",
    "# Check the structure of the model\n",
    "nn.summary()"
   ]
  },
  {
   "cell_type": "code",
   "execution_count": 6,
   "metadata": {},
   "outputs": [
    {
     "data": {
      "text/plain": [
       "29817"
      ]
     },
     "execution_count": 6,
     "metadata": {},
     "output_type": "execute_result"
    }
   ],
   "source": [
    "len(X_train)"
   ]
  },
  {
   "cell_type": "code",
   "execution_count": 7,
   "metadata": {},
   "outputs": [],
   "source": [
    "# Compile the model\n",
    "#nn.compile(loss='binary_crossentropy', optimizer='adam', metrics=['accuracy'])\n",
    "nn.compile(optimizer='adam',loss='mean_squared_error', metrics=['mean_squared_error'])"
   ]
  },
  {
   "cell_type": "code",
   "execution_count": 8,
   "metadata": {},
   "outputs": [
    {
     "name": "stdout",
     "output_type": "stream",
     "text": [
      "Epoch 1/20\n",
      "932/932 [==============================] - 2s 2ms/step - loss: 0.2796 - mean_squared_error: 0.2796\n",
      "Epoch 2/20\n",
      "932/932 [==============================] - 1s 1ms/step - loss: 0.0516 - mean_squared_error: 0.0516\n",
      "Epoch 3/20\n",
      "932/932 [==============================] - 1s 2ms/step - loss: 0.0369 - mean_squared_error: 0.0369\n",
      "Epoch 4/20\n",
      "932/932 [==============================] - 1s 2ms/step - loss: 0.0302 - mean_squared_error: 0.0302\n",
      "Epoch 5/20\n",
      "932/932 [==============================] - 1s 2ms/step - loss: 0.0269 - mean_squared_error: 0.0269\n",
      "Epoch 6/20\n",
      "932/932 [==============================] - 2s 2ms/step - loss: 0.0249 - mean_squared_error: 0.0249\n",
      "Epoch 7/20\n",
      "932/932 [==============================] - 2s 2ms/step - loss: 0.0236 - mean_squared_error: 0.0236\n",
      "Epoch 8/20\n",
      "932/932 [==============================] - 2s 2ms/step - loss: 0.0228 - mean_squared_error: 0.0228\n",
      "Epoch 9/20\n",
      "932/932 [==============================] - 2s 2ms/step - loss: 0.0223 - mean_squared_error: 0.0223\n",
      "Epoch 10/20\n",
      "932/932 [==============================] - 2s 2ms/step - loss: 0.0217 - mean_squared_error: 0.0217\n",
      "Epoch 11/20\n",
      "932/932 [==============================] - 2s 2ms/step - loss: 0.0213 - mean_squared_error: 0.0213\n",
      "Epoch 12/20\n",
      "932/932 [==============================] - 2s 2ms/step - loss: 0.0211 - mean_squared_error: 0.0211\n",
      "Epoch 13/20\n",
      "932/932 [==============================] - 1s 2ms/step - loss: 0.0208 - mean_squared_error: 0.0208\n",
      "Epoch 14/20\n",
      "932/932 [==============================] - 2s 2ms/step - loss: 0.0204 - mean_squared_error: 0.0204\n",
      "Epoch 15/20\n",
      "932/932 [==============================] - 1s 2ms/step - loss: 0.0203 - mean_squared_error: 0.0203\n",
      "Epoch 16/20\n",
      "932/932 [==============================] - 2s 2ms/step - loss: 0.0201 - mean_squared_error: 0.0201\n",
      "Epoch 17/20\n",
      "932/932 [==============================] - 2s 2ms/step - loss: 0.0201 - mean_squared_error: 0.0201\n",
      "Epoch 18/20\n",
      "932/932 [==============================] - 2s 2ms/step - loss: 0.0196 - mean_squared_error: 0.0196\n",
      "Epoch 19/20\n",
      "932/932 [==============================] - 2s 2ms/step - loss: 0.0199 - mean_squared_error: 0.0199\n",
      "Epoch 20/20\n",
      "932/932 [==============================] - 2s 2ms/step - loss: 0.0195 - mean_squared_error: 0.0195\n"
     ]
    }
   ],
   "source": [
    "# Train the model\n",
    "trained_model = nn.fit(X_train, y_train, epochs=20)\n"
   ]
  },
  {
   "cell_type": "code",
   "execution_count": 9,
   "metadata": {},
   "outputs": [
    {
     "name": "stdout",
     "output_type": "stream",
     "text": [
      "311/311 [==============================] - 1s 1ms/step\n"
     ]
    }
   ],
   "source": [
    "prediction = nn.predict(X_test)"
   ]
  },
  {
   "cell_type": "code",
   "execution_count": 10,
   "metadata": {},
   "outputs": [
    {
     "data": {
      "text/plain": [
       "0.9808359609585972"
      ]
     },
     "execution_count": 10,
     "metadata": {},
     "output_type": "execute_result"
    }
   ],
   "source": [
    "\n",
    "r2_score(y_test, prediction)\n"
   ]
  },
  {
   "cell_type": "code",
   "execution_count": 11,
   "metadata": {},
   "outputs": [
    {
     "name": "stdout",
     "output_type": "stream",
     "text": [
      "311/311 - 1s - loss: 0.0189 - mean_squared_error: 0.0189 - 536ms/epoch - 2ms/step\n",
      "Loss: 0.018910784274339676, Mean Squared Error: 0.018910784274339676\n"
     ]
    }
   ],
   "source": [
    "# Evaluate the model using the test data\n",
    "model_loss, model_accuracy = nn.evaluate(X_test,y_test,verbose=2)\n",
    "print(f\"Loss: {model_loss}, Mean Squared Error: {model_accuracy}\")"
   ]
  },
  {
   "attachments": {},
   "cell_type": "markdown",
   "metadata": {},
   "source": [
    "# Prediction model 2"
   ]
  },
  {
   "cell_type": "code",
   "execution_count": 12,
   "metadata": {},
   "outputs": [],
   "source": [
    "# Split our preprocessed data into our features and target arrays\n",
    "y = diamond_df['depth']\n",
    "y\n",
    "\n",
    "X = diamond_df.drop('depth', axis=1)\n",
    "X\n",
    "\n",
    "# Split the preprocessed data into a training and testing dataset\n",
    "X_train, X_test,y_train,y_test =train_test_split(X,y, random_state=10)"
   ]
  },
  {
   "cell_type": "code",
   "execution_count": 13,
   "metadata": {},
   "outputs": [],
   "source": [
    "#The data could be potentially scaled again but there was no need for the scope of the project\n",
    "# Create a StandardScaler instances\n",
    "#scaler = StandardScaler()\n",
    "\n",
    "# Fit the StandardScaler\n",
    "#X_scaler = scaler.fit(X_train)\n",
    "\n",
    "# Scale the data\n",
    "#X_train_scaled = X_scaler.transform(X_train)\n",
    "#X_test_scaled = X_scaler.transform(X_test)"
   ]
  },
  {
   "cell_type": "code",
   "execution_count": 14,
   "metadata": {},
   "outputs": [
    {
     "name": "stdout",
     "output_type": "stream",
     "text": [
      "Model: \"sequential_1\"\n",
      "_________________________________________________________________\n",
      " Layer (type)                Output Shape              Param #   \n",
      "=================================================================\n",
      " dense_4 (Dense)             (None, 10)                210       \n",
      "                                                                 \n",
      " dense_5 (Dense)             (None, 15)                165       \n",
      "                                                                 \n",
      " dense_6 (Dense)             (None, 10)                160       \n",
      "                                                                 \n",
      " dense_7 (Dense)             (None, 1)                 11        \n",
      "                                                                 \n",
      "=================================================================\n",
      "Total params: 546\n",
      "Trainable params: 546\n",
      "Non-trainable params: 0\n",
      "_________________________________________________________________\n"
     ]
    }
   ],
   "source": [
    "\n",
    "# Define the model - deep neural net, i.e., the number of input features and hidden nodes for each layer.\n",
    "\n",
    "diamonds_nn= len(X_train.columns)\n",
    "hidden_node_layer = 10\n",
    "second_hidden_node_layer = 10\n",
    "third_hidden_layer= 15\n",
    "nn = tf.keras.models.Sequential()\n",
    "\n",
    "# First hidden layer\n",
    "nn.add(tf.keras.layers.Dense(units=hidden_node_layer, input_dim=diamonds_nn, activation='relu'))\n",
    "#additional layer\n",
    "nn.add(tf.keras.layers.Dense(units=third_hidden_layer, activation='relu'))\n",
    "# Second hidden layer\n",
    "nn.add(tf.keras.layers.Dense(units=second_hidden_node_layer, activation='relu'))\n",
    "\n",
    "\n",
    "# Output layer\n",
    "nn.add(tf.keras.layers.Dense(units=1, activation='linear'))\n",
    "\n",
    "# Check the structure of the model\n",
    "nn.summary()"
   ]
  },
  {
   "cell_type": "code",
   "execution_count": 15,
   "metadata": {},
   "outputs": [],
   "source": [
    "# Compile the model\n",
    "#nn.compile(loss='binary_crossentropy', optimizer='adam', metrics=['accuracy'])\n",
    "nn.compile(optimizer='adam',loss='mean_squared_error', metrics=['mean_squared_error'])"
   ]
  },
  {
   "cell_type": "code",
   "execution_count": 16,
   "metadata": {},
   "outputs": [
    {
     "name": "stdout",
     "output_type": "stream",
     "text": [
      "Epoch 1/20\n",
      "932/932 [==============================] - 3s 2ms/step - loss: 0.9266 - mean_squared_error: 0.9266\n",
      "Epoch 2/20\n",
      "932/932 [==============================] - 2s 2ms/step - loss: 0.7764 - mean_squared_error: 0.7764\n",
      "Epoch 3/20\n",
      "932/932 [==============================] - 2s 2ms/step - loss: 0.7263 - mean_squared_error: 0.7263\n",
      "Epoch 4/20\n",
      "932/932 [==============================] - 1s 2ms/step - loss: 0.7097 - mean_squared_error: 0.7097\n",
      "Epoch 5/20\n",
      "932/932 [==============================] - 2s 2ms/step - loss: 0.7033 - mean_squared_error: 0.7033\n",
      "Epoch 6/20\n",
      "932/932 [==============================] - 2s 2ms/step - loss: 0.6986 - mean_squared_error: 0.6986\n",
      "Epoch 7/20\n",
      "932/932 [==============================] - 2s 2ms/step - loss: 0.6964 - mean_squared_error: 0.6964\n",
      "Epoch 8/20\n",
      "932/932 [==============================] - 1s 2ms/step - loss: 0.6937 - mean_squared_error: 0.6937\n",
      "Epoch 9/20\n",
      "932/932 [==============================] - 2s 2ms/step - loss: 0.6917 - mean_squared_error: 0.6917\n",
      "Epoch 10/20\n",
      "932/932 [==============================] - 2s 2ms/step - loss: 0.6900 - mean_squared_error: 0.6900\n",
      "Epoch 11/20\n",
      "932/932 [==============================] - 2s 2ms/step - loss: 0.6888 - mean_squared_error: 0.6888\n",
      "Epoch 12/20\n",
      "932/932 [==============================] - 1s 2ms/step - loss: 0.6870 - mean_squared_error: 0.6870\n",
      "Epoch 13/20\n",
      "932/932 [==============================] - 2s 2ms/step - loss: 0.6873 - mean_squared_error: 0.6873\n",
      "Epoch 14/20\n",
      "932/932 [==============================] - 1s 2ms/step - loss: 0.6856 - mean_squared_error: 0.6856\n",
      "Epoch 15/20\n",
      "932/932 [==============================] - 2s 2ms/step - loss: 0.6842 - mean_squared_error: 0.6842\n",
      "Epoch 16/20\n",
      "932/932 [==============================] - 2s 2ms/step - loss: 0.6835 - mean_squared_error: 0.6835\n",
      "Epoch 17/20\n",
      "932/932 [==============================] - 2s 2ms/step - loss: 0.6814 - mean_squared_error: 0.6814\n",
      "Epoch 18/20\n",
      "932/932 [==============================] - 2s 2ms/step - loss: 0.6810 - mean_squared_error: 0.6810\n",
      "Epoch 19/20\n",
      "932/932 [==============================] - 2s 2ms/step - loss: 0.6799 - mean_squared_error: 0.6799\n",
      "Epoch 20/20\n",
      "932/932 [==============================] - 2s 2ms/step - loss: 0.6797 - mean_squared_error: 0.6797\n"
     ]
    }
   ],
   "source": [
    "# Train the model\n",
    "trained_model = nn.fit(X_train, y_train, epochs=20)"
   ]
  },
  {
   "cell_type": "code",
   "execution_count": 17,
   "metadata": {},
   "outputs": [
    {
     "name": "stdout",
     "output_type": "stream",
     "text": [
      "311/311 [==============================] - 0s 1ms/step\n"
     ]
    }
   ],
   "source": [
    "prediction = nn.predict(X_test)\n"
   ]
  },
  {
   "cell_type": "code",
   "execution_count": 18,
   "metadata": {},
   "outputs": [
    {
     "data": {
      "text/plain": [
       "0.33117671715778785"
      ]
     },
     "execution_count": 18,
     "metadata": {},
     "output_type": "execute_result"
    }
   ],
   "source": [
    "r2_score(y_test, prediction)"
   ]
  },
  {
   "cell_type": "code",
   "execution_count": 19,
   "metadata": {},
   "outputs": [
    {
     "name": "stdout",
     "output_type": "stream",
     "text": [
      "311/311 - 0s - loss: 0.6396 - mean_squared_error: 0.6396 - 435ms/epoch - 1ms/step\n",
      "Loss: 0.6396331787109375, Mean Squared Error: 0.6396331787109375\n"
     ]
    }
   ],
   "source": [
    "# Evaluate the model using the test data\n",
    "model_loss, model_accuracy = nn.evaluate(X_test,y_test,verbose=2)\n",
    "print(f\"Loss: {model_loss}, Mean Squared Error: {model_accuracy}\")"
   ]
  }
 ],
 "metadata": {
  "kernelspec": {
   "display_name": "Python 3",
   "language": "python",
   "name": "python3"
  },
  "language_info": {
   "codemirror_mode": {
    "name": "ipython",
    "version": 3
   },
   "file_extension": ".py",
   "mimetype": "text/x-python",
   "name": "python",
   "nbconvert_exporter": "python",
   "pygments_lexer": "ipython3",
   "version": "3.9.13"
  },
  "orig_nbformat": 4
 },
 "nbformat": 4,
 "nbformat_minor": 2
}
