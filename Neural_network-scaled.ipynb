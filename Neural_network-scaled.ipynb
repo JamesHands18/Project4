{
 "cells": [
  {
   "cell_type": "code",
   "execution_count": 59,
   "metadata": {},
   "outputs": [
    {
     "data": {
      "text/html": [
       "<div>\n",
       "<style scoped>\n",
       "    .dataframe tbody tr th:only-of-type {\n",
       "        vertical-align: middle;\n",
       "    }\n",
       "\n",
       "    .dataframe tbody tr th {\n",
       "        vertical-align: top;\n",
       "    }\n",
       "\n",
       "    .dataframe thead th {\n",
       "        text-align: right;\n",
       "    }\n",
       "</style>\n",
       "<table border=\"1\" class=\"dataframe\">\n",
       "  <thead>\n",
       "    <tr style=\"text-align: right;\">\n",
       "      <th></th>\n",
       "      <th>carat</th>\n",
       "      <th>depth</th>\n",
       "      <th>table</th>\n",
       "      <th>price</th>\n",
       "      <th>cut_b'Fair'</th>\n",
       "      <th>cut_b'Good'</th>\n",
       "      <th>cut_b'Ideal'</th>\n",
       "      <th>cut_b'Premium'</th>\n",
       "      <th>cut_b'Very Good'</th>\n",
       "      <th>color_b'D'</th>\n",
       "      <th>...</th>\n",
       "      <th>color_b'I'</th>\n",
       "      <th>color_b'J'</th>\n",
       "      <th>clarity_b'I1'</th>\n",
       "      <th>clarity_b'IF'</th>\n",
       "      <th>clarity_b'SI1'</th>\n",
       "      <th>clarity_b'SI2'</th>\n",
       "      <th>clarity_b'VS1'</th>\n",
       "      <th>clarity_b'VS2'</th>\n",
       "      <th>clarity_b'VVS1'</th>\n",
       "      <th>clarity_b'VVS2'</th>\n",
       "    </tr>\n",
       "  </thead>\n",
       "  <tbody>\n",
       "    <tr>\n",
       "      <th>0</th>\n",
       "      <td>-1.405572</td>\n",
       "      <td>-0.156729</td>\n",
       "      <td>-1.120720</td>\n",
       "      <td>-1.038223</td>\n",
       "      <td>-0.197533</td>\n",
       "      <td>-0.342592</td>\n",
       "      <td>1.305138</td>\n",
       "      <td>-0.566777</td>\n",
       "      <td>-0.568675</td>\n",
       "      <td>-0.364344</td>\n",
       "      <td>...</td>\n",
       "      <td>-0.359811</td>\n",
       "      <td>-0.263711</td>\n",
       "      <td>-0.134557</td>\n",
       "      <td>-0.172747</td>\n",
       "      <td>-0.574252</td>\n",
       "      <td>2.004444</td>\n",
       "      <td>-0.421931</td>\n",
       "      <td>-0.510935</td>\n",
       "      <td>-0.254255</td>\n",
       "      <td>-0.308898</td>\n",
       "    </tr>\n",
       "    <tr>\n",
       "      <th>1</th>\n",
       "      <td>-1.447307</td>\n",
       "      <td>-1.265593</td>\n",
       "      <td>1.490024</td>\n",
       "      <td>-1.038223</td>\n",
       "      <td>-0.197533</td>\n",
       "      <td>-0.342592</td>\n",
       "      <td>-0.766202</td>\n",
       "      <td>1.764362</td>\n",
       "      <td>-0.568675</td>\n",
       "      <td>-0.364344</td>\n",
       "      <td>...</td>\n",
       "      <td>-0.359811</td>\n",
       "      <td>-0.263711</td>\n",
       "      <td>-0.134557</td>\n",
       "      <td>-0.172747</td>\n",
       "      <td>1.741395</td>\n",
       "      <td>-0.498891</td>\n",
       "      <td>-0.421931</td>\n",
       "      <td>-0.510935</td>\n",
       "      <td>-0.254255</td>\n",
       "      <td>-0.308898</td>\n",
       "    </tr>\n",
       "    <tr>\n",
       "      <th>2</th>\n",
       "      <td>-1.405572</td>\n",
       "      <td>-3.157185</td>\n",
       "      <td>3.230521</td>\n",
       "      <td>-1.037985</td>\n",
       "      <td>-0.197533</td>\n",
       "      <td>2.918924</td>\n",
       "      <td>-0.766202</td>\n",
       "      <td>-0.566777</td>\n",
       "      <td>-0.568675</td>\n",
       "      <td>-0.364344</td>\n",
       "      <td>...</td>\n",
       "      <td>-0.359811</td>\n",
       "      <td>-0.263711</td>\n",
       "      <td>-0.134557</td>\n",
       "      <td>-0.172747</td>\n",
       "      <td>-0.574252</td>\n",
       "      <td>-0.498891</td>\n",
       "      <td>2.370058</td>\n",
       "      <td>-0.510935</td>\n",
       "      <td>-0.254255</td>\n",
       "      <td>-0.308898</td>\n",
       "    </tr>\n",
       "    <tr>\n",
       "      <th>3</th>\n",
       "      <td>-1.280367</td>\n",
       "      <td>0.430317</td>\n",
       "      <td>0.184652</td>\n",
       "      <td>-1.036319</td>\n",
       "      <td>-0.197533</td>\n",
       "      <td>-0.342592</td>\n",
       "      <td>-0.766202</td>\n",
       "      <td>1.764362</td>\n",
       "      <td>-0.568675</td>\n",
       "      <td>-0.364344</td>\n",
       "      <td>...</td>\n",
       "      <td>2.779237</td>\n",
       "      <td>-0.263711</td>\n",
       "      <td>-0.134557</td>\n",
       "      <td>-0.172747</td>\n",
       "      <td>-0.574252</td>\n",
       "      <td>-0.498891</td>\n",
       "      <td>-0.421931</td>\n",
       "      <td>1.957197</td>\n",
       "      <td>-0.254255</td>\n",
       "      <td>-0.308898</td>\n",
       "    </tr>\n",
       "    <tr>\n",
       "      <th>4</th>\n",
       "      <td>-1.238632</td>\n",
       "      <td>1.017363</td>\n",
       "      <td>0.184652</td>\n",
       "      <td>-1.036081</td>\n",
       "      <td>-0.197533</td>\n",
       "      <td>2.918924</td>\n",
       "      <td>-0.766202</td>\n",
       "      <td>-0.566777</td>\n",
       "      <td>-0.568675</td>\n",
       "      <td>-0.364344</td>\n",
       "      <td>...</td>\n",
       "      <td>-0.359811</td>\n",
       "      <td>3.792031</td>\n",
       "      <td>-0.134557</td>\n",
       "      <td>-0.172747</td>\n",
       "      <td>-0.574252</td>\n",
       "      <td>2.004444</td>\n",
       "      <td>-0.421931</td>\n",
       "      <td>-0.510935</td>\n",
       "      <td>-0.254255</td>\n",
       "      <td>-0.308898</td>\n",
       "    </tr>\n",
       "  </tbody>\n",
       "</table>\n",
       "<p>5 rows × 24 columns</p>\n",
       "</div>"
      ],
      "text/plain": [
       "      carat     depth     table     price  cut_b'Fair'  cut_b'Good'  \\\n",
       "0 -1.405572 -0.156729 -1.120720 -1.038223    -0.197533    -0.342592   \n",
       "1 -1.447307 -1.265593  1.490024 -1.038223    -0.197533    -0.342592   \n",
       "2 -1.405572 -3.157185  3.230521 -1.037985    -0.197533     2.918924   \n",
       "3 -1.280367  0.430317  0.184652 -1.036319    -0.197533    -0.342592   \n",
       "4 -1.238632  1.017363  0.184652 -1.036081    -0.197533     2.918924   \n",
       "\n",
       "   cut_b'Ideal'  cut_b'Premium'  cut_b'Very Good'  color_b'D'  ...  \\\n",
       "0      1.305138       -0.566777         -0.568675   -0.364344  ...   \n",
       "1     -0.766202        1.764362         -0.568675   -0.364344  ...   \n",
       "2     -0.766202       -0.566777         -0.568675   -0.364344  ...   \n",
       "3     -0.766202        1.764362         -0.568675   -0.364344  ...   \n",
       "4     -0.766202       -0.566777         -0.568675   -0.364344  ...   \n",
       "\n",
       "   color_b'I'  color_b'J'  clarity_b'I1'  clarity_b'IF'  clarity_b'SI1'  \\\n",
       "0   -0.359811   -0.263711      -0.134557      -0.172747       -0.574252   \n",
       "1   -0.359811   -0.263711      -0.134557      -0.172747        1.741395   \n",
       "2   -0.359811   -0.263711      -0.134557      -0.172747       -0.574252   \n",
       "3    2.779237   -0.263711      -0.134557      -0.172747       -0.574252   \n",
       "4   -0.359811    3.792031      -0.134557      -0.172747       -0.574252   \n",
       "\n",
       "   clarity_b'SI2'  clarity_b'VS1'  clarity_b'VS2'  clarity_b'VVS1'  \\\n",
       "0        2.004444       -0.421931       -0.510935        -0.254255   \n",
       "1       -0.498891       -0.421931       -0.510935        -0.254255   \n",
       "2       -0.498891        2.370058       -0.510935        -0.254255   \n",
       "3       -0.498891       -0.421931        1.957197        -0.254255   \n",
       "4        2.004444       -0.421931       -0.510935        -0.254255   \n",
       "\n",
       "   clarity_b'VVS2'  \n",
       "0        -0.308898  \n",
       "1        -0.308898  \n",
       "2        -0.308898  \n",
       "3        -0.308898  \n",
       "4        -0.308898  \n",
       "\n",
       "[5 rows x 24 columns]"
      ]
     },
     "execution_count": 59,
     "metadata": {},
     "output_type": "execute_result"
    }
   ],
   "source": [
    "# Import our dependencies\n",
    "from sklearn.model_selection import train_test_split\n",
    "from sklearn.preprocessing import StandardScaler\n",
    "import pandas as pd\n",
    "import tensorflow as tf\n",
    "from sklearn.metrics import r2_score\n",
    "\n",
    "#  Import and read the charity_data.csv.\n",
    "diamond_df = pd.read_csv(\"./Resources/scaled.csv\", index_col=0)\n",
    "diamond_df.head()"
   ]
  },
  {
   "cell_type": "code",
   "execution_count": 60,
   "metadata": {},
   "outputs": [],
   "source": [
    "# Split our preprocessed data into our features and target arrays\n",
    "#try to predict carat\n",
    "\n",
    "y = diamond_df['carat']\n",
    "\n",
    "\n",
    "X = diamond_df.drop('carat', axis=1)\n",
    "\n",
    "\n",
    "# Split the preprocessed data into a training and testing dataset\n",
    "X_train, X_test,y_train,y_test =train_test_split(X,y, random_state=10)"
   ]
  },
  {
   "cell_type": "code",
   "execution_count": 61,
   "metadata": {},
   "outputs": [
    {
     "data": {
      "text/plain": [
       "0       -1.405572\n",
       "1       -1.447307\n",
       "2       -1.405572\n",
       "3       -1.280367\n",
       "4       -1.238632\n",
       "           ...   \n",
       "39751   -0.383065\n",
       "39752   -0.383065\n",
       "39753   -0.424800\n",
       "39754   -0.090921\n",
       "39755   -0.320463\n",
       "Name: carat, Length: 39756, dtype: float64"
      ]
     },
     "execution_count": 61,
     "metadata": {},
     "output_type": "execute_result"
    }
   ],
   "source": [
    "y"
   ]
  },
  {
   "cell_type": "code",
   "execution_count": 62,
   "metadata": {},
   "outputs": [],
   "source": [
    "#The data could be potentially scaled again but there was no need for the scope of the project\n",
    "# Create a StandardScaler instances\n",
    "#scaler = StandardScaler()\n",
    "\n",
    "# Fit the StandardScaler\n",
    "#X_scaler = scaler.fit(X_train)\n",
    "\n",
    "# Scale the data\n",
    "#X_train_scaled = X_scaler.transform(X_train)\n",
    "#X_test_scaled = X_scaler.transform(X_test)"
   ]
  },
  {
   "cell_type": "code",
   "execution_count": 63,
   "metadata": {},
   "outputs": [
    {
     "name": "stdout",
     "output_type": "stream",
     "text": [
      "Model: \"sequential_6\"\n",
      "_________________________________________________________________\n",
      " Layer (type)                Output Shape              Param #   \n",
      "=================================================================\n",
      " dense_24 (Dense)            (None, 10)                240       \n",
      "                                                                 \n",
      " dense_25 (Dense)            (None, 15)                165       \n",
      "                                                                 \n",
      " dense_26 (Dense)            (None, 10)                160       \n",
      "                                                                 \n",
      " dense_27 (Dense)            (None, 1)                 11        \n",
      "                                                                 \n",
      "=================================================================\n",
      "Total params: 576\n",
      "Trainable params: 576\n",
      "Non-trainable params: 0\n",
      "_________________________________________________________________\n"
     ]
    }
   ],
   "source": [
    "# Define the model - deep neural net, i.e., the number of input features and hidden nodes for each layer.\n",
    "\n",
    "diamonds_nn= len(X_train.columns)\n",
    "hidden_node_layer = 10\n",
    "second_hidden_node_layer = 10\n",
    "third_hidden_layer= 15\n",
    "nn = tf.keras.models.Sequential()\n",
    "\n",
    "# First hidden layer\n",
    "nn.add(tf.keras.layers.Dense(units=hidden_node_layer, input_dim=diamonds_nn, activation='linear'))\n",
    "#additional layer\n",
    "nn.add(tf.keras.layers.Dense(units=third_hidden_layer, activation='linear'))\n",
    "# Second hidden layer\n",
    "nn.add(tf.keras.layers.Dense(units=second_hidden_node_layer, activation='linear'))\n",
    "\n",
    "\n",
    "# Output layer\n",
    "nn.add(tf.keras.layers.Dense(units=1, activation='linear'))\n",
    "\n",
    "# Check the structure of the model\n",
    "nn.summary()"
   ]
  },
  {
   "cell_type": "code",
   "execution_count": 64,
   "metadata": {},
   "outputs": [
    {
     "data": {
      "text/plain": [
       "29817"
      ]
     },
     "execution_count": 64,
     "metadata": {},
     "output_type": "execute_result"
    }
   ],
   "source": [
    "len(X_train)"
   ]
  },
  {
   "cell_type": "code",
   "execution_count": 65,
   "metadata": {},
   "outputs": [],
   "source": [
    "# Compile the model\n",
    "#nn.compile(loss='binary_crossentropy', optimizer='adam', metrics=['accuracy'])\n",
    "nn.compile(optimizer='adam',loss='mean_squared_error', metrics=['mean_squared_error'])"
   ]
  },
  {
   "cell_type": "code",
   "execution_count": 66,
   "metadata": {},
   "outputs": [
    {
     "name": "stdout",
     "output_type": "stream",
     "text": [
      "Epoch 1/20\n",
      "932/932 [==============================] - 5s 4ms/step - loss: 0.1644 - mean_squared_error: 0.1644\n",
      "Epoch 2/20\n",
      "932/932 [==============================] - 4s 4ms/step - loss: 0.0784 - mean_squared_error: 0.0784\n",
      "Epoch 3/20\n",
      "932/932 [==============================] - 2s 2ms/step - loss: 0.0781 - mean_squared_error: 0.0781\n",
      "Epoch 4/20\n",
      "932/932 [==============================] - 2s 2ms/step - loss: 0.0780 - mean_squared_error: 0.0780\n",
      "Epoch 5/20\n",
      "932/932 [==============================] - 4s 4ms/step - loss: 0.0780 - mean_squared_error: 0.0780\n",
      "Epoch 6/20\n",
      "932/932 [==============================] - 4s 4ms/step - loss: 0.0779 - mean_squared_error: 0.0779\n",
      "Epoch 7/20\n",
      "932/932 [==============================] - 4s 5ms/step - loss: 0.0776 - mean_squared_error: 0.0776\n",
      "Epoch 8/20\n",
      "932/932 [==============================] - 2s 2ms/step - loss: 0.0772 - mean_squared_error: 0.0772\n",
      "Epoch 9/20\n",
      "932/932 [==============================] - 2s 2ms/step - loss: 0.0771 - mean_squared_error: 0.0771\n",
      "Epoch 10/20\n",
      "932/932 [==============================] - 3s 3ms/step - loss: 0.0766 - mean_squared_error: 0.0766\n",
      "Epoch 11/20\n",
      "932/932 [==============================] - 4s 4ms/step - loss: 0.0766 - mean_squared_error: 0.0766\n",
      "Epoch 12/20\n",
      "932/932 [==============================] - 5s 5ms/step - loss: 0.0765 - mean_squared_error: 0.0765\n",
      "Epoch 13/20\n",
      "932/932 [==============================] - 4s 4ms/step - loss: 0.0763 - mean_squared_error: 0.0763\n",
      "Epoch 14/20\n",
      "932/932 [==============================] - 3s 3ms/step - loss: 0.0762 - mean_squared_error: 0.0762\n",
      "Epoch 15/20\n",
      "932/932 [==============================] - 3s 3ms/step - loss: 0.0760 - mean_squared_error: 0.0760\n",
      "Epoch 16/20\n",
      "932/932 [==============================] - 3s 3ms/step - loss: 0.0761 - mean_squared_error: 0.0761\n",
      "Epoch 17/20\n",
      "932/932 [==============================] - 3s 3ms/step - loss: 0.0763 - mean_squared_error: 0.0763\n",
      "Epoch 18/20\n",
      "932/932 [==============================] - 3s 3ms/step - loss: 0.0762 - mean_squared_error: 0.0762\n",
      "Epoch 19/20\n",
      "932/932 [==============================] - 3s 4ms/step - loss: 0.0758 - mean_squared_error: 0.0758\n",
      "Epoch 20/20\n",
      "932/932 [==============================] - 5s 5ms/step - loss: 0.0761 - mean_squared_error: 0.0761\n"
     ]
    }
   ],
   "source": [
    "# Train the model\n",
    "trained_model = nn.fit(X_train, y_train, epochs=20)\n"
   ]
  },
  {
   "cell_type": "code",
   "execution_count": 67,
   "metadata": {},
   "outputs": [
    {
     "name": "stdout",
     "output_type": "stream",
     "text": [
      "311/311 [==============================] - 1s 2ms/step\n"
     ]
    }
   ],
   "source": [
    "prediction = nn.predict(X_test)"
   ]
  },
  {
   "cell_type": "code",
   "execution_count": 68,
   "metadata": {},
   "outputs": [
    {
     "data": {
      "text/plain": [
       "0.9169334454379382"
      ]
     },
     "execution_count": 68,
     "metadata": {},
     "output_type": "execute_result"
    }
   ],
   "source": [
    "\n",
    "r2_score(y_test, prediction)\n"
   ]
  },
  {
   "cell_type": "code",
   "execution_count": 69,
   "metadata": {},
   "outputs": [
    {
     "name": "stdout",
     "output_type": "stream",
     "text": [
      "311/311 - 1s - loss: 0.0820 - mean_squared_error: 0.0820 - 834ms/epoch - 3ms/step\n",
      "Loss: 0.08196882903575897, Mean Squared Error: 0.08196882903575897\n"
     ]
    }
   ],
   "source": [
    "# Evaluate the model using the test data\n",
    "model_loss, model_accuracy = nn.evaluate(X_test,y_test,verbose=2)\n",
    "print(f\"Loss: {model_loss}, Mean Squared Error: {model_accuracy}\")"
   ]
  },
  {
   "attachments": {},
   "cell_type": "markdown",
   "metadata": {},
   "source": [
    "# Prediction model 2"
   ]
  },
  {
   "cell_type": "code",
   "execution_count": 70,
   "metadata": {},
   "outputs": [],
   "source": [
    "# Split our preprocessed data into our features and target arrays\n",
    "y = diamond_df['depth']\n",
    "y\n",
    "\n",
    "X = diamond_df.drop('depth', axis=1)\n",
    "X\n",
    "\n",
    "# Split the preprocessed data into a training and testing dataset\n",
    "X_train, X_test,y_train,y_test =train_test_split(X,y, random_state=10)"
   ]
  },
  {
   "cell_type": "code",
   "execution_count": 71,
   "metadata": {},
   "outputs": [],
   "source": [
    "#The data could be potentially scaled again but there was no need for the scope of the project\n",
    "# Create a StandardScaler instances\n",
    "#scaler = StandardScaler()\n",
    "\n",
    "# Fit the StandardScaler\n",
    "#X_scaler = scaler.fit(X_train)\n",
    "\n",
    "# Scale the data\n",
    "#X_train_scaled = X_scaler.transform(X_train)\n",
    "#X_test_scaled = X_scaler.transform(X_test)"
   ]
  },
  {
   "cell_type": "code",
   "execution_count": 72,
   "metadata": {},
   "outputs": [
    {
     "name": "stdout",
     "output_type": "stream",
     "text": [
      "Model: \"sequential_7\"\n",
      "_________________________________________________________________\n",
      " Layer (type)                Output Shape              Param #   \n",
      "=================================================================\n",
      " dense_28 (Dense)            (None, 10)                240       \n",
      "                                                                 \n",
      " dense_29 (Dense)            (None, 15)                165       \n",
      "                                                                 \n",
      " dense_30 (Dense)            (None, 10)                160       \n",
      "                                                                 \n",
      " dense_31 (Dense)            (None, 1)                 11        \n",
      "                                                                 \n",
      "=================================================================\n",
      "Total params: 576\n",
      "Trainable params: 576\n",
      "Non-trainable params: 0\n",
      "_________________________________________________________________\n"
     ]
    }
   ],
   "source": [
    "\n",
    "# Define the model - deep neural net, i.e., the number of input features and hidden nodes for each layer.\n",
    "\n",
    "diamonds_nn= len(X_train.columns)\n",
    "hidden_node_layer = 10\n",
    "second_hidden_node_layer = 10\n",
    "third_hidden_layer= 15\n",
    "nn = tf.keras.models.Sequential()\n",
    "\n",
    "# First hidden layer\n",
    "nn.add(tf.keras.layers.Dense(units=hidden_node_layer, input_dim=diamonds_nn, activation='relu'))\n",
    "#additional layer\n",
    "nn.add(tf.keras.layers.Dense(units=third_hidden_layer, activation='relu'))\n",
    "# Second hidden layer\n",
    "nn.add(tf.keras.layers.Dense(units=second_hidden_node_layer, activation='relu'))\n",
    "\n",
    "\n",
    "# Output layer\n",
    "nn.add(tf.keras.layers.Dense(units=1, activation='linear'))\n",
    "\n",
    "# Check the structure of the model\n",
    "nn.summary()"
   ]
  },
  {
   "cell_type": "code",
   "execution_count": 73,
   "metadata": {},
   "outputs": [],
   "source": [
    "# Compile the model\n",
    "#nn.compile(loss='binary_crossentropy', optimizer='adam', metrics=['accuracy'])\n",
    "nn.compile(optimizer='adam',loss='mean_squared_error', metrics=['mean_squared_error'])"
   ]
  },
  {
   "cell_type": "code",
   "execution_count": 74,
   "metadata": {},
   "outputs": [
    {
     "name": "stdout",
     "output_type": "stream",
     "text": [
      "Epoch 1/20\n",
      "932/932 [==============================] - 4s 2ms/step - loss: 0.8778 - mean_squared_error: 0.8778\n",
      "Epoch 2/20\n",
      "932/932 [==============================] - 2s 2ms/step - loss: 0.7299 - mean_squared_error: 0.7299\n",
      "Epoch 3/20\n",
      "932/932 [==============================] - 2s 2ms/step - loss: 0.7117 - mean_squared_error: 0.7117\n",
      "Epoch 4/20\n",
      "932/932 [==============================] - 2s 2ms/step - loss: 0.7048 - mean_squared_error: 0.7048\n",
      "Epoch 5/20\n",
      "932/932 [==============================] - 2s 2ms/step - loss: 0.6994 - mean_squared_error: 0.6994\n",
      "Epoch 6/20\n",
      "932/932 [==============================] - 2s 2ms/step - loss: 0.6970 - mean_squared_error: 0.6970\n",
      "Epoch 7/20\n",
      "932/932 [==============================] - 2s 2ms/step - loss: 0.6942 - mean_squared_error: 0.6942\n",
      "Epoch 8/20\n",
      "932/932 [==============================] - 2s 2ms/step - loss: 0.6928 - mean_squared_error: 0.6928\n",
      "Epoch 9/20\n",
      "932/932 [==============================] - 2s 2ms/step - loss: 0.6899 - mean_squared_error: 0.6899\n",
      "Epoch 10/20\n",
      "932/932 [==============================] - 3s 3ms/step - loss: 0.6896 - mean_squared_error: 0.6896\n",
      "Epoch 11/20\n",
      "932/932 [==============================] - 4s 4ms/step - loss: 0.6882 - mean_squared_error: 0.6882\n",
      "Epoch 12/20\n",
      "932/932 [==============================] - 4s 5ms/step - loss: 0.6869 - mean_squared_error: 0.6869\n",
      "Epoch 13/20\n",
      "932/932 [==============================] - 4s 4ms/step - loss: 0.6875 - mean_squared_error: 0.6875\n",
      "Epoch 14/20\n",
      "932/932 [==============================] - 3s 3ms/step - loss: 0.6875 - mean_squared_error: 0.6875\n",
      "Epoch 15/20\n",
      "932/932 [==============================] - 4s 4ms/step - loss: 0.6838 - mean_squared_error: 0.6838\n",
      "Epoch 16/20\n",
      "932/932 [==============================] - 3s 3ms/step - loss: 0.6840 - mean_squared_error: 0.6840\n",
      "Epoch 17/20\n",
      "932/932 [==============================] - 2s 2ms/step - loss: 0.6822 - mean_squared_error: 0.6822\n",
      "Epoch 18/20\n",
      "932/932 [==============================] - 2s 2ms/step - loss: 0.6812 - mean_squared_error: 0.6812\n",
      "Epoch 19/20\n",
      "932/932 [==============================] - 2s 2ms/step - loss: 0.6800 - mean_squared_error: 0.6800\n",
      "Epoch 20/20\n",
      "932/932 [==============================] - 2s 2ms/step - loss: 0.6794 - mean_squared_error: 0.6794\n"
     ]
    }
   ],
   "source": [
    "# Train the model\n",
    "trained_model = nn.fit(X_train, y_train, epochs=20)"
   ]
  },
  {
   "cell_type": "code",
   "execution_count": 75,
   "metadata": {},
   "outputs": [
    {
     "name": "stdout",
     "output_type": "stream",
     "text": [
      "311/311 [==============================] - 1s 2ms/step\n"
     ]
    }
   ],
   "source": [
    "prediction = nn.predict(X_test)\n"
   ]
  },
  {
   "cell_type": "code",
   "execution_count": 76,
   "metadata": {},
   "outputs": [
    {
     "data": {
      "text/plain": [
       "0.3304603364058186"
      ]
     },
     "execution_count": 76,
     "metadata": {},
     "output_type": "execute_result"
    }
   ],
   "source": [
    "r2_score(y_test, prediction)"
   ]
  },
  {
   "cell_type": "code",
   "execution_count": 77,
   "metadata": {},
   "outputs": [
    {
     "name": "stdout",
     "output_type": "stream",
     "text": [
      "311/311 - 1s - loss: 0.6403 - mean_squared_error: 0.6403 - 822ms/epoch - 3ms/step\n",
      "Loss: 0.6403188109397888, Mean Squared Error: 0.6403188109397888\n"
     ]
    }
   ],
   "source": [
    "# Evaluate the model using the test data\n",
    "model_loss, model_accuracy = nn.evaluate(X_test,y_test,verbose=2)\n",
    "print(f\"Loss: {model_loss}, Mean Squared Error: {model_accuracy}\")"
   ]
  }
 ],
 "metadata": {
  "kernelspec": {
   "display_name": "Python 3",
   "language": "python",
   "name": "python3"
  },
  "language_info": {
   "codemirror_mode": {
    "name": "ipython",
    "version": 3
   },
   "file_extension": ".py",
   "mimetype": "text/x-python",
   "name": "python",
   "nbconvert_exporter": "python",
   "pygments_lexer": "ipython3",
   "version": "3.10.0"
  },
  "orig_nbformat": 4
 },
 "nbformat": 4,
 "nbformat_minor": 2
}
