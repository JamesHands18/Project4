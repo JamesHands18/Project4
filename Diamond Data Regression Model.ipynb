{
 "cells": [
  {
   "cell_type": "code",
   "execution_count": 1,
   "id": "d5854d84",
   "metadata": {},
   "outputs": [],
   "source": [
    "#Depencies + extras in case\n",
    "import matplotlib.pyplot as plt\n",
    "import matplotlib\n",
    "import pandas as pd\n",
    "import numpy as np\n",
    "from sklearn import linear_model\n",
    "from sklearn.metrics import mean_squared_error,r2_score\n",
    "import sklearn as skl\n",
    "from sklearn.preprocessing import StandardScaler,OneHotEncoder\n",
    "from sklearn.linear_model import LogisticRegression\n",
    "from sklearn.model_selection import train_test_split\n",
    "from sklearn.metrics import accuracy_score,confusion_matrix, classification_report\n",
    "import seaborn as sns\n",
    "import os\n"
   ]
  },
  {
   "cell_type": "code",
   "execution_count": 2,
   "id": "4c5a3b83",
   "metadata": {},
   "outputs": [
    {
     "data": {
      "text/html": [
       "<div>\n",
       "<style scoped>\n",
       "    .dataframe tbody tr th:only-of-type {\n",
       "        vertical-align: middle;\n",
       "    }\n",
       "\n",
       "    .dataframe tbody tr th {\n",
       "        vertical-align: top;\n",
       "    }\n",
       "\n",
       "    .dataframe thead th {\n",
       "        text-align: right;\n",
       "    }\n",
       "</style>\n",
       "<table border=\"1\" class=\"dataframe\">\n",
       "  <thead>\n",
       "    <tr style=\"text-align: right;\">\n",
       "      <th></th>\n",
       "      <th>Unnamed: 0</th>\n",
       "      <th>carat</th>\n",
       "      <th>depth</th>\n",
       "      <th>table</th>\n",
       "      <th>price</th>\n",
       "      <th>cut_Fair</th>\n",
       "      <th>cut_Good</th>\n",
       "      <th>cut_Ideal</th>\n",
       "      <th>cut_Premium</th>\n",
       "      <th>cut_Very Good</th>\n",
       "      <th>...</th>\n",
       "      <th>color_I</th>\n",
       "      <th>color_J</th>\n",
       "      <th>clarity_I1</th>\n",
       "      <th>clarity_IF</th>\n",
       "      <th>clarity_SI1</th>\n",
       "      <th>clarity_SI2</th>\n",
       "      <th>clarity_VS1</th>\n",
       "      <th>clarity_VS2</th>\n",
       "      <th>clarity_VVS1</th>\n",
       "      <th>clarity_VVS2</th>\n",
       "    </tr>\n",
       "  </thead>\n",
       "  <tbody>\n",
       "    <tr>\n",
       "      <th>0</th>\n",
       "      <td>0</td>\n",
       "      <td>0.23</td>\n",
       "      <td>61.5</td>\n",
       "      <td>55.0</td>\n",
       "      <td>326</td>\n",
       "      <td>0</td>\n",
       "      <td>0</td>\n",
       "      <td>1</td>\n",
       "      <td>0</td>\n",
       "      <td>0</td>\n",
       "      <td>...</td>\n",
       "      <td>0</td>\n",
       "      <td>0</td>\n",
       "      <td>0</td>\n",
       "      <td>0</td>\n",
       "      <td>0</td>\n",
       "      <td>1</td>\n",
       "      <td>0</td>\n",
       "      <td>0</td>\n",
       "      <td>0</td>\n",
       "      <td>0</td>\n",
       "    </tr>\n",
       "    <tr>\n",
       "      <th>1</th>\n",
       "      <td>1</td>\n",
       "      <td>0.21</td>\n",
       "      <td>59.8</td>\n",
       "      <td>61.0</td>\n",
       "      <td>326</td>\n",
       "      <td>0</td>\n",
       "      <td>0</td>\n",
       "      <td>0</td>\n",
       "      <td>1</td>\n",
       "      <td>0</td>\n",
       "      <td>...</td>\n",
       "      <td>0</td>\n",
       "      <td>0</td>\n",
       "      <td>0</td>\n",
       "      <td>0</td>\n",
       "      <td>1</td>\n",
       "      <td>0</td>\n",
       "      <td>0</td>\n",
       "      <td>0</td>\n",
       "      <td>0</td>\n",
       "      <td>0</td>\n",
       "    </tr>\n",
       "    <tr>\n",
       "      <th>2</th>\n",
       "      <td>2</td>\n",
       "      <td>0.23</td>\n",
       "      <td>56.9</td>\n",
       "      <td>65.0</td>\n",
       "      <td>327</td>\n",
       "      <td>0</td>\n",
       "      <td>1</td>\n",
       "      <td>0</td>\n",
       "      <td>0</td>\n",
       "      <td>0</td>\n",
       "      <td>...</td>\n",
       "      <td>0</td>\n",
       "      <td>0</td>\n",
       "      <td>0</td>\n",
       "      <td>0</td>\n",
       "      <td>0</td>\n",
       "      <td>0</td>\n",
       "      <td>1</td>\n",
       "      <td>0</td>\n",
       "      <td>0</td>\n",
       "      <td>0</td>\n",
       "    </tr>\n",
       "    <tr>\n",
       "      <th>3</th>\n",
       "      <td>3</td>\n",
       "      <td>0.29</td>\n",
       "      <td>62.4</td>\n",
       "      <td>58.0</td>\n",
       "      <td>334</td>\n",
       "      <td>0</td>\n",
       "      <td>0</td>\n",
       "      <td>0</td>\n",
       "      <td>1</td>\n",
       "      <td>0</td>\n",
       "      <td>...</td>\n",
       "      <td>1</td>\n",
       "      <td>0</td>\n",
       "      <td>0</td>\n",
       "      <td>0</td>\n",
       "      <td>0</td>\n",
       "      <td>0</td>\n",
       "      <td>0</td>\n",
       "      <td>1</td>\n",
       "      <td>0</td>\n",
       "      <td>0</td>\n",
       "    </tr>\n",
       "    <tr>\n",
       "      <th>4</th>\n",
       "      <td>4</td>\n",
       "      <td>0.31</td>\n",
       "      <td>63.3</td>\n",
       "      <td>58.0</td>\n",
       "      <td>335</td>\n",
       "      <td>0</td>\n",
       "      <td>1</td>\n",
       "      <td>0</td>\n",
       "      <td>0</td>\n",
       "      <td>0</td>\n",
       "      <td>...</td>\n",
       "      <td>0</td>\n",
       "      <td>1</td>\n",
       "      <td>0</td>\n",
       "      <td>0</td>\n",
       "      <td>0</td>\n",
       "      <td>1</td>\n",
       "      <td>0</td>\n",
       "      <td>0</td>\n",
       "      <td>0</td>\n",
       "      <td>0</td>\n",
       "    </tr>\n",
       "    <tr>\n",
       "      <th>...</th>\n",
       "      <td>...</td>\n",
       "      <td>...</td>\n",
       "      <td>...</td>\n",
       "      <td>...</td>\n",
       "      <td>...</td>\n",
       "      <td>...</td>\n",
       "      <td>...</td>\n",
       "      <td>...</td>\n",
       "      <td>...</td>\n",
       "      <td>...</td>\n",
       "      <td>...</td>\n",
       "      <td>...</td>\n",
       "      <td>...</td>\n",
       "      <td>...</td>\n",
       "      <td>...</td>\n",
       "      <td>...</td>\n",
       "      <td>...</td>\n",
       "      <td>...</td>\n",
       "      <td>...</td>\n",
       "      <td>...</td>\n",
       "      <td>...</td>\n",
       "    </tr>\n",
       "    <tr>\n",
       "      <th>39751</th>\n",
       "      <td>39751</td>\n",
       "      <td>0.72</td>\n",
       "      <td>60.8</td>\n",
       "      <td>57.0</td>\n",
       "      <td>2757</td>\n",
       "      <td>0</td>\n",
       "      <td>0</td>\n",
       "      <td>1</td>\n",
       "      <td>0</td>\n",
       "      <td>0</td>\n",
       "      <td>...</td>\n",
       "      <td>0</td>\n",
       "      <td>0</td>\n",
       "      <td>0</td>\n",
       "      <td>0</td>\n",
       "      <td>1</td>\n",
       "      <td>0</td>\n",
       "      <td>0</td>\n",
       "      <td>0</td>\n",
       "      <td>0</td>\n",
       "      <td>0</td>\n",
       "    </tr>\n",
       "    <tr>\n",
       "      <th>39752</th>\n",
       "      <td>39752</td>\n",
       "      <td>0.72</td>\n",
       "      <td>63.1</td>\n",
       "      <td>55.0</td>\n",
       "      <td>2757</td>\n",
       "      <td>0</td>\n",
       "      <td>1</td>\n",
       "      <td>0</td>\n",
       "      <td>0</td>\n",
       "      <td>0</td>\n",
       "      <td>...</td>\n",
       "      <td>0</td>\n",
       "      <td>0</td>\n",
       "      <td>0</td>\n",
       "      <td>0</td>\n",
       "      <td>1</td>\n",
       "      <td>0</td>\n",
       "      <td>0</td>\n",
       "      <td>0</td>\n",
       "      <td>0</td>\n",
       "      <td>0</td>\n",
       "    </tr>\n",
       "    <tr>\n",
       "      <th>39753</th>\n",
       "      <td>39753</td>\n",
       "      <td>0.70</td>\n",
       "      <td>62.8</td>\n",
       "      <td>60.0</td>\n",
       "      <td>2757</td>\n",
       "      <td>0</td>\n",
       "      <td>0</td>\n",
       "      <td>0</td>\n",
       "      <td>0</td>\n",
       "      <td>1</td>\n",
       "      <td>...</td>\n",
       "      <td>0</td>\n",
       "      <td>0</td>\n",
       "      <td>0</td>\n",
       "      <td>0</td>\n",
       "      <td>1</td>\n",
       "      <td>0</td>\n",
       "      <td>0</td>\n",
       "      <td>0</td>\n",
       "      <td>0</td>\n",
       "      <td>0</td>\n",
       "    </tr>\n",
       "    <tr>\n",
       "      <th>39754</th>\n",
       "      <td>39754</td>\n",
       "      <td>0.86</td>\n",
       "      <td>61.0</td>\n",
       "      <td>58.0</td>\n",
       "      <td>2757</td>\n",
       "      <td>0</td>\n",
       "      <td>0</td>\n",
       "      <td>0</td>\n",
       "      <td>1</td>\n",
       "      <td>0</td>\n",
       "      <td>...</td>\n",
       "      <td>0</td>\n",
       "      <td>0</td>\n",
       "      <td>0</td>\n",
       "      <td>0</td>\n",
       "      <td>0</td>\n",
       "      <td>1</td>\n",
       "      <td>0</td>\n",
       "      <td>0</td>\n",
       "      <td>0</td>\n",
       "      <td>0</td>\n",
       "    </tr>\n",
       "    <tr>\n",
       "      <th>39755</th>\n",
       "      <td>39755</td>\n",
       "      <td>0.75</td>\n",
       "      <td>62.2</td>\n",
       "      <td>55.0</td>\n",
       "      <td>2757</td>\n",
       "      <td>0</td>\n",
       "      <td>0</td>\n",
       "      <td>1</td>\n",
       "      <td>0</td>\n",
       "      <td>0</td>\n",
       "      <td>...</td>\n",
       "      <td>0</td>\n",
       "      <td>0</td>\n",
       "      <td>0</td>\n",
       "      <td>0</td>\n",
       "      <td>0</td>\n",
       "      <td>1</td>\n",
       "      <td>0</td>\n",
       "      <td>0</td>\n",
       "      <td>0</td>\n",
       "      <td>0</td>\n",
       "    </tr>\n",
       "  </tbody>\n",
       "</table>\n",
       "<p>39756 rows × 25 columns</p>\n",
       "</div>"
      ],
      "text/plain": [
       "       Unnamed: 0  carat  depth  table  price  cut_Fair  cut_Good  cut_Ideal  \\\n",
       "0               0   0.23   61.5   55.0    326         0         0          1   \n",
       "1               1   0.21   59.8   61.0    326         0         0          0   \n",
       "2               2   0.23   56.9   65.0    327         0         1          0   \n",
       "3               3   0.29   62.4   58.0    334         0         0          0   \n",
       "4               4   0.31   63.3   58.0    335         0         1          0   \n",
       "...           ...    ...    ...    ...    ...       ...       ...        ...   \n",
       "39751       39751   0.72   60.8   57.0   2757         0         0          1   \n",
       "39752       39752   0.72   63.1   55.0   2757         0         1          0   \n",
       "39753       39753   0.70   62.8   60.0   2757         0         0          0   \n",
       "39754       39754   0.86   61.0   58.0   2757         0         0          0   \n",
       "39755       39755   0.75   62.2   55.0   2757         0         0          1   \n",
       "\n",
       "       cut_Premium  cut_Very Good  ...  color_I  color_J  clarity_I1  \\\n",
       "0                0              0  ...        0        0           0   \n",
       "1                1              0  ...        0        0           0   \n",
       "2                0              0  ...        0        0           0   \n",
       "3                1              0  ...        1        0           0   \n",
       "4                0              0  ...        0        1           0   \n",
       "...            ...            ...  ...      ...      ...         ...   \n",
       "39751            0              0  ...        0        0           0   \n",
       "39752            0              0  ...        0        0           0   \n",
       "39753            0              1  ...        0        0           0   \n",
       "39754            1              0  ...        0        0           0   \n",
       "39755            0              0  ...        0        0           0   \n",
       "\n",
       "       clarity_IF  clarity_SI1  clarity_SI2  clarity_VS1  clarity_VS2  \\\n",
       "0               0            0            1            0            0   \n",
       "1               0            1            0            0            0   \n",
       "2               0            0            0            1            0   \n",
       "3               0            0            0            0            1   \n",
       "4               0            0            1            0            0   \n",
       "...           ...          ...          ...          ...          ...   \n",
       "39751           0            1            0            0            0   \n",
       "39752           0            1            0            0            0   \n",
       "39753           0            1            0            0            0   \n",
       "39754           0            0            1            0            0   \n",
       "39755           0            0            1            0            0   \n",
       "\n",
       "       clarity_VVS1  clarity_VVS2  \n",
       "0                 0             0  \n",
       "1                 0             0  \n",
       "2                 0             0  \n",
       "3                 0             0  \n",
       "4                 0             0  \n",
       "...             ...           ...  \n",
       "39751             0             0  \n",
       "39752             0             0  \n",
       "39753             0             0  \n",
       "39754             0             0  \n",
       "39755             0             0  \n",
       "\n",
       "[39756 rows x 25 columns]"
      ]
     },
     "execution_count": 2,
     "metadata": {},
     "output_type": "execute_result"
    }
   ],
   "source": [
    "scaled_df = pd.read_csv('scaled_data.csv')\n",
    "scaled_df"
   ]
  },
  {
   "cell_type": "code",
   "execution_count": 28,
   "id": "76e4018c",
   "metadata": {},
   "outputs": [
    {
     "name": "stdout",
     "output_type": "stream",
     "text": [
      "Unnamed: 0       0\n",
      "carat            0\n",
      "depth            0\n",
      "table            0\n",
      "price            0\n",
      "cut_Fair         0\n",
      "cut_Good         0\n",
      "cut_Ideal        0\n",
      "cut_Premium      0\n",
      "cut_Very Good    0\n",
      "color_D          0\n",
      "color_E          0\n",
      "color_F          0\n",
      "color_G          0\n",
      "color_H          0\n",
      "color_I          0\n",
      "color_J          0\n",
      "clarity_I1       0\n",
      "clarity_IF       0\n",
      "clarity_SI1      0\n",
      "clarity_SI2      0\n",
      "clarity_VS1      0\n",
      "clarity_VS2      0\n",
      "clarity_VVS1     0\n",
      "clarity_VVS2     0\n",
      "dtype: int64\n",
      "<class 'pandas.core.frame.DataFrame'>\n",
      "RangeIndex: 39756 entries, 0 to 39755\n",
      "Data columns (total 25 columns):\n",
      " #   Column         Non-Null Count  Dtype  \n",
      "---  ------         --------------  -----  \n",
      " 0   Unnamed: 0     39756 non-null  int64  \n",
      " 1   carat          39756 non-null  float64\n",
      " 2   depth          39756 non-null  float64\n",
      " 3   table          39756 non-null  float64\n",
      " 4   price          39756 non-null  int64  \n",
      " 5   cut_Fair       39756 non-null  int64  \n",
      " 6   cut_Good       39756 non-null  int64  \n",
      " 7   cut_Ideal      39756 non-null  int64  \n",
      " 8   cut_Premium    39756 non-null  int64  \n",
      " 9   cut_Very Good  39756 non-null  int64  \n",
      " 10  color_D        39756 non-null  int64  \n",
      " 11  color_E        39756 non-null  int64  \n",
      " 12  color_F        39756 non-null  int64  \n",
      " 13  color_G        39756 non-null  int64  \n",
      " 14  color_H        39756 non-null  int64  \n",
      " 15  color_I        39756 non-null  int64  \n",
      " 16  color_J        39756 non-null  int64  \n",
      " 17  clarity_I1     39756 non-null  int64  \n",
      " 18  clarity_IF     39756 non-null  int64  \n",
      " 19  clarity_SI1    39756 non-null  int64  \n",
      " 20  clarity_SI2    39756 non-null  int64  \n",
      " 21  clarity_VS1    39756 non-null  int64  \n",
      " 22  clarity_VS2    39756 non-null  int64  \n",
      " 23  clarity_VVS1   39756 non-null  int64  \n",
      " 24  clarity_VVS2   39756 non-null  int64  \n",
      "dtypes: float64(3), int64(22)\n",
      "memory usage: 7.6 MB\n"
     ]
    }
   ],
   "source": [
    "# double checking for null values\n",
    "scaled_df.dropna()\n",
    "print(scaled_df.isnull().sum())\n",
    "scaled_df.info()"
   ]
  },
  {
   "cell_type": "markdown",
   "id": "b3e545b6",
   "metadata": {},
   "source": [
    "# Linear Regression Model\n"
   ]
  },
  {
   "cell_type": "markdown",
   "id": "cd539bc0",
   "metadata": {},
   "source": [
    "### Create Y and x matrices"
   ]
  },
  {
   "cell_type": "code",
   "execution_count": 3,
   "id": "23ad2eb1",
   "metadata": {},
   "outputs": [],
   "source": [
    "X = scaled_df.drop(columns=['price'])\n",
    "y= scaled_df['price']\n"
   ]
  },
  {
   "cell_type": "code",
   "execution_count": 4,
   "id": "df640bd8",
   "metadata": {},
   "outputs": [
    {
     "data": {
      "text/plain": [
       "((39756, 24), (39756,))"
      ]
     },
     "execution_count": 4,
     "metadata": {},
     "output_type": "execute_result"
    }
   ],
   "source": [
    "X.shape,y.shape"
   ]
  },
  {
   "cell_type": "markdown",
   "id": "bb9c2527",
   "metadata": {},
   "source": [
    "# Splitting the data"
   ]
  },
  {
   "cell_type": "code",
   "execution_count": 5,
   "id": "45f1e34a",
   "metadata": {},
   "outputs": [],
   "source": [
    "X_train, X_test,y_train,y_test= train_test_split(X,y,test_size= 0.20)"
   ]
  },
  {
   "cell_type": "markdown",
   "id": "a799333f",
   "metadata": {},
   "source": [
    "### Reviewing our data's dimensions after split"
   ]
  },
  {
   "cell_type": "code",
   "execution_count": 6,
   "id": "71282852",
   "metadata": {},
   "outputs": [
    {
     "data": {
      "text/plain": [
       "((31804, 24), (7952, 24))"
      ]
     },
     "execution_count": 6,
     "metadata": {},
     "output_type": "execute_result"
    }
   ],
   "source": [
    "# for x\n",
    "X_train.shape,X_test.shape"
   ]
  },
  {
   "cell_type": "code",
   "execution_count": 7,
   "id": "7f38d893",
   "metadata": {},
   "outputs": [
    {
     "data": {
      "text/plain": [
       "((31804,), (7952,))"
      ]
     },
     "execution_count": 7,
     "metadata": {},
     "output_type": "execute_result"
    }
   ],
   "source": [
    "# for y\n",
    "y_train.shape,y_test.shape"
   ]
  },
  {
   "cell_type": "markdown",
   "id": "9e09083e",
   "metadata": {},
   "source": [
    "## The Model"
   ]
  },
  {
   "cell_type": "code",
   "execution_count": 8,
   "id": "df3f02c5",
   "metadata": {},
   "outputs": [],
   "source": [
    "#dependencies\n",
    "from sklearn import linear_model\n",
    "from sklearn.metrics import mean_squared_error,r2_score"
   ]
  },
  {
   "cell_type": "markdown",
   "id": "6aaf9433",
   "metadata": {},
   "source": [
    "creating and defining the Lin_regres model"
   ]
  },
  {
   "cell_type": "code",
   "execution_count": 9,
   "id": "50244539",
   "metadata": {},
   "outputs": [],
   "source": [
    "model = linear_model.LinearRegression()"
   ]
  },
  {
   "cell_type": "markdown",
   "id": "6872809f",
   "metadata": {},
   "source": [
    "Building training model"
   ]
  },
  {
   "cell_type": "code",
   "execution_count": 10,
   "id": "8fe5656c",
   "metadata": {},
   "outputs": [
    {
     "data": {
      "text/plain": [
       "LinearRegression()"
      ]
     },
     "execution_count": 10,
     "metadata": {},
     "output_type": "execute_result"
    }
   ],
   "source": [
    "model.fit(X_train, y_train)"
   ]
  },
  {
   "cell_type": "markdown",
   "id": "22eef4b4",
   "metadata": {},
   "source": [
    "applying trained model on our test dataset"
   ]
  },
  {
   "cell_type": "code",
   "execution_count": 11,
   "id": "9c0cc7b8",
   "metadata": {},
   "outputs": [],
   "source": [
    "y_pred = model.predict(X_test)"
   ]
  },
  {
   "cell_type": "markdown",
   "id": "2770cf79",
   "metadata": {},
   "source": [
    "Perfomance test to see how our model is perfoming so far"
   ]
  },
  {
   "cell_type": "code",
   "execution_count": 12,
   "id": "95a00184",
   "metadata": {},
   "outputs": [
    {
     "name": "stdout",
     "output_type": "stream",
     "text": [
      "Coefficients: [ 2.04137911e-02  9.30172996e+03 -3.30496778e+01 -2.91391529e+01\n",
      " -5.56759049e+02  2.08564587e+01  2.80144775e+02  1.01418744e+02\n",
      "  1.54339071e+02  8.70623197e+02  6.92789493e+02  6.04738564e+02\n",
      "  3.52728068e+02 -2.16644208e+02 -7.28224889e+02 -1.57601023e+03\n",
      " -3.90073123e+03  1.79858508e+03 -3.12980564e+02 -1.24091490e+03\n",
      "  7.00064211e+02  3.59388293e+02  1.36382985e+03  1.23275925e+03]\n",
      "Intercept: -754.4270019584828\n",
      "Mean Squared Error(MSE): 1606434.44\n",
      "Coefficient of Determination (R^2): 0.91\n"
     ]
    }
   ],
   "source": [
    "print('Coefficients:',model.coef_)\n",
    "print('Intercept:', model.intercept_)\n",
    "print('Mean Squared Error(MSE): %.2f'\n",
    "      % mean_squared_error(y_test,y_pred))\n",
    "print('Coefficient of Determination (R^2): %.2f'\n",
    "      % r2_score(y_test,y_pred))"
   ]
  },
  {
   "cell_type": "markdown",
   "id": "70385b43",
   "metadata": {},
   "source": [
    "# "
   ]
  },
  {
   "cell_type": "markdown",
   "id": "c57611fb",
   "metadata": {},
   "source": [
    "Some plots to show how a couple of the features have a direct effect on the price "
   ]
  },
  {
   "cell_type": "code",
   "execution_count": 24,
   "id": "17537a37",
   "metadata": {},
   "outputs": [],
   "source": [
    "#setting up for the plot \n",
    "diamond_flag = (scaled_df['carat'] >= 0.80) & (scaled_df['carat'] <= 0.99)\n",
    "diamonds_sml = scaled_df.loc[diamond_flag,:]\n"
   ]
  },
  {
   "cell_type": "code",
   "execution_count": 25,
   "id": "a6062836",
   "metadata": {},
   "outputs": [
    {
     "data": {
      "image/png": "[encoded data removed]",
      "text/plain": [
       "<Figure size 576x432 with 1 Axes>"
      ]
     },
     "metadata": {
      "needs_background": "light"
     },
     "output_type": "display_data"
    }
   ],
   "source": [
    "#Price VS Carat plot\n",
    "fig = plt.figure(figsize = [8,6])\n",
    "ax = sns.pointplot(data = diamonds_sml, x = 'carat', y = 'price',\n",
    "           palette = 'Blues', linestyles = '', dodge = 0.4)\n",
    "plt.title('Diamond Price Vs Carat')\n",
    "plt.ylabel('Price (£)')\n",
    "plt.xlabel('Carat')\n",
    "plt.yscale('log')\n",
    "plt.yticks([3e3, 4e3, 5e3,6e3,7e3], ['3000', '4000', '5000','6000','7000'])\n",
    "ax.set_yticklabels([],minor = True)\n",
    "plt.show();"
   ]
  },
  {
   "cell_type": "markdown",
   "id": "219f89dd",
   "metadata": {},
   "source": [
    "More Carats in a diamond mean Higher Price "
   ]
  },
  {
   "cell_type": "code",
   "execution_count": 26,
   "id": "fc4ec46f",
   "metadata": {},
   "outputs": [
    {
     "name": "stderr",
     "output_type": "stream",
     "text": [
      "C:\\Users\\Dalit\\anaconda3\\lib\\site-packages\\seaborn\\distributions.py:2619: FutureWarning: `distplot` is a deprecated function and will be removed in a future version. Please adapt your code to use either `displot` (a figure-level function with similar flexibility) or `histplot` (an axes-level function for histograms).\n",
      "  warnings.warn(msg, FutureWarning)\n"
     ]
    },
    {
     "data": {
      "text/plain": [
       "<AxesSubplot:xlabel='price', ylabel='Density'>"
      ]
     },
     "execution_count": 26,
     "metadata": {},
     "output_type": "execute_result"
    },
    {
     "data": {
      "image/png": "[encoded data removed]",
      "text/plain": [
       "<Figure size 432x288 with 1 Axes>"
      ]
     },
     "metadata": {
      "needs_background": "light"
     },
     "output_type": "display_data"
    }
   ],
   "source": [
    "sns.distplot(scaled_df['price'], bins=12, kde=True, rug=False)"
   ]
  },
  {
   "cell_type": "markdown",
   "id": "e95e865b",
   "metadata": {},
   "source": [
    "Density seems to have less effect on the price especailly in comparison to the effect of carats on price."
   ]
  }
 ],
 "metadata": {
  "kernelspec": {
   "display_name": "Python 3 (ipykernel)",
   "language": "python",
   "name": "python3"
  },
  "language_info": {
   "codemirror_mode": {
    "name": "ipython",
    "version": 3
   },
   "file_extension": ".py",
   "mimetype": "text/x-python",
   "name": "python",
   "nbconvert_exporter": "python",
   "pygments_lexer": "ipython3",
   "version": "3.9.12"
  }
 },
 "nbformat": 4,
 "nbformat_minor": 5
}
