{
 "cells": [
  {
   "cell_type": "code",
   "execution_count": 1,
   "id": "d5854d84",
   "metadata": {},
   "outputs": [],
   "source": [
    "#Depencies + extras in case\n",
    "import matplotlib.pyplot as plt\n",
    "import matplotlib\n",
    "import pandas as pd\n",
    "import numpy as np\n",
    "from sklearn import linear_model\n",
    "from sklearn.metrics import mean_squared_error,r2_score\n",
    "import sklearn as skl\n",
    "from sklearn.preprocessing import StandardScaler,OneHotEncoder\n",
    "from sklearn.linear_model import LogisticRegression\n",
    "from sklearn.model_selection import train_test_split\n",
    "from sklearn.metrics import accuracy_score,confusion_matrix, classification_report\n",
    "import seaborn as sns\n",
    "import os\n"
   ]
  },
  {
   "cell_type": "code",
   "execution_count": 2,
   "id": "4c5a3b83",
   "metadata": {},
   "outputs": [
    {
     "data": {
      "text/html": [
       "<div>\n",
       "<style scoped>\n",
       "    .dataframe tbody tr th:only-of-type {\n",
       "        vertical-align: middle;\n",
       "    }\n",
       "\n",
       "    .dataframe tbody tr th {\n",
       "        vertical-align: top;\n",
       "    }\n",
       "\n",
       "    .dataframe thead th {\n",
       "        text-align: right;\n",
       "    }\n",
       "</style>\n",
       "<table border=\"1\" class=\"dataframe\">\n",
       "  <thead>\n",
       "    <tr style=\"text-align: right;\">\n",
       "      <th></th>\n",
       "      <th>carat</th>\n",
       "      <th>depth</th>\n",
       "      <th>table</th>\n",
       "      <th>price</th>\n",
       "      <th>cut_b'Good'</th>\n",
       "      <th>cut_b'Ideal'</th>\n",
       "      <th>cut_b'Premium'</th>\n",
       "      <th>cut_b'Very Good'</th>\n",
       "      <th>color_b'E'</th>\n",
       "      <th>color_b'F'</th>\n",
       "      <th>...</th>\n",
       "      <th>color_b'H'</th>\n",
       "      <th>color_b'I'</th>\n",
       "      <th>color_b'J'</th>\n",
       "      <th>clarity_b'IF'</th>\n",
       "      <th>clarity_b'SI1'</th>\n",
       "      <th>clarity_b'SI2'</th>\n",
       "      <th>clarity_b'VS1'</th>\n",
       "      <th>clarity_b'VS2'</th>\n",
       "      <th>clarity_b'VVS1'</th>\n",
       "      <th>clarity_b'VVS2'</th>\n",
       "    </tr>\n",
       "  </thead>\n",
       "  <tbody>\n",
       "    <tr>\n",
       "      <th>0</th>\n",
       "      <td>-1.405572</td>\n",
       "      <td>-0.156729</td>\n",
       "      <td>-1.120720</td>\n",
       "      <td>-1.038223</td>\n",
       "      <td>-0.342592</td>\n",
       "      <td>1.305138</td>\n",
       "      <td>-0.566777</td>\n",
       "      <td>-0.568675</td>\n",
       "      <td>2.224396</td>\n",
       "      <td>-0.462318</td>\n",
       "      <td>...</td>\n",
       "      <td>-0.439985</td>\n",
       "      <td>-0.359811</td>\n",
       "      <td>-0.263711</td>\n",
       "      <td>-0.172747</td>\n",
       "      <td>-0.574252</td>\n",
       "      <td>2.004444</td>\n",
       "      <td>-0.421931</td>\n",
       "      <td>-0.510935</td>\n",
       "      <td>-0.254255</td>\n",
       "      <td>-0.308898</td>\n",
       "    </tr>\n",
       "    <tr>\n",
       "      <th>1</th>\n",
       "      <td>-1.447307</td>\n",
       "      <td>-1.265593</td>\n",
       "      <td>1.490024</td>\n",
       "      <td>-1.038223</td>\n",
       "      <td>-0.342592</td>\n",
       "      <td>-0.766202</td>\n",
       "      <td>1.764362</td>\n",
       "      <td>-0.568675</td>\n",
       "      <td>2.224396</td>\n",
       "      <td>-0.462318</td>\n",
       "      <td>...</td>\n",
       "      <td>-0.439985</td>\n",
       "      <td>-0.359811</td>\n",
       "      <td>-0.263711</td>\n",
       "      <td>-0.172747</td>\n",
       "      <td>1.741395</td>\n",
       "      <td>-0.498891</td>\n",
       "      <td>-0.421931</td>\n",
       "      <td>-0.510935</td>\n",
       "      <td>-0.254255</td>\n",
       "      <td>-0.308898</td>\n",
       "    </tr>\n",
       "    <tr>\n",
       "      <th>2</th>\n",
       "      <td>-1.405572</td>\n",
       "      <td>-3.157185</td>\n",
       "      <td>3.230521</td>\n",
       "      <td>-1.037985</td>\n",
       "      <td>2.918924</td>\n",
       "      <td>-0.766202</td>\n",
       "      <td>-0.566777</td>\n",
       "      <td>-0.568675</td>\n",
       "      <td>2.224396</td>\n",
       "      <td>-0.462318</td>\n",
       "      <td>...</td>\n",
       "      <td>-0.439985</td>\n",
       "      <td>-0.359811</td>\n",
       "      <td>-0.263711</td>\n",
       "      <td>-0.172747</td>\n",
       "      <td>-0.574252</td>\n",
       "      <td>-0.498891</td>\n",
       "      <td>2.370058</td>\n",
       "      <td>-0.510935</td>\n",
       "      <td>-0.254255</td>\n",
       "      <td>-0.308898</td>\n",
       "    </tr>\n",
       "    <tr>\n",
       "      <th>3</th>\n",
       "      <td>-1.280367</td>\n",
       "      <td>0.430317</td>\n",
       "      <td>0.184652</td>\n",
       "      <td>-1.036319</td>\n",
       "      <td>-0.342592</td>\n",
       "      <td>-0.766202</td>\n",
       "      <td>1.764362</td>\n",
       "      <td>-0.568675</td>\n",
       "      <td>-0.449560</td>\n",
       "      <td>-0.462318</td>\n",
       "      <td>...</td>\n",
       "      <td>-0.439985</td>\n",
       "      <td>2.779237</td>\n",
       "      <td>-0.263711</td>\n",
       "      <td>-0.172747</td>\n",
       "      <td>-0.574252</td>\n",
       "      <td>-0.498891</td>\n",
       "      <td>-0.421931</td>\n",
       "      <td>1.957197</td>\n",
       "      <td>-0.254255</td>\n",
       "      <td>-0.308898</td>\n",
       "    </tr>\n",
       "    <tr>\n",
       "      <th>4</th>\n",
       "      <td>-1.238632</td>\n",
       "      <td>1.017363</td>\n",
       "      <td>0.184652</td>\n",
       "      <td>-1.036081</td>\n",
       "      <td>2.918924</td>\n",
       "      <td>-0.766202</td>\n",
       "      <td>-0.566777</td>\n",
       "      <td>-0.568675</td>\n",
       "      <td>-0.449560</td>\n",
       "      <td>-0.462318</td>\n",
       "      <td>...</td>\n",
       "      <td>-0.439985</td>\n",
       "      <td>-0.359811</td>\n",
       "      <td>3.792031</td>\n",
       "      <td>-0.172747</td>\n",
       "      <td>-0.574252</td>\n",
       "      <td>2.004444</td>\n",
       "      <td>-0.421931</td>\n",
       "      <td>-0.510935</td>\n",
       "      <td>-0.254255</td>\n",
       "      <td>-0.308898</td>\n",
       "    </tr>\n",
       "    <tr>\n",
       "      <th>...</th>\n",
       "      <td>...</td>\n",
       "      <td>...</td>\n",
       "      <td>...</td>\n",
       "      <td>...</td>\n",
       "      <td>...</td>\n",
       "      <td>...</td>\n",
       "      <td>...</td>\n",
       "      <td>...</td>\n",
       "      <td>...</td>\n",
       "      <td>...</td>\n",
       "      <td>...</td>\n",
       "      <td>...</td>\n",
       "      <td>...</td>\n",
       "      <td>...</td>\n",
       "      <td>...</td>\n",
       "      <td>...</td>\n",
       "      <td>...</td>\n",
       "      <td>...</td>\n",
       "      <td>...</td>\n",
       "      <td>...</td>\n",
       "      <td>...</td>\n",
       "    </tr>\n",
       "    <tr>\n",
       "      <th>39751</th>\n",
       "      <td>-0.383065</td>\n",
       "      <td>-0.613320</td>\n",
       "      <td>-0.250472</td>\n",
       "      <td>-0.459629</td>\n",
       "      <td>-0.342592</td>\n",
       "      <td>1.305138</td>\n",
       "      <td>-0.566777</td>\n",
       "      <td>-0.568675</td>\n",
       "      <td>-0.449560</td>\n",
       "      <td>-0.462318</td>\n",
       "      <td>...</td>\n",
       "      <td>-0.439985</td>\n",
       "      <td>-0.359811</td>\n",
       "      <td>-0.263711</td>\n",
       "      <td>-0.172747</td>\n",
       "      <td>1.741395</td>\n",
       "      <td>-0.498891</td>\n",
       "      <td>-0.421931</td>\n",
       "      <td>-0.510935</td>\n",
       "      <td>-0.254255</td>\n",
       "      <td>-0.308898</td>\n",
       "    </tr>\n",
       "    <tr>\n",
       "      <th>39752</th>\n",
       "      <td>-0.383065</td>\n",
       "      <td>0.886908</td>\n",
       "      <td>-1.120720</td>\n",
       "      <td>-0.459629</td>\n",
       "      <td>2.918924</td>\n",
       "      <td>-0.766202</td>\n",
       "      <td>-0.566777</td>\n",
       "      <td>-0.568675</td>\n",
       "      <td>-0.449560</td>\n",
       "      <td>-0.462318</td>\n",
       "      <td>...</td>\n",
       "      <td>-0.439985</td>\n",
       "      <td>-0.359811</td>\n",
       "      <td>-0.263711</td>\n",
       "      <td>-0.172747</td>\n",
       "      <td>1.741395</td>\n",
       "      <td>-0.498891</td>\n",
       "      <td>-0.421931</td>\n",
       "      <td>-0.510935</td>\n",
       "      <td>-0.254255</td>\n",
       "      <td>-0.308898</td>\n",
       "    </tr>\n",
       "    <tr>\n",
       "      <th>39753</th>\n",
       "      <td>-0.424800</td>\n",
       "      <td>0.691227</td>\n",
       "      <td>1.054900</td>\n",
       "      <td>-0.459629</td>\n",
       "      <td>-0.342592</td>\n",
       "      <td>-0.766202</td>\n",
       "      <td>-0.566777</td>\n",
       "      <td>1.758473</td>\n",
       "      <td>-0.449560</td>\n",
       "      <td>-0.462318</td>\n",
       "      <td>...</td>\n",
       "      <td>-0.439985</td>\n",
       "      <td>-0.359811</td>\n",
       "      <td>-0.263711</td>\n",
       "      <td>-0.172747</td>\n",
       "      <td>1.741395</td>\n",
       "      <td>-0.498891</td>\n",
       "      <td>-0.421931</td>\n",
       "      <td>-0.510935</td>\n",
       "      <td>-0.254255</td>\n",
       "      <td>-0.308898</td>\n",
       "    </tr>\n",
       "    <tr>\n",
       "      <th>39754</th>\n",
       "      <td>-0.090921</td>\n",
       "      <td>-0.482865</td>\n",
       "      <td>0.184652</td>\n",
       "      <td>-0.459629</td>\n",
       "      <td>-0.342592</td>\n",
       "      <td>-0.766202</td>\n",
       "      <td>1.764362</td>\n",
       "      <td>-0.568675</td>\n",
       "      <td>-0.449560</td>\n",
       "      <td>-0.462318</td>\n",
       "      <td>...</td>\n",
       "      <td>2.272803</td>\n",
       "      <td>-0.359811</td>\n",
       "      <td>-0.263711</td>\n",
       "      <td>-0.172747</td>\n",
       "      <td>-0.574252</td>\n",
       "      <td>2.004444</td>\n",
       "      <td>-0.421931</td>\n",
       "      <td>-0.510935</td>\n",
       "      <td>-0.254255</td>\n",
       "      <td>-0.308898</td>\n",
       "    </tr>\n",
       "    <tr>\n",
       "      <th>39755</th>\n",
       "      <td>-0.320463</td>\n",
       "      <td>0.299863</td>\n",
       "      <td>-1.120720</td>\n",
       "      <td>-0.459629</td>\n",
       "      <td>-0.342592</td>\n",
       "      <td>1.305138</td>\n",
       "      <td>-0.566777</td>\n",
       "      <td>-0.568675</td>\n",
       "      <td>-0.449560</td>\n",
       "      <td>-0.462318</td>\n",
       "      <td>...</td>\n",
       "      <td>-0.439985</td>\n",
       "      <td>-0.359811</td>\n",
       "      <td>-0.263711</td>\n",
       "      <td>-0.172747</td>\n",
       "      <td>-0.574252</td>\n",
       "      <td>2.004444</td>\n",
       "      <td>-0.421931</td>\n",
       "      <td>-0.510935</td>\n",
       "      <td>-0.254255</td>\n",
       "      <td>-0.308898</td>\n",
       "    </tr>\n",
       "  </tbody>\n",
       "</table>\n",
       "<p>39756 rows × 21 columns</p>\n",
       "</div>"
      ],
      "text/plain": [
       "          carat     depth     table     price  cut_b'Good'  cut_b'Ideal'  \\\n",
       "0     -1.405572 -0.156729 -1.120720 -1.038223    -0.342592      1.305138   \n",
       "1     -1.447307 -1.265593  1.490024 -1.038223    -0.342592     -0.766202   \n",
       "2     -1.405572 -3.157185  3.230521 -1.037985     2.918924     -0.766202   \n",
       "3     -1.280367  0.430317  0.184652 -1.036319    -0.342592     -0.766202   \n",
       "4     -1.238632  1.017363  0.184652 -1.036081     2.918924     -0.766202   \n",
       "...         ...       ...       ...       ...          ...           ...   \n",
       "39751 -0.383065 -0.613320 -0.250472 -0.459629    -0.342592      1.305138   \n",
       "39752 -0.383065  0.886908 -1.120720 -0.459629     2.918924     -0.766202   \n",
       "39753 -0.424800  0.691227  1.054900 -0.459629    -0.342592     -0.766202   \n",
       "39754 -0.090921 -0.482865  0.184652 -0.459629    -0.342592     -0.766202   \n",
       "39755 -0.320463  0.299863 -1.120720 -0.459629    -0.342592      1.305138   \n",
       "\n",
       "       cut_b'Premium'  cut_b'Very Good'  color_b'E'  color_b'F'  ...  \\\n",
       "0           -0.566777         -0.568675    2.224396   -0.462318  ...   \n",
       "1            1.764362         -0.568675    2.224396   -0.462318  ...   \n",
       "2           -0.566777         -0.568675    2.224396   -0.462318  ...   \n",
       "3            1.764362         -0.568675   -0.449560   -0.462318  ...   \n",
       "4           -0.566777         -0.568675   -0.449560   -0.462318  ...   \n",
       "...               ...               ...         ...         ...  ...   \n",
       "39751       -0.566777         -0.568675   -0.449560   -0.462318  ...   \n",
       "39752       -0.566777         -0.568675   -0.449560   -0.462318  ...   \n",
       "39753       -0.566777          1.758473   -0.449560   -0.462318  ...   \n",
       "39754        1.764362         -0.568675   -0.449560   -0.462318  ...   \n",
       "39755       -0.566777         -0.568675   -0.449560   -0.462318  ...   \n",
       "\n",
       "       color_b'H'  color_b'I'  color_b'J'  clarity_b'IF'  clarity_b'SI1'  \\\n",
       "0       -0.439985   -0.359811   -0.263711      -0.172747       -0.574252   \n",
       "1       -0.439985   -0.359811   -0.263711      -0.172747        1.741395   \n",
       "2       -0.439985   -0.359811   -0.263711      -0.172747       -0.574252   \n",
       "3       -0.439985    2.779237   -0.263711      -0.172747       -0.574252   \n",
       "4       -0.439985   -0.359811    3.792031      -0.172747       -0.574252   \n",
       "...           ...         ...         ...            ...             ...   \n",
       "39751   -0.439985   -0.359811   -0.263711      -0.172747        1.741395   \n",
       "39752   -0.439985   -0.359811   -0.263711      -0.172747        1.741395   \n",
       "39753   -0.439985   -0.359811   -0.263711      -0.172747        1.741395   \n",
       "39754    2.272803   -0.359811   -0.263711      -0.172747       -0.574252   \n",
       "39755   -0.439985   -0.359811   -0.263711      -0.172747       -0.574252   \n",
       "\n",
       "       clarity_b'SI2'  clarity_b'VS1'  clarity_b'VS2'  clarity_b'VVS1'  \\\n",
       "0            2.004444       -0.421931       -0.510935        -0.254255   \n",
       "1           -0.498891       -0.421931       -0.510935        -0.254255   \n",
       "2           -0.498891        2.370058       -0.510935        -0.254255   \n",
       "3           -0.498891       -0.421931        1.957197        -0.254255   \n",
       "4            2.004444       -0.421931       -0.510935        -0.254255   \n",
       "...               ...             ...             ...              ...   \n",
       "39751       -0.498891       -0.421931       -0.510935        -0.254255   \n",
       "39752       -0.498891       -0.421931       -0.510935        -0.254255   \n",
       "39753       -0.498891       -0.421931       -0.510935        -0.254255   \n",
       "39754        2.004444       -0.421931       -0.510935        -0.254255   \n",
       "39755        2.004444       -0.421931       -0.510935        -0.254255   \n",
       "\n",
       "       clarity_b'VVS2'  \n",
       "0            -0.308898  \n",
       "1            -0.308898  \n",
       "2            -0.308898  \n",
       "3            -0.308898  \n",
       "4            -0.308898  \n",
       "...                ...  \n",
       "39751        -0.308898  \n",
       "39752        -0.308898  \n",
       "39753        -0.308898  \n",
       "39754        -0.308898  \n",
       "39755        -0.308898  \n",
       "\n",
       "[39756 rows x 21 columns]"
      ]
     },
     "execution_count": 2,
     "metadata": {},
     "output_type": "execute_result"
    }
   ],
   "source": [
    "scaled_df = pd.read_csv('Resources/scaled.csv')\n",
    "scaled_df"
   ]
  },
  {
   "cell_type": "code",
   "execution_count": 3,
   "id": "76e4018c",
   "metadata": {},
   "outputs": [
    {
     "name": "stdout",
     "output_type": "stream",
     "text": [
      "carat               0\n",
      "depth               0\n",
      "table               0\n",
      "price               0\n",
      "cut_b'Good'         0\n",
      "cut_b'Ideal'        0\n",
      "cut_b'Premium'      0\n",
      "cut_b'Very Good'    0\n",
      "color_b'E'          0\n",
      "color_b'F'          0\n",
      "color_b'G'          0\n",
      "color_b'H'          0\n",
      "color_b'I'          0\n",
      "color_b'J'          0\n",
      "clarity_b'IF'       0\n",
      "clarity_b'SI1'      0\n",
      "clarity_b'SI2'      0\n",
      "clarity_b'VS1'      0\n",
      "clarity_b'VS2'      0\n",
      "clarity_b'VVS1'     0\n",
      "clarity_b'VVS2'     0\n",
      "dtype: int64\n",
      "<class 'pandas.core.frame.DataFrame'>\n",
      "RangeIndex: 39756 entries, 0 to 39755\n",
      "Data columns (total 21 columns):\n",
      " #   Column            Non-Null Count  Dtype  \n",
      "---  ------            --------------  -----  \n",
      " 0   carat             39756 non-null  float64\n",
      " 1   depth             39756 non-null  float64\n",
      " 2   table             39756 non-null  float64\n",
      " 3   price             39756 non-null  float64\n",
      " 4   cut_b'Good'       39756 non-null  float64\n",
      " 5   cut_b'Ideal'      39756 non-null  float64\n",
      " 6   cut_b'Premium'    39756 non-null  float64\n",
      " 7   cut_b'Very Good'  39756 non-null  float64\n",
      " 8   color_b'E'        39756 non-null  float64\n",
      " 9   color_b'F'        39756 non-null  float64\n",
      " 10  color_b'G'        39756 non-null  float64\n",
      " 11  color_b'H'        39756 non-null  float64\n",
      " 12  color_b'I'        39756 non-null  float64\n",
      " 13  color_b'J'        39756 non-null  float64\n",
      " 14  clarity_b'IF'     39756 non-null  float64\n",
      " 15  clarity_b'SI1'    39756 non-null  float64\n",
      " 16  clarity_b'SI2'    39756 non-null  float64\n",
      " 17  clarity_b'VS1'    39756 non-null  float64\n",
      " 18  clarity_b'VS2'    39756 non-null  float64\n",
      " 19  clarity_b'VVS1'   39756 non-null  float64\n",
      " 20  clarity_b'VVS2'   39756 non-null  float64\n",
      "dtypes: float64(21)\n",
      "memory usage: 6.4 MB\n"
     ]
    }
   ],
   "source": [
    "# double checking for null values\n",
    "scaled_df.dropna()\n",
    "print(scaled_df.isnull().sum())\n",
    "scaled_df.info()"
   ]
  },
  {
   "cell_type": "markdown",
   "id": "b3e545b6",
   "metadata": {},
   "source": [
    "# Linear Regression Model\n"
   ]
  },
  {
   "cell_type": "markdown",
   "id": "cd539bc0",
   "metadata": {},
   "source": [
    "### Create Y and x matrices"
   ]
  },
  {
   "cell_type": "code",
   "execution_count": 4,
   "id": "23ad2eb1",
   "metadata": {},
   "outputs": [],
   "source": [
    "X = scaled_df.drop(columns=['price'])\n",
    "y= scaled_df['price']\n"
   ]
  },
  {
   "cell_type": "code",
   "execution_count": 5,
   "id": "df640bd8",
   "metadata": {},
   "outputs": [
    {
     "data": {
      "text/plain": [
       "((39756, 20), (39756,))"
      ]
     },
     "execution_count": 5,
     "metadata": {},
     "output_type": "execute_result"
    }
   ],
   "source": [
    "X.shape,y.shape"
   ]
  },
  {
   "cell_type": "markdown",
   "id": "bb9c2527",
   "metadata": {},
   "source": [
    "# Splitting the data"
   ]
  },
  {
   "cell_type": "code",
   "execution_count": 6,
   "id": "45f1e34a",
   "metadata": {},
   "outputs": [],
   "source": [
    "X_train, X_test,y_train,y_test= train_test_split(X,y,test_size= 0.20)"
   ]
  },
  {
   "cell_type": "markdown",
   "id": "a799333f",
   "metadata": {},
   "source": [
    "### Reviewing our data's dimensions after split"
   ]
  },
  {
   "cell_type": "code",
   "execution_count": 7,
   "id": "71282852",
   "metadata": {},
   "outputs": [
    {
     "data": {
      "text/plain": [
       "((31804, 20), (7952, 20))"
      ]
     },
     "execution_count": 7,
     "metadata": {},
     "output_type": "execute_result"
    }
   ],
   "source": [
    "# for x\n",
    "X_train.shape,X_test.shape"
   ]
  },
  {
   "cell_type": "code",
   "execution_count": 8,
   "id": "7f38d893",
   "metadata": {},
   "outputs": [
    {
     "data": {
      "text/plain": [
       "((31804,), (7952,))"
      ]
     },
     "execution_count": 8,
     "metadata": {},
     "output_type": "execute_result"
    }
   ],
   "source": [
    "# for y\n",
    "y_train.shape,y_test.shape"
   ]
  },
  {
   "cell_type": "markdown",
   "id": "9e09083e",
   "metadata": {},
   "source": [
    "## The Model"
   ]
  },
  {
   "cell_type": "code",
   "execution_count": 9,
   "id": "df3f02c5",
   "metadata": {},
   "outputs": [],
   "source": [
    "#dependencies\n",
    "from sklearn import linear_model\n",
    "from sklearn.metrics import mean_squared_error,r2_score"
   ]
  },
  {
   "cell_type": "markdown",
   "id": "6aaf9433",
   "metadata": {},
   "source": [
    "creating and defining the Lin_regres model"
   ]
  },
  {
   "cell_type": "code",
   "execution_count": 10,
   "id": "50244539",
   "metadata": {},
   "outputs": [],
   "source": [
    "model = linear_model.LinearRegression()"
   ]
  },
  {
   "cell_type": "markdown",
   "id": "6872809f",
   "metadata": {},
   "source": [
    "Building training model"
   ]
  },
  {
   "cell_type": "code",
   "execution_count": 11,
   "id": "8fe5656c",
   "metadata": {},
   "outputs": [
    {
     "data": {
      "text/plain": [
       "LinearRegression()"
      ]
     },
     "execution_count": 11,
     "metadata": {},
     "output_type": "execute_result"
    }
   ],
   "source": [
    "model.fit(X_train, y_train)"
   ]
  },
  {
   "cell_type": "markdown",
   "id": "22eef4b4",
   "metadata": {},
   "source": [
    "applying trained model on our test dataset"
   ]
  },
  {
   "cell_type": "code",
   "execution_count": 12,
   "id": "9c0cc7b8",
   "metadata": {},
   "outputs": [],
   "source": [
    "y_pred = model.predict(X_test)"
   ]
  },
  {
   "cell_type": "markdown",
   "id": "2770cf79",
   "metadata": {},
   "source": [
    "Perfomance test to see how our model is perfoming so far"
   ]
  },
  {
   "cell_type": "code",
   "execution_count": 13,
   "id": "95a00184",
   "metadata": {},
   "outputs": [
    {
     "name": "stdout",
     "output_type": "stream",
     "text": [
      "Coefficients: [ 1.04800162 -0.01331726 -0.01686196  0.03803016  0.09483733  0.06422302\n",
      "  0.07020698 -0.01587754 -0.0231132  -0.05171548 -0.09796752 -0.12086617\n",
      " -0.14490019  0.23325495  0.37037604  0.25200708  0.39665191  0.41392549\n",
      "  0.30485224  0.34958165]\n",
      "Intercept: 0.00041028354155236215\n",
      "Mean Squared Error(MSE): 0.09\n",
      "Coefficient of Determination (R^2): 0.91\n"
     ]
    }
   ],
   "source": [
    "print('Coefficients:',model.coef_)\n",
    "print('Intercept:', model.intercept_)\n",
    "print('Mean Squared Error(MSE): %.2f'\n",
    "      % mean_squared_error(y_test,y_pred))\n",
    "print('Coefficient of Determination (R^2): %.2f'\n",
    "      % r2_score(y_test,y_pred))"
   ]
  },
  {
   "cell_type": "markdown",
   "id": "70385b43",
   "metadata": {},
   "source": [
    "# "
   ]
  },
  {
   "cell_type": "markdown",
   "id": "c57611fb",
   "metadata": {},
   "source": [
    "Some plots to show how a couple of the features have a direct effect on the price "
   ]
  },
  {
   "cell_type": "code",
   "execution_count": 14,
   "id": "17537a37",
   "metadata": {},
   "outputs": [],
   "source": [
    "#setting up for the plot \n",
    "diamond_flag = (scaled_df['carat'] >= 0.80) & (scaled_df['carat'] <= 0.99)\n",
    "diamonds_sml = scaled_df.loc[diamond_flag,:]\n"
   ]
  },
  {
   "cell_type": "code",
   "execution_count": 15,
   "id": "a6062836",
   "metadata": {},
   "outputs": [
    {
     "data": {
      "image/png": "[encoded data removed]",
      "text/plain": [
       "<Figure size 800x600 with 1 Axes>"
      ]
     },
     "metadata": {},
     "output_type": "display_data"
    }
   ],
   "source": [
    "#Price VS Carat plot\n",
    "fig = plt.figure(figsize = [8,6])\n",
    "ax = sns.pointplot(data = diamonds_sml, x = 'carat', y = 'price',\n",
    "           palette = 'Blues', linestyles = '', dodge = 0.4)\n",
    "plt.title('Diamond Price Vs Carat')\n",
    "plt.ylabel('Price (£)')\n",
    "plt.xlabel('Carat')\n",
    "plt.yscale('log')\n",
    "#plt.yticks([3e3, 4e3, 5e3,6e3,7e3], ['3000', '4000', '5000','6000','7000'])\n",
    "ax.set_yticklabels([],minor = True)\n",
    "plt.show();"
   ]
  },
  {
   "cell_type": "markdown",
   "id": "219f89dd",
   "metadata": {},
   "source": [
    "More Carats in a diamond mean Higher Price "
   ]
  },
  {
   "cell_type": "code",
   "execution_count": 16,
   "id": "fc4ec46f",
   "metadata": {},
   "outputs": [
    {
     "name": "stderr",
     "output_type": "stream",
     "text": [
      "c:\\Users\\clair\\anaconda3\\lib\\site-packages\\seaborn\\distributions.py:2619: FutureWarning: `distplot` is a deprecated function and will be removed in a future version. Please adapt your code to use either `displot` (a figure-level function with similar flexibility) or `histplot` (an axes-level function for histograms).\n",
      "  warnings.warn(msg, FutureWarning)\n"
     ]
    },
    {
     "data": {
      "text/plain": [
       "<AxesSubplot:xlabel='price', ylabel='Density'>"
      ]
     },
     "execution_count": 16,
     "metadata": {},
     "output_type": "execute_result"
    },
    {
     "data": {
      "image/png": "[encoded data removed]",
      "text/plain": [
       "<Figure size 640x480 with 1 Axes>"
      ]
     },
     "metadata": {},
     "output_type": "display_data"
    }
   ],
   "source": [
    "sns.distplot(scaled_df['price'], bins=12, kde=True, rug=False)"
   ]
  },
  {
   "cell_type": "markdown",
   "id": "e95e865b",
   "metadata": {},
   "source": [
    "Density seems to have less effect on the price especially in comparison to the effect of carats on price."
   ]
  }
 ],
 "metadata": {
  "kernelspec": {
   "display_name": "Python 3 (ipykernel)",
   "language": "python",
   "name": "python3"
  },
  "language_info": {
   "codemirror_mode": {
    "name": "ipython",
    "version": 3
   },
   "file_extension": ".py",
   "mimetype": "text/x-python",
   "name": "python",
   "nbconvert_exporter": "python",
   "pygments_lexer": "ipython3",
   "version": "3.9.13"
  }
 },
 "nbformat": 4,
 "nbformat_minor": 5
}
