{
  "nbformat": 4,
  "nbformat_minor": 0,
  "metadata": {
    "colab": {
      "provenance": []
    },
    "kernelspec": {
      "name": "python3",
      "display_name": "Python 3"
    },
    "language_info": {
      "name": "python"
    }
  },
  "cells": [
    {
      "cell_type": "code",
      "execution_count": 1,
      "metadata": {
        "id": "ZlhD67jau7Xf"
      },
      "outputs": [],
      "source": [
        "# for loading the csv  file\n",
        "from google.colab import files\n",
        "import io\n",
        "############## general dependencies ####################################\n",
        "import pandas as pd\n",
        "import numpy as np\n",
        "from pathlib import Path\n",
        "import tensorflow as tf\n",
        "import sklearn as skl\n",
        "from sklearn.preprocessing import StandardScaler,OneHotEncoder\n",
        "from sklearn.ensemble import RandomForestClassifier\n",
        "from sklearn.metrics import balanced_accuracy_score\n",
        "from sklearn.metrics import confusion_matrix\n",
        "from sklearn.linear_model import LogisticRegression\n",
        "from sklearn.model_selection import train_test_split\n",
        "from imblearn.metrics import classification_report_imbalanced\n",
        "from imblearn.over_sampling import RandomOverSampler\n",
        "from sklearn.metrics import accuracy_score,confusion_matrix, classification_report\n",
        "#distinct value counter\n",
        "from collections import Counter"
      ]
    },
    {
      "cell_type": "code",
      "source": [
        "data = files.upload()"
      ],
      "metadata": {
        "colab": {
          "base_uri": "https://localhost:8080/",
          "height": 73
        },
        "id": "GCRfyTKyvNFu",
        "outputId": "e52087c5-582b-43de-f505-27e646179a7f"
      },
      "execution_count": 2,
      "outputs": [
        {
          "output_type": "display_data",
          "data": {
            "text/plain": [
              "<IPython.core.display.HTML object>"
            ],
            "text/html": [
              "\n",
              "     <input type=\"file\" id=\"files-aa77120e-2ecb-41f6-a439-a306a8a36ac5\" name=\"files[]\" multiple disabled\n",
              "        style=\"border:none\" />\n",
              "     <output id=\"result-aa77120e-2ecb-41f6-a439-a306a8a36ac5\">\n",
              "      Upload widget is only available when the cell has been executed in the\n",
              "      current browser session. Please rerun this cell to enable.\n",
              "      </output>\n",
              "      <script>// Copyright 2017 Google LLC\n",
              "//\n",
              "// Licensed under the Apache License, Version 2.0 (the \"License\");\n",
              "// you may not use this file except in compliance with the License.\n",
              "// You may obtain a copy of the License at\n",
              "//\n",
              "//      http://www.apache.org/licenses/LICENSE-2.0\n",
              "//\n",
              "// Unless required by applicable law or agreed to in writing, software\n",
              "// distributed under the License is distributed on an \"AS IS\" BASIS,\n",
              "// WITHOUT WARRANTIES OR CONDITIONS OF ANY KIND, either express or implied.\n",
              "// See the License for the specific language governing permissions and\n",
              "// limitations under the License.\n",
              "\n",
              "/**\n",
              " * @fileoverview Helpers for google.colab Python module.\n",
              " */\n",
              "(function(scope) {\n",
              "function span(text, styleAttributes = {}) {\n",
              "  const element = document.createElement('span');\n",
              "  element.textContent = text;\n",
              "  for (const key of Object.keys(styleAttributes)) {\n",
              "    element.style[key] = styleAttributes[key];\n",
              "  }\n",
              "  return element;\n",
              "}\n",
              "\n",
              "// Max number of bytes which will be uploaded at a time.\n",
              "const MAX_PAYLOAD_SIZE = 100 * 1024;\n",
              "\n",
              "function _uploadFiles(inputId, outputId) {\n",
              "  const steps = uploadFilesStep(inputId, outputId);\n",
              "  const outputElement = document.getElementById(outputId);\n",
              "  // Cache steps on the outputElement to make it available for the next call\n",
              "  // to uploadFilesContinue from Python.\n",
              "  outputElement.steps = steps;\n",
              "\n",
              "  return _uploadFilesContinue(outputId);\n",
              "}\n",
              "\n",
              "// This is roughly an async generator (not supported in the browser yet),\n",
              "// where there are multiple asynchronous steps and the Python side is going\n",
              "// to poll for completion of each step.\n",
              "// This uses a Promise to block the python side on completion of each step,\n",
              "// then passes the result of the previous step as the input to the next step.\n",
              "function _uploadFilesContinue(outputId) {\n",
              "  const outputElement = document.getElementById(outputId);\n",
              "  const steps = outputElement.steps;\n",
              "\n",
              "  const next = steps.next(outputElement.lastPromiseValue);\n",
              "  return Promise.resolve(next.value.promise).then((value) => {\n",
              "    // Cache the last promise value to make it available to the next\n",
              "    // step of the generator.\n",
              "    outputElement.lastPromiseValue = value;\n",
              "    return next.value.response;\n",
              "  });\n",
              "}\n",
              "\n",
              "/**\n",
              " * Generator function which is called between each async step of the upload\n",
              " * process.\n",
              " * @param {string} inputId Element ID of the input file picker element.\n",
              " * @param {string} outputId Element ID of the output display.\n",
              " * @return {!Iterable<!Object>} Iterable of next steps.\n",
              " */\n",
              "function* uploadFilesStep(inputId, outputId) {\n",
              "  const inputElement = document.getElementById(inputId);\n",
              "  inputElement.disabled = false;\n",
              "\n",
              "  const outputElement = document.getElementById(outputId);\n",
              "  outputElement.innerHTML = '';\n",
              "\n",
              "  const pickedPromise = new Promise((resolve) => {\n",
              "    inputElement.addEventListener('change', (e) => {\n",
              "      resolve(e.target.files);\n",
              "    });\n",
              "  });\n",
              "\n",
              "  const cancel = document.createElement('button');\n",
              "  inputElement.parentElement.appendChild(cancel);\n",
              "  cancel.textContent = 'Cancel upload';\n",
              "  const cancelPromise = new Promise((resolve) => {\n",
              "    cancel.onclick = () => {\n",
              "      resolve(null);\n",
              "    };\n",
              "  });\n",
              "\n",
              "  // Wait for the user to pick the files.\n",
              "  const files = yield {\n",
              "    promise: Promise.race([pickedPromise, cancelPromise]),\n",
              "    response: {\n",
              "      action: 'starting',\n",
              "    }\n",
              "  };\n",
              "\n",
              "  cancel.remove();\n",
              "\n",
              "  // Disable the input element since further picks are not allowed.\n",
              "  inputElement.disabled = true;\n",
              "\n",
              "  if (!files) {\n",
              "    return {\n",
              "      response: {\n",
              "        action: 'complete',\n",
              "      }\n",
              "    };\n",
              "  }\n",
              "\n",
              "  for (const file of files) {\n",
              "    const li = document.createElement('li');\n",
              "    li.append(span(file.name, {fontWeight: 'bold'}));\n",
              "    li.append(span(\n",
              "        `(${file.type || 'n/a'}) - ${file.size} bytes, ` +\n",
              "        `last modified: ${\n",
              "            file.lastModifiedDate ? file.lastModifiedDate.toLocaleDateString() :\n",
              "                                    'n/a'} - `));\n",
              "    const percent = span('0% done');\n",
              "    li.appendChild(percent);\n",
              "\n",
              "    outputElement.appendChild(li);\n",
              "\n",
              "    const fileDataPromise = new Promise((resolve) => {\n",
              "      const reader = new FileReader();\n",
              "      reader.onload = (e) => {\n",
              "        resolve(e.target.result);\n",
              "      };\n",
              "      reader.readAsArrayBuffer(file);\n",
              "    });\n",
              "    // Wait for the data to be ready.\n",
              "    let fileData = yield {\n",
              "      promise: fileDataPromise,\n",
              "      response: {\n",
              "        action: 'continue',\n",
              "      }\n",
              "    };\n",
              "\n",
              "    // Use a chunked sending to avoid message size limits. See b/62115660.\n",
              "    let position = 0;\n",
              "    do {\n",
              "      const length = Math.min(fileData.byteLength - position, MAX_PAYLOAD_SIZE);\n",
              "      const chunk = new Uint8Array(fileData, position, length);\n",
              "      position += length;\n",
              "\n",
              "      const base64 = btoa(String.fromCharCode.apply(null, chunk));\n",
              "      yield {\n",
              "        response: {\n",
              "          action: 'append',\n",
              "          file: file.name,\n",
              "          data: base64,\n",
              "        },\n",
              "      };\n",
              "\n",
              "      let percentDone = fileData.byteLength === 0 ?\n",
              "          100 :\n",
              "          Math.round((position / fileData.byteLength) * 100);\n",
              "      percent.textContent = `${percentDone}% done`;\n",
              "\n",
              "    } while (position < fileData.byteLength);\n",
              "  }\n",
              "\n",
              "  // All done.\n",
              "  yield {\n",
              "    response: {\n",
              "      action: 'complete',\n",
              "    }\n",
              "  };\n",
              "}\n",
              "\n",
              "scope.google = scope.google || {};\n",
              "scope.google.colab = scope.google.colab || {};\n",
              "scope.google.colab._files = {\n",
              "  _uploadFiles,\n",
              "  _uploadFilesContinue,\n",
              "};\n",
              "})(self);\n",
              "</script> "
            ]
          },
          "metadata": {}
        },
        {
          "output_type": "stream",
          "name": "stdout",
          "text": [
            "Saving diamonds.csv to diamonds.csv\n"
          ]
        }
      ]
    },
    {
      "cell_type": "code",
      "source": [
        "# Read the CSV file from the Resources folder into a Pandas DataFrame\n",
        "# Load the data into a Pandas DataFrame\n",
        "diamonds_df= pd.read_csv(io.StringIO(data['diamonds.csv'].decode('utf-8')))\n",
        "\n",
        "# Display sample data\n",
        "diamonds_df.head(10)\n",
        "# Review the DataFrame"
      ],
      "metadata": {
        "colab": {
          "base_uri": "https://localhost:8080/",
          "height": 362
        },
        "id": "D0F4s8P0vNIZ",
        "outputId": "2ab8f98b-281c-4e39-9b4d-a9e5cd9a6e5e"
      },
      "execution_count": 3,
      "outputs": [
        {
          "output_type": "execute_result",
          "data": {
            "text/plain": [
              "   carat           cut color  clarity  depth  table  price   'x'   'y'   'z'\n",
              "0   0.23      b'Ideal'  b'E'   b'SI2'   61.5   55.0  326.0  3.95  3.98  2.43\n",
              "1   0.21    b'Premium'  b'E'   b'SI1'   59.8   61.0  326.0  3.89  3.84  2.31\n",
              "2   0.23       b'Good'  b'E'   b'VS1'   56.9   65.0  327.0  4.05  4.07  2.31\n",
              "3   0.29    b'Premium'  b'I'   b'VS2'   62.4   58.0  334.0  4.20  4.23  2.63\n",
              "4   0.31       b'Good'  b'J'   b'SI2'   63.3   58.0  335.0  4.34  4.35  2.75\n",
              "5   0.24  b'Very Good'  b'J'  b'VVS2'   62.8   57.0  336.0  3.94  3.96  2.48\n",
              "6   0.24  b'Very Good'  b'I'  b'VVS1'   62.3   57.0  336.0  3.95  3.98  2.47\n",
              "7   0.26  b'Very Good'  b'H'   b'SI1'   61.9   55.0  337.0  4.07  4.11  2.53\n",
              "8   0.22       b'Fair'  b'E'   b'VS2'   65.1   61.0  337.0  3.87  3.78  2.49\n",
              "9   0.23  b'Very Good'  b'H'   b'VS1'   59.4   61.0  338.0  4.00  4.05  2.39"
            ],
            "text/html": [
              "\n",
              "  <div id=\"df-552636c2-51ba-4a55-82ea-07e691d8814b\">\n",
              "    <div class=\"colab-df-container\">\n",
              "      <div>\n",
              "<style scoped>\n",
              "    .dataframe tbody tr th:only-of-type {\n",
              "        vertical-align: middle;\n",
              "    }\n",
              "\n",
              "    .dataframe tbody tr th {\n",
              "        vertical-align: top;\n",
              "    }\n",
              "\n",
              "    .dataframe thead th {\n",
              "        text-align: right;\n",
              "    }\n",
              "</style>\n",
              "<table border=\"1\" class=\"dataframe\">\n",
              "  <thead>\n",
              "    <tr style=\"text-align: right;\">\n",
              "      <th></th>\n",
              "      <th>carat</th>\n",
              "      <th>cut</th>\n",
              "      <th>color</th>\n",
              "      <th>clarity</th>\n",
              "      <th>depth</th>\n",
              "      <th>table</th>\n",
              "      <th>price</th>\n",
              "      <th>'x'</th>\n",
              "      <th>'y'</th>\n",
              "      <th>'z'</th>\n",
              "    </tr>\n",
              "  </thead>\n",
              "  <tbody>\n",
              "    <tr>\n",
              "      <th>0</th>\n",
              "      <td>0.23</td>\n",
              "      <td>b'Ideal'</td>\n",
              "      <td>b'E'</td>\n",
              "      <td>b'SI2'</td>\n",
              "      <td>61.5</td>\n",
              "      <td>55.0</td>\n",
              "      <td>326.0</td>\n",
              "      <td>3.95</td>\n",
              "      <td>3.98</td>\n",
              "      <td>2.43</td>\n",
              "    </tr>\n",
              "    <tr>\n",
              "      <th>1</th>\n",
              "      <td>0.21</td>\n",
              "      <td>b'Premium'</td>\n",
              "      <td>b'E'</td>\n",
              "      <td>b'SI1'</td>\n",
              "      <td>59.8</td>\n",
              "      <td>61.0</td>\n",
              "      <td>326.0</td>\n",
              "      <td>3.89</td>\n",
              "      <td>3.84</td>\n",
              "      <td>2.31</td>\n",
              "    </tr>\n",
              "    <tr>\n",
              "      <th>2</th>\n",
              "      <td>0.23</td>\n",
              "      <td>b'Good'</td>\n",
              "      <td>b'E'</td>\n",
              "      <td>b'VS1'</td>\n",
              "      <td>56.9</td>\n",
              "      <td>65.0</td>\n",
              "      <td>327.0</td>\n",
              "      <td>4.05</td>\n",
              "      <td>4.07</td>\n",
              "      <td>2.31</td>\n",
              "    </tr>\n",
              "    <tr>\n",
              "      <th>3</th>\n",
              "      <td>0.29</td>\n",
              "      <td>b'Premium'</td>\n",
              "      <td>b'I'</td>\n",
              "      <td>b'VS2'</td>\n",
              "      <td>62.4</td>\n",
              "      <td>58.0</td>\n",
              "      <td>334.0</td>\n",
              "      <td>4.20</td>\n",
              "      <td>4.23</td>\n",
              "      <td>2.63</td>\n",
              "    </tr>\n",
              "    <tr>\n",
              "      <th>4</th>\n",
              "      <td>0.31</td>\n",
              "      <td>b'Good'</td>\n",
              "      <td>b'J'</td>\n",
              "      <td>b'SI2'</td>\n",
              "      <td>63.3</td>\n",
              "      <td>58.0</td>\n",
              "      <td>335.0</td>\n",
              "      <td>4.34</td>\n",
              "      <td>4.35</td>\n",
              "      <td>2.75</td>\n",
              "    </tr>\n",
              "    <tr>\n",
              "      <th>5</th>\n",
              "      <td>0.24</td>\n",
              "      <td>b'Very Good'</td>\n",
              "      <td>b'J'</td>\n",
              "      <td>b'VVS2'</td>\n",
              "      <td>62.8</td>\n",
              "      <td>57.0</td>\n",
              "      <td>336.0</td>\n",
              "      <td>3.94</td>\n",
              "      <td>3.96</td>\n",
              "      <td>2.48</td>\n",
              "    </tr>\n",
              "    <tr>\n",
              "      <th>6</th>\n",
              "      <td>0.24</td>\n",
              "      <td>b'Very Good'</td>\n",
              "      <td>b'I'</td>\n",
              "      <td>b'VVS1'</td>\n",
              "      <td>62.3</td>\n",
              "      <td>57.0</td>\n",
              "      <td>336.0</td>\n",
              "      <td>3.95</td>\n",
              "      <td>3.98</td>\n",
              "      <td>2.47</td>\n",
              "    </tr>\n",
              "    <tr>\n",
              "      <th>7</th>\n",
              "      <td>0.26</td>\n",
              "      <td>b'Very Good'</td>\n",
              "      <td>b'H'</td>\n",
              "      <td>b'SI1'</td>\n",
              "      <td>61.9</td>\n",
              "      <td>55.0</td>\n",
              "      <td>337.0</td>\n",
              "      <td>4.07</td>\n",
              "      <td>4.11</td>\n",
              "      <td>2.53</td>\n",
              "    </tr>\n",
              "    <tr>\n",
              "      <th>8</th>\n",
              "      <td>0.22</td>\n",
              "      <td>b'Fair'</td>\n",
              "      <td>b'E'</td>\n",
              "      <td>b'VS2'</td>\n",
              "      <td>65.1</td>\n",
              "      <td>61.0</td>\n",
              "      <td>337.0</td>\n",
              "      <td>3.87</td>\n",
              "      <td>3.78</td>\n",
              "      <td>2.49</td>\n",
              "    </tr>\n",
              "    <tr>\n",
              "      <th>9</th>\n",
              "      <td>0.23</td>\n",
              "      <td>b'Very Good'</td>\n",
              "      <td>b'H'</td>\n",
              "      <td>b'VS1'</td>\n",
              "      <td>59.4</td>\n",
              "      <td>61.0</td>\n",
              "      <td>338.0</td>\n",
              "      <td>4.00</td>\n",
              "      <td>4.05</td>\n",
              "      <td>2.39</td>\n",
              "    </tr>\n",
              "  </tbody>\n",
              "</table>\n",
              "</div>\n",
              "      <button class=\"colab-df-convert\" onclick=\"convertToInteractive('df-552636c2-51ba-4a55-82ea-07e691d8814b')\"\n",
              "              title=\"Convert this dataframe to an interactive table.\"\n",
              "              style=\"display:none;\">\n",
              "        \n",
              "  <svg xmlns=\"http://www.w3.org/2000/svg\" height=\"24px\"viewBox=\"0 0 24 24\"\n",
              "       width=\"24px\">\n",
              "    <path d=\"M0 0h24v24H0V0z\" fill=\"none\"/>\n",
              "    <path d=\"M18.56 5.44l.94 2.06.94-2.06 2.06-.94-2.06-.94-.94-2.06-.94 2.06-2.06.94zm-11 1L8.5 8.5l.94-2.06 2.06-.94-2.06-.94L8.5 2.5l-.94 2.06-2.06.94zm10 10l.94 2.06.94-2.06 2.06-.94-2.06-.94-.94-2.06-.94 2.06-2.06.94z\"/><path d=\"M17.41 7.96l-1.37-1.37c-.4-.4-.92-.59-1.43-.59-.52 0-1.04.2-1.43.59L10.3 9.45l-7.72 7.72c-.78.78-.78 2.05 0 2.83L4 21.41c.39.39.9.59 1.41.59.51 0 1.02-.2 1.41-.59l7.78-7.78 2.81-2.81c.8-.78.8-2.07 0-2.86zM5.41 20L4 18.59l7.72-7.72 1.47 1.35L5.41 20z\"/>\n",
              "  </svg>\n",
              "      </button>\n",
              "      \n",
              "  <style>\n",
              "    .colab-df-container {\n",
              "      display:flex;\n",
              "      flex-wrap:wrap;\n",
              "      gap: 12px;\n",
              "    }\n",
              "\n",
              "    .colab-df-convert {\n",
              "      background-color: #E8F0FE;\n",
              "      border: none;\n",
              "      border-radius: 50%;\n",
              "      cursor: pointer;\n",
              "      display: none;\n",
              "      fill: #1967D2;\n",
              "      height: 32px;\n",
              "      padding: 0 0 0 0;\n",
              "      width: 32px;\n",
              "    }\n",
              "\n",
              "    .colab-df-convert:hover {\n",
              "      background-color: #E2EBFA;\n",
              "      box-shadow: 0px 1px 2px rgba(60, 64, 67, 0.3), 0px 1px 3px 1px rgba(60, 64, 67, 0.15);\n",
              "      fill: #174EA6;\n",
              "    }\n",
              "\n",
              "    [theme=dark] .colab-df-convert {\n",
              "      background-color: #3B4455;\n",
              "      fill: #D2E3FC;\n",
              "    }\n",
              "\n",
              "    [theme=dark] .colab-df-convert:hover {\n",
              "      background-color: #434B5C;\n",
              "      box-shadow: 0px 1px 3px 1px rgba(0, 0, 0, 0.15);\n",
              "      filter: drop-shadow(0px 1px 2px rgba(0, 0, 0, 0.3));\n",
              "      fill: #FFFFFF;\n",
              "    }\n",
              "  </style>\n",
              "\n",
              "      <script>\n",
              "        const buttonEl =\n",
              "          document.querySelector('#df-552636c2-51ba-4a55-82ea-07e691d8814b button.colab-df-convert');\n",
              "        buttonEl.style.display =\n",
              "          google.colab.kernel.accessAllowed ? 'block' : 'none';\n",
              "\n",
              "        async function convertToInteractive(key) {\n",
              "          const element = document.querySelector('#df-552636c2-51ba-4a55-82ea-07e691d8814b');\n",
              "          const dataTable =\n",
              "            await google.colab.kernel.invokeFunction('convertToInteractive',\n",
              "                                                     [key], {});\n",
              "          if (!dataTable) return;\n",
              "\n",
              "          const docLinkHtml = 'Like what you see? Visit the ' +\n",
              "            '<a target=\"_blank\" href=https://colab.research.google.com/notebooks/data_table.ipynb>data table notebook</a>'\n",
              "            + ' to learn more about interactive tables.';\n",
              "          element.innerHTML = '';\n",
              "          dataTable['output_type'] = 'display_data';\n",
              "          await google.colab.output.renderOutput(dataTable, element);\n",
              "          const docLink = document.createElement('div');\n",
              "          docLink.innerHTML = docLinkHtml;\n",
              "          element.appendChild(docLink);\n",
              "        }\n",
              "      </script>\n",
              "    </div>\n",
              "  </div>\n",
              "  "
            ]
          },
          "metadata": {},
          "execution_count": 3
        }
      ]
    },
    {
      "cell_type": "code",
      "source": [
        "#Checking datatypes\n",
        "diamonds_df.dtypes"
      ],
      "metadata": {
        "id": "09EkhQODGoq2",
        "colab": {
          "base_uri": "https://localhost:8080/"
        },
        "outputId": "6de7f118-7967-45f9-fa49-72da1f0607f0"
      },
      "execution_count": 4,
      "outputs": [
        {
          "output_type": "execute_result",
          "data": {
            "text/plain": [
              "carat      float64\n",
              "cut         object\n",
              "color       object\n",
              "clarity     object\n",
              "depth      float64\n",
              "table      float64\n",
              "price      float64\n",
              "'x'        float64\n",
              "'y'        float64\n",
              "'z'        float64\n",
              "dtype: object"
            ]
          },
          "metadata": {},
          "execution_count": 4
        }
      ]
    },
    {
      "cell_type": "markdown",
      "source": [
        "Cleaning the Data and removing columns without effect"
      ],
      "metadata": {
        "id": "3r_b2OwDG7zM"
      }
    },
    {
      "cell_type": "code",
      "source": [
        "#removing the  \"b'\" in front of cut,color and clarity as this might not be helpful\n",
        "diamonds_df['color'] = diamonds_df['color'].str.replace(\"b'\",'')\n",
        "diamonds_df['cut'] =diamonds_df['cut'].str.replace(\"b'\", '')\n",
        "diamonds_df['clarity'] = diamonds_df['clarity'].str.replace(\"b'\", '')\n",
        "diamonds_df['color'] = diamonds_df['color'].str.replace(\"'\", '')\n",
        "diamonds_df['cut'] = diamonds_df['cut'].str.replace(\"'\", '')\n",
        "diamonds_df['clarity'] =diamonds_df['clarity'].str.replace(\"'\", '')\n",
        "diamonds_df"
      ],
      "metadata": {
        "colab": {
          "base_uri": "https://localhost:8080/",
          "height": 423
        },
        "id": "1WFXXuqlNIz_",
        "outputId": "e6947da9-c9e6-4881-d1ac-526deb1c7cfe"
      },
      "execution_count": 5,
      "outputs": [
        {
          "output_type": "execute_result",
          "data": {
            "text/plain": [
              "       carat        cut color clarity  depth  table   price   'x'   'y'   'z'\n",
              "0       0.23      Ideal     E     SI2   61.5   55.0   326.0  3.95  3.98  2.43\n",
              "1       0.21    Premium     E     SI1   59.8   61.0   326.0  3.89  3.84  2.31\n",
              "2       0.23       Good     E     VS1   56.9   65.0   327.0  4.05  4.07  2.31\n",
              "3       0.29    Premium     I     VS2   62.4   58.0   334.0  4.20  4.23  2.63\n",
              "4       0.31       Good     J     SI2   63.3   58.0   335.0  4.34  4.35  2.75\n",
              "...      ...        ...   ...     ...    ...    ...     ...   ...   ...   ...\n",
              "53935   0.72      Ideal     D     SI1   60.8   57.0  2757.0  5.75  5.76  3.50\n",
              "53936   0.72       Good     D     SI1   63.1   55.0  2757.0  5.69  5.75  3.61\n",
              "53937   0.70  Very Good     D     SI1   62.8   60.0  2757.0  5.66  5.68  3.56\n",
              "53938   0.86    Premium     H     SI2   61.0   58.0  2757.0  6.15  6.12  3.74\n",
              "53939   0.75      Ideal     D     SI2   62.2   55.0  2757.0  5.83  5.87  3.64\n",
              "\n",
              "[53940 rows x 10 columns]"
            ],
            "text/html": [
              "\n",
              "  <div id=\"df-a45df919-a617-4327-a120-b3ea93372915\">\n",
              "    <div class=\"colab-df-container\">\n",
              "      <div>\n",
              "<style scoped>\n",
              "    .dataframe tbody tr th:only-of-type {\n",
              "        vertical-align: middle;\n",
              "    }\n",
              "\n",
              "    .dataframe tbody tr th {\n",
              "        vertical-align: top;\n",
              "    }\n",
              "\n",
              "    .dataframe thead th {\n",
              "        text-align: right;\n",
              "    }\n",
              "</style>\n",
              "<table border=\"1\" class=\"dataframe\">\n",
              "  <thead>\n",
              "    <tr style=\"text-align: right;\">\n",
              "      <th></th>\n",
              "      <th>carat</th>\n",
              "      <th>cut</th>\n",
              "      <th>color</th>\n",
              "      <th>clarity</th>\n",
              "      <th>depth</th>\n",
              "      <th>table</th>\n",
              "      <th>price</th>\n",
              "      <th>'x'</th>\n",
              "      <th>'y'</th>\n",
              "      <th>'z'</th>\n",
              "    </tr>\n",
              "  </thead>\n",
              "  <tbody>\n",
              "    <tr>\n",
              "      <th>0</th>\n",
              "      <td>0.23</td>\n",
              "      <td>Ideal</td>\n",
              "      <td>E</td>\n",
              "      <td>SI2</td>\n",
              "      <td>61.5</td>\n",
              "      <td>55.0</td>\n",
              "      <td>326.0</td>\n",
              "      <td>3.95</td>\n",
              "      <td>3.98</td>\n",
              "      <td>2.43</td>\n",
              "    </tr>\n",
              "    <tr>\n",
              "      <th>1</th>\n",
              "      <td>0.21</td>\n",
              "      <td>Premium</td>\n",
              "      <td>E</td>\n",
              "      <td>SI1</td>\n",
              "      <td>59.8</td>\n",
              "      <td>61.0</td>\n",
              "      <td>326.0</td>\n",
              "      <td>3.89</td>\n",
              "      <td>3.84</td>\n",
              "      <td>2.31</td>\n",
              "    </tr>\n",
              "    <tr>\n",
              "      <th>2</th>\n",
              "      <td>0.23</td>\n",
              "      <td>Good</td>\n",
              "      <td>E</td>\n",
              "      <td>VS1</td>\n",
              "      <td>56.9</td>\n",
              "      <td>65.0</td>\n",
              "      <td>327.0</td>\n",
              "      <td>4.05</td>\n",
              "      <td>4.07</td>\n",
              "      <td>2.31</td>\n",
              "    </tr>\n",
              "    <tr>\n",
              "      <th>3</th>\n",
              "      <td>0.29</td>\n",
              "      <td>Premium</td>\n",
              "      <td>I</td>\n",
              "      <td>VS2</td>\n",
              "      <td>62.4</td>\n",
              "      <td>58.0</td>\n",
              "      <td>334.0</td>\n",
              "      <td>4.20</td>\n",
              "      <td>4.23</td>\n",
              "      <td>2.63</td>\n",
              "    </tr>\n",
              "    <tr>\n",
              "      <th>4</th>\n",
              "      <td>0.31</td>\n",
              "      <td>Good</td>\n",
              "      <td>J</td>\n",
              "      <td>SI2</td>\n",
              "      <td>63.3</td>\n",
              "      <td>58.0</td>\n",
              "      <td>335.0</td>\n",
              "      <td>4.34</td>\n",
              "      <td>4.35</td>\n",
              "      <td>2.75</td>\n",
              "    </tr>\n",
              "    <tr>\n",
              "      <th>...</th>\n",
              "      <td>...</td>\n",
              "      <td>...</td>\n",
              "      <td>...</td>\n",
              "      <td>...</td>\n",
              "      <td>...</td>\n",
              "      <td>...</td>\n",
              "      <td>...</td>\n",
              "      <td>...</td>\n",
              "      <td>...</td>\n",
              "      <td>...</td>\n",
              "    </tr>\n",
              "    <tr>\n",
              "      <th>53935</th>\n",
              "      <td>0.72</td>\n",
              "      <td>Ideal</td>\n",
              "      <td>D</td>\n",
              "      <td>SI1</td>\n",
              "      <td>60.8</td>\n",
              "      <td>57.0</td>\n",
              "      <td>2757.0</td>\n",
              "      <td>5.75</td>\n",
              "      <td>5.76</td>\n",
              "      <td>3.50</td>\n",
              "    </tr>\n",
              "    <tr>\n",
              "      <th>53936</th>\n",
              "      <td>0.72</td>\n",
              "      <td>Good</td>\n",
              "      <td>D</td>\n",
              "      <td>SI1</td>\n",
              "      <td>63.1</td>\n",
              "      <td>55.0</td>\n",
              "      <td>2757.0</td>\n",
              "      <td>5.69</td>\n",
              "      <td>5.75</td>\n",
              "      <td>3.61</td>\n",
              "    </tr>\n",
              "    <tr>\n",
              "      <th>53937</th>\n",
              "      <td>0.70</td>\n",
              "      <td>Very Good</td>\n",
              "      <td>D</td>\n",
              "      <td>SI1</td>\n",
              "      <td>62.8</td>\n",
              "      <td>60.0</td>\n",
              "      <td>2757.0</td>\n",
              "      <td>5.66</td>\n",
              "      <td>5.68</td>\n",
              "      <td>3.56</td>\n",
              "    </tr>\n",
              "    <tr>\n",
              "      <th>53938</th>\n",
              "      <td>0.86</td>\n",
              "      <td>Premium</td>\n",
              "      <td>H</td>\n",
              "      <td>SI2</td>\n",
              "      <td>61.0</td>\n",
              "      <td>58.0</td>\n",
              "      <td>2757.0</td>\n",
              "      <td>6.15</td>\n",
              "      <td>6.12</td>\n",
              "      <td>3.74</td>\n",
              "    </tr>\n",
              "    <tr>\n",
              "      <th>53939</th>\n",
              "      <td>0.75</td>\n",
              "      <td>Ideal</td>\n",
              "      <td>D</td>\n",
              "      <td>SI2</td>\n",
              "      <td>62.2</td>\n",
              "      <td>55.0</td>\n",
              "      <td>2757.0</td>\n",
              "      <td>5.83</td>\n",
              "      <td>5.87</td>\n",
              "      <td>3.64</td>\n",
              "    </tr>\n",
              "  </tbody>\n",
              "</table>\n",
              "<p>53940 rows × 10 columns</p>\n",
              "</div>\n",
              "      <button class=\"colab-df-convert\" onclick=\"convertToInteractive('df-a45df919-a617-4327-a120-b3ea93372915')\"\n",
              "              title=\"Convert this dataframe to an interactive table.\"\n",
              "              style=\"display:none;\">\n",
              "        \n",
              "  <svg xmlns=\"http://www.w3.org/2000/svg\" height=\"24px\"viewBox=\"0 0 24 24\"\n",
              "       width=\"24px\">\n",
              "    <path d=\"M0 0h24v24H0V0z\" fill=\"none\"/>\n",
              "    <path d=\"M18.56 5.44l.94 2.06.94-2.06 2.06-.94-2.06-.94-.94-2.06-.94 2.06-2.06.94zm-11 1L8.5 8.5l.94-2.06 2.06-.94-2.06-.94L8.5 2.5l-.94 2.06-2.06.94zm10 10l.94 2.06.94-2.06 2.06-.94-2.06-.94-.94-2.06-.94 2.06-2.06.94z\"/><path d=\"M17.41 7.96l-1.37-1.37c-.4-.4-.92-.59-1.43-.59-.52 0-1.04.2-1.43.59L10.3 9.45l-7.72 7.72c-.78.78-.78 2.05 0 2.83L4 21.41c.39.39.9.59 1.41.59.51 0 1.02-.2 1.41-.59l7.78-7.78 2.81-2.81c.8-.78.8-2.07 0-2.86zM5.41 20L4 18.59l7.72-7.72 1.47 1.35L5.41 20z\"/>\n",
              "  </svg>\n",
              "      </button>\n",
              "      \n",
              "  <style>\n",
              "    .colab-df-container {\n",
              "      display:flex;\n",
              "      flex-wrap:wrap;\n",
              "      gap: 12px;\n",
              "    }\n",
              "\n",
              "    .colab-df-convert {\n",
              "      background-color: #E8F0FE;\n",
              "      border: none;\n",
              "      border-radius: 50%;\n",
              "      cursor: pointer;\n",
              "      display: none;\n",
              "      fill: #1967D2;\n",
              "      height: 32px;\n",
              "      padding: 0 0 0 0;\n",
              "      width: 32px;\n",
              "    }\n",
              "\n",
              "    .colab-df-convert:hover {\n",
              "      background-color: #E2EBFA;\n",
              "      box-shadow: 0px 1px 2px rgba(60, 64, 67, 0.3), 0px 1px 3px 1px rgba(60, 64, 67, 0.15);\n",
              "      fill: #174EA6;\n",
              "    }\n",
              "\n",
              "    [theme=dark] .colab-df-convert {\n",
              "      background-color: #3B4455;\n",
              "      fill: #D2E3FC;\n",
              "    }\n",
              "\n",
              "    [theme=dark] .colab-df-convert:hover {\n",
              "      background-color: #434B5C;\n",
              "      box-shadow: 0px 1px 3px 1px rgba(0, 0, 0, 0.15);\n",
              "      filter: drop-shadow(0px 1px 2px rgba(0, 0, 0, 0.3));\n",
              "      fill: #FFFFFF;\n",
              "    }\n",
              "  </style>\n",
              "\n",
              "      <script>\n",
              "        const buttonEl =\n",
              "          document.querySelector('#df-a45df919-a617-4327-a120-b3ea93372915 button.colab-df-convert');\n",
              "        buttonEl.style.display =\n",
              "          google.colab.kernel.accessAllowed ? 'block' : 'none';\n",
              "\n",
              "        async function convertToInteractive(key) {\n",
              "          const element = document.querySelector('#df-a45df919-a617-4327-a120-b3ea93372915');\n",
              "          const dataTable =\n",
              "            await google.colab.kernel.invokeFunction('convertToInteractive',\n",
              "                                                     [key], {});\n",
              "          if (!dataTable) return;\n",
              "\n",
              "          const docLinkHtml = 'Like what you see? Visit the ' +\n",
              "            '<a target=\"_blank\" href=https://colab.research.google.com/notebooks/data_table.ipynb>data table notebook</a>'\n",
              "            + ' to learn more about interactive tables.';\n",
              "          element.innerHTML = '';\n",
              "          dataTable['output_type'] = 'display_data';\n",
              "          await google.colab.output.renderOutput(dataTable, element);\n",
              "          const docLink = document.createElement('div');\n",
              "          docLink.innerHTML = docLinkHtml;\n",
              "          element.appendChild(docLink);\n",
              "        }\n",
              "      </script>\n",
              "    </div>\n",
              "  </div>\n",
              "  "
            ]
          },
          "metadata": {},
          "execution_count": 5
        }
      ]
    },
    {
      "cell_type": "code",
      "source": [
        "#removing unwanted columns and creating a df with no duplicates\n",
        "df_no_dup = diamonds_df.drop(columns = ['cut',\"'x'\", \"'y'\", \"'z'\"])\n",
        "df_no_dup\n",
        "\n",
        "#(df_no_dup = diamonds_df.drop(columns = ['depth', 'table', \"'x'\", \"'y'\", \"'z'\"]))"
      ],
      "metadata": {
        "id": "lciW3HXCNuzN",
        "colab": {
          "base_uri": "https://localhost:8080/",
          "height": 423
        },
        "outputId": "59cd169e-2a2c-41f2-fd22-32f5c561c1b6"
      },
      "execution_count": 6,
      "outputs": [
        {
          "output_type": "execute_result",
          "data": {
            "text/plain": [
              "       carat color clarity  depth  table   price\n",
              "0       0.23     E     SI2   61.5   55.0   326.0\n",
              "1       0.21     E     SI1   59.8   61.0   326.0\n",
              "2       0.23     E     VS1   56.9   65.0   327.0\n",
              "3       0.29     I     VS2   62.4   58.0   334.0\n",
              "4       0.31     J     SI2   63.3   58.0   335.0\n",
              "...      ...   ...     ...    ...    ...     ...\n",
              "53935   0.72     D     SI1   60.8   57.0  2757.0\n",
              "53936   0.72     D     SI1   63.1   55.0  2757.0\n",
              "53937   0.70     D     SI1   62.8   60.0  2757.0\n",
              "53938   0.86     H     SI2   61.0   58.0  2757.0\n",
              "53939   0.75     D     SI2   62.2   55.0  2757.0\n",
              "\n",
              "[53940 rows x 6 columns]"
            ],
            "text/html": [
              "\n",
              "  <div id=\"df-8ffe874c-e15d-48ec-bb76-556dd1cba9a4\">\n",
              "    <div class=\"colab-df-container\">\n",
              "      <div>\n",
              "<style scoped>\n",
              "    .dataframe tbody tr th:only-of-type {\n",
              "        vertical-align: middle;\n",
              "    }\n",
              "\n",
              "    .dataframe tbody tr th {\n",
              "        vertical-align: top;\n",
              "    }\n",
              "\n",
              "    .dataframe thead th {\n",
              "        text-align: right;\n",
              "    }\n",
              "</style>\n",
              "<table border=\"1\" class=\"dataframe\">\n",
              "  <thead>\n",
              "    <tr style=\"text-align: right;\">\n",
              "      <th></th>\n",
              "      <th>carat</th>\n",
              "      <th>color</th>\n",
              "      <th>clarity</th>\n",
              "      <th>depth</th>\n",
              "      <th>table</th>\n",
              "      <th>price</th>\n",
              "    </tr>\n",
              "  </thead>\n",
              "  <tbody>\n",
              "    <tr>\n",
              "      <th>0</th>\n",
              "      <td>0.23</td>\n",
              "      <td>E</td>\n",
              "      <td>SI2</td>\n",
              "      <td>61.5</td>\n",
              "      <td>55.0</td>\n",
              "      <td>326.0</td>\n",
              "    </tr>\n",
              "    <tr>\n",
              "      <th>1</th>\n",
              "      <td>0.21</td>\n",
              "      <td>E</td>\n",
              "      <td>SI1</td>\n",
              "      <td>59.8</td>\n",
              "      <td>61.0</td>\n",
              "      <td>326.0</td>\n",
              "    </tr>\n",
              "    <tr>\n",
              "      <th>2</th>\n",
              "      <td>0.23</td>\n",
              "      <td>E</td>\n",
              "      <td>VS1</td>\n",
              "      <td>56.9</td>\n",
              "      <td>65.0</td>\n",
              "      <td>327.0</td>\n",
              "    </tr>\n",
              "    <tr>\n",
              "      <th>3</th>\n",
              "      <td>0.29</td>\n",
              "      <td>I</td>\n",
              "      <td>VS2</td>\n",
              "      <td>62.4</td>\n",
              "      <td>58.0</td>\n",
              "      <td>334.0</td>\n",
              "    </tr>\n",
              "    <tr>\n",
              "      <th>4</th>\n",
              "      <td>0.31</td>\n",
              "      <td>J</td>\n",
              "      <td>SI2</td>\n",
              "      <td>63.3</td>\n",
              "      <td>58.0</td>\n",
              "      <td>335.0</td>\n",
              "    </tr>\n",
              "    <tr>\n",
              "      <th>...</th>\n",
              "      <td>...</td>\n",
              "      <td>...</td>\n",
              "      <td>...</td>\n",
              "      <td>...</td>\n",
              "      <td>...</td>\n",
              "      <td>...</td>\n",
              "    </tr>\n",
              "    <tr>\n",
              "      <th>53935</th>\n",
              "      <td>0.72</td>\n",
              "      <td>D</td>\n",
              "      <td>SI1</td>\n",
              "      <td>60.8</td>\n",
              "      <td>57.0</td>\n",
              "      <td>2757.0</td>\n",
              "    </tr>\n",
              "    <tr>\n",
              "      <th>53936</th>\n",
              "      <td>0.72</td>\n",
              "      <td>D</td>\n",
              "      <td>SI1</td>\n",
              "      <td>63.1</td>\n",
              "      <td>55.0</td>\n",
              "      <td>2757.0</td>\n",
              "    </tr>\n",
              "    <tr>\n",
              "      <th>53937</th>\n",
              "      <td>0.70</td>\n",
              "      <td>D</td>\n",
              "      <td>SI1</td>\n",
              "      <td>62.8</td>\n",
              "      <td>60.0</td>\n",
              "      <td>2757.0</td>\n",
              "    </tr>\n",
              "    <tr>\n",
              "      <th>53938</th>\n",
              "      <td>0.86</td>\n",
              "      <td>H</td>\n",
              "      <td>SI2</td>\n",
              "      <td>61.0</td>\n",
              "      <td>58.0</td>\n",
              "      <td>2757.0</td>\n",
              "    </tr>\n",
              "    <tr>\n",
              "      <th>53939</th>\n",
              "      <td>0.75</td>\n",
              "      <td>D</td>\n",
              "      <td>SI2</td>\n",
              "      <td>62.2</td>\n",
              "      <td>55.0</td>\n",
              "      <td>2757.0</td>\n",
              "    </tr>\n",
              "  </tbody>\n",
              "</table>\n",
              "<p>53940 rows × 6 columns</p>\n",
              "</div>\n",
              "      <button class=\"colab-df-convert\" onclick=\"convertToInteractive('df-8ffe874c-e15d-48ec-bb76-556dd1cba9a4')\"\n",
              "              title=\"Convert this dataframe to an interactive table.\"\n",
              "              style=\"display:none;\">\n",
              "        \n",
              "  <svg xmlns=\"http://www.w3.org/2000/svg\" height=\"24px\"viewBox=\"0 0 24 24\"\n",
              "       width=\"24px\">\n",
              "    <path d=\"M0 0h24v24H0V0z\" fill=\"none\"/>\n",
              "    <path d=\"M18.56 5.44l.94 2.06.94-2.06 2.06-.94-2.06-.94-.94-2.06-.94 2.06-2.06.94zm-11 1L8.5 8.5l.94-2.06 2.06-.94-2.06-.94L8.5 2.5l-.94 2.06-2.06.94zm10 10l.94 2.06.94-2.06 2.06-.94-2.06-.94-.94-2.06-.94 2.06-2.06.94z\"/><path d=\"M17.41 7.96l-1.37-1.37c-.4-.4-.92-.59-1.43-.59-.52 0-1.04.2-1.43.59L10.3 9.45l-7.72 7.72c-.78.78-.78 2.05 0 2.83L4 21.41c.39.39.9.59 1.41.59.51 0 1.02-.2 1.41-.59l7.78-7.78 2.81-2.81c.8-.78.8-2.07 0-2.86zM5.41 20L4 18.59l7.72-7.72 1.47 1.35L5.41 20z\"/>\n",
              "  </svg>\n",
              "      </button>\n",
              "      \n",
              "  <style>\n",
              "    .colab-df-container {\n",
              "      display:flex;\n",
              "      flex-wrap:wrap;\n",
              "      gap: 12px;\n",
              "    }\n",
              "\n",
              "    .colab-df-convert {\n",
              "      background-color: #E8F0FE;\n",
              "      border: none;\n",
              "      border-radius: 50%;\n",
              "      cursor: pointer;\n",
              "      display: none;\n",
              "      fill: #1967D2;\n",
              "      height: 32px;\n",
              "      padding: 0 0 0 0;\n",
              "      width: 32px;\n",
              "    }\n",
              "\n",
              "    .colab-df-convert:hover {\n",
              "      background-color: #E2EBFA;\n",
              "      box-shadow: 0px 1px 2px rgba(60, 64, 67, 0.3), 0px 1px 3px 1px rgba(60, 64, 67, 0.15);\n",
              "      fill: #174EA6;\n",
              "    }\n",
              "\n",
              "    [theme=dark] .colab-df-convert {\n",
              "      background-color: #3B4455;\n",
              "      fill: #D2E3FC;\n",
              "    }\n",
              "\n",
              "    [theme=dark] .colab-df-convert:hover {\n",
              "      background-color: #434B5C;\n",
              "      box-shadow: 0px 1px 3px 1px rgba(0, 0, 0, 0.15);\n",
              "      filter: drop-shadow(0px 1px 2px rgba(0, 0, 0, 0.3));\n",
              "      fill: #FFFFFF;\n",
              "    }\n",
              "  </style>\n",
              "\n",
              "      <script>\n",
              "        const buttonEl =\n",
              "          document.querySelector('#df-8ffe874c-e15d-48ec-bb76-556dd1cba9a4 button.colab-df-convert');\n",
              "        buttonEl.style.display =\n",
              "          google.colab.kernel.accessAllowed ? 'block' : 'none';\n",
              "\n",
              "        async function convertToInteractive(key) {\n",
              "          const element = document.querySelector('#df-8ffe874c-e15d-48ec-bb76-556dd1cba9a4');\n",
              "          const dataTable =\n",
              "            await google.colab.kernel.invokeFunction('convertToInteractive',\n",
              "                                                     [key], {});\n",
              "          if (!dataTable) return;\n",
              "\n",
              "          const docLinkHtml = 'Like what you see? Visit the ' +\n",
              "            '<a target=\"_blank\" href=https://colab.research.google.com/notebooks/data_table.ipynb>data table notebook</a>'\n",
              "            + ' to learn more about interactive tables.';\n",
              "          element.innerHTML = '';\n",
              "          dataTable['output_type'] = 'display_data';\n",
              "          await google.colab.output.renderOutput(dataTable, element);\n",
              "          const docLink = document.createElement('div');\n",
              "          docLink.innerHTML = docLinkHtml;\n",
              "          element.appendChild(docLink);\n",
              "        }\n",
              "      </script>\n",
              "    </div>\n",
              "  </div>\n",
              "  "
            ]
          },
          "metadata": {},
          "execution_count": 6
        }
      ]
    },
    {
      "cell_type": "code",
      "source": [
        "# stage 1 changing clarity str no numerical values, first seeig how many values are present\n",
        "df_no_dup['clarity'].value_counts()"
      ],
      "metadata": {
        "colab": {
          "base_uri": "https://localhost:8080/"
        },
        "id": "7mtdPgd9PnmL",
        "outputId": "9ba38b16-0305-4490-835c-18e55036f51c"
      },
      "execution_count": 7,
      "outputs": [
        {
          "output_type": "execute_result",
          "data": {
            "text/plain": [
              "SI1     13065\n",
              "VS2     12258\n",
              "SI2      9194\n",
              "VS1      8171\n",
              "VVS2     5066\n",
              "VVS1     3655\n",
              "IF       1790\n",
              "I1        741\n",
              "Name: clarity, dtype: int64"
            ]
          },
          "metadata": {},
          "execution_count": 7
        }
      ]
    },
    {
      "cell_type": "code",
      "source": [
        "# Convert the numeric object values to string values \n",
        "df_no_dup['clarity'].replace(['IF','VVS1','VVS2','VS1','VS2','SI1','SI2','I1'],[1,2,3,4,5,6,7,8],inplace=True)\n",
        "df_no_dup.head()"
      ],
      "metadata": {
        "colab": {
          "base_uri": "https://localhost:8080/",
          "height": 206
        },
        "id": "fy6_IYBmX4NU",
        "outputId": "386a0c08-217f-47bb-ed10-38a1fb5d9fe8"
      },
      "execution_count": 8,
      "outputs": [
        {
          "output_type": "execute_result",
          "data": {
            "text/plain": [
              "   carat color  clarity  depth  table  price\n",
              "0   0.23     E        7   61.5   55.0  326.0\n",
              "1   0.21     E        6   59.8   61.0  326.0\n",
              "2   0.23     E        4   56.9   65.0  327.0\n",
              "3   0.29     I        5   62.4   58.0  334.0\n",
              "4   0.31     J        7   63.3   58.0  335.0"
            ],
            "text/html": [
              "\n",
              "  <div id=\"df-6319915c-719f-4f02-b097-eaec3a3cbd6a\">\n",
              "    <div class=\"colab-df-container\">\n",
              "      <div>\n",
              "<style scoped>\n",
              "    .dataframe tbody tr th:only-of-type {\n",
              "        vertical-align: middle;\n",
              "    }\n",
              "\n",
              "    .dataframe tbody tr th {\n",
              "        vertical-align: top;\n",
              "    }\n",
              "\n",
              "    .dataframe thead th {\n",
              "        text-align: right;\n",
              "    }\n",
              "</style>\n",
              "<table border=\"1\" class=\"dataframe\">\n",
              "  <thead>\n",
              "    <tr style=\"text-align: right;\">\n",
              "      <th></th>\n",
              "      <th>carat</th>\n",
              "      <th>color</th>\n",
              "      <th>clarity</th>\n",
              "      <th>depth</th>\n",
              "      <th>table</th>\n",
              "      <th>price</th>\n",
              "    </tr>\n",
              "  </thead>\n",
              "  <tbody>\n",
              "    <tr>\n",
              "      <th>0</th>\n",
              "      <td>0.23</td>\n",
              "      <td>E</td>\n",
              "      <td>7</td>\n",
              "      <td>61.5</td>\n",
              "      <td>55.0</td>\n",
              "      <td>326.0</td>\n",
              "    </tr>\n",
              "    <tr>\n",
              "      <th>1</th>\n",
              "      <td>0.21</td>\n",
              "      <td>E</td>\n",
              "      <td>6</td>\n",
              "      <td>59.8</td>\n",
              "      <td>61.0</td>\n",
              "      <td>326.0</td>\n",
              "    </tr>\n",
              "    <tr>\n",
              "      <th>2</th>\n",
              "      <td>0.23</td>\n",
              "      <td>E</td>\n",
              "      <td>4</td>\n",
              "      <td>56.9</td>\n",
              "      <td>65.0</td>\n",
              "      <td>327.0</td>\n",
              "    </tr>\n",
              "    <tr>\n",
              "      <th>3</th>\n",
              "      <td>0.29</td>\n",
              "      <td>I</td>\n",
              "      <td>5</td>\n",
              "      <td>62.4</td>\n",
              "      <td>58.0</td>\n",
              "      <td>334.0</td>\n",
              "    </tr>\n",
              "    <tr>\n",
              "      <th>4</th>\n",
              "      <td>0.31</td>\n",
              "      <td>J</td>\n",
              "      <td>7</td>\n",
              "      <td>63.3</td>\n",
              "      <td>58.0</td>\n",
              "      <td>335.0</td>\n",
              "    </tr>\n",
              "  </tbody>\n",
              "</table>\n",
              "</div>\n",
              "      <button class=\"colab-df-convert\" onclick=\"convertToInteractive('df-6319915c-719f-4f02-b097-eaec3a3cbd6a')\"\n",
              "              title=\"Convert this dataframe to an interactive table.\"\n",
              "              style=\"display:none;\">\n",
              "        \n",
              "  <svg xmlns=\"http://www.w3.org/2000/svg\" height=\"24px\"viewBox=\"0 0 24 24\"\n",
              "       width=\"24px\">\n",
              "    <path d=\"M0 0h24v24H0V0z\" fill=\"none\"/>\n",
              "    <path d=\"M18.56 5.44l.94 2.06.94-2.06 2.06-.94-2.06-.94-.94-2.06-.94 2.06-2.06.94zm-11 1L8.5 8.5l.94-2.06 2.06-.94-2.06-.94L8.5 2.5l-.94 2.06-2.06.94zm10 10l.94 2.06.94-2.06 2.06-.94-2.06-.94-.94-2.06-.94 2.06-2.06.94z\"/><path d=\"M17.41 7.96l-1.37-1.37c-.4-.4-.92-.59-1.43-.59-.52 0-1.04.2-1.43.59L10.3 9.45l-7.72 7.72c-.78.78-.78 2.05 0 2.83L4 21.41c.39.39.9.59 1.41.59.51 0 1.02-.2 1.41-.59l7.78-7.78 2.81-2.81c.8-.78.8-2.07 0-2.86zM5.41 20L4 18.59l7.72-7.72 1.47 1.35L5.41 20z\"/>\n",
              "  </svg>\n",
              "      </button>\n",
              "      \n",
              "  <style>\n",
              "    .colab-df-container {\n",
              "      display:flex;\n",
              "      flex-wrap:wrap;\n",
              "      gap: 12px;\n",
              "    }\n",
              "\n",
              "    .colab-df-convert {\n",
              "      background-color: #E8F0FE;\n",
              "      border: none;\n",
              "      border-radius: 50%;\n",
              "      cursor: pointer;\n",
              "      display: none;\n",
              "      fill: #1967D2;\n",
              "      height: 32px;\n",
              "      padding: 0 0 0 0;\n",
              "      width: 32px;\n",
              "    }\n",
              "\n",
              "    .colab-df-convert:hover {\n",
              "      background-color: #E2EBFA;\n",
              "      box-shadow: 0px 1px 2px rgba(60, 64, 67, 0.3), 0px 1px 3px 1px rgba(60, 64, 67, 0.15);\n",
              "      fill: #174EA6;\n",
              "    }\n",
              "\n",
              "    [theme=dark] .colab-df-convert {\n",
              "      background-color: #3B4455;\n",
              "      fill: #D2E3FC;\n",
              "    }\n",
              "\n",
              "    [theme=dark] .colab-df-convert:hover {\n",
              "      background-color: #434B5C;\n",
              "      box-shadow: 0px 1px 3px 1px rgba(0, 0, 0, 0.15);\n",
              "      filter: drop-shadow(0px 1px 2px rgba(0, 0, 0, 0.3));\n",
              "      fill: #FFFFFF;\n",
              "    }\n",
              "  </style>\n",
              "\n",
              "      <script>\n",
              "        const buttonEl =\n",
              "          document.querySelector('#df-6319915c-719f-4f02-b097-eaec3a3cbd6a button.colab-df-convert');\n",
              "        buttonEl.style.display =\n",
              "          google.colab.kernel.accessAllowed ? 'block' : 'none';\n",
              "\n",
              "        async function convertToInteractive(key) {\n",
              "          const element = document.querySelector('#df-6319915c-719f-4f02-b097-eaec3a3cbd6a');\n",
              "          const dataTable =\n",
              "            await google.colab.kernel.invokeFunction('convertToInteractive',\n",
              "                                                     [key], {});\n",
              "          if (!dataTable) return;\n",
              "\n",
              "          const docLinkHtml = 'Like what you see? Visit the ' +\n",
              "            '<a target=\"_blank\" href=https://colab.research.google.com/notebooks/data_table.ipynb>data table notebook</a>'\n",
              "            + ' to learn more about interactive tables.';\n",
              "          element.innerHTML = '';\n",
              "          dataTable['output_type'] = 'display_data';\n",
              "          await google.colab.output.renderOutput(dataTable, element);\n",
              "          const docLink = document.createElement('div');\n",
              "          docLink.innerHTML = docLinkHtml;\n",
              "          element.appendChild(docLink);\n",
              "        }\n",
              "      </script>\n",
              "    </div>\n",
              "  </div>\n",
              "  "
            ]
          },
          "metadata": {},
          "execution_count": 8
        }
      ]
    },
    {
      "cell_type": "code",
      "source": [
        "# 2. Check the datatypes of your columns with the newly changed 'clarity' column and compare to diamonds_df. clarity's dtype is not int64 \n",
        "df_no_dup.dtypes"
      ],
      "metadata": {
        "colab": {
          "base_uri": "https://localhost:8080/"
        },
        "id": "nZWDXv2CsygT",
        "outputId": "4dcb5d6a-406e-4877-ebe3-a9a05d5771cc"
      },
      "execution_count": 9,
      "outputs": [
        {
          "output_type": "execute_result",
          "data": {
            "text/plain": [
              "carat      float64\n",
              "color       object\n",
              "clarity      int64\n",
              "depth      float64\n",
              "table      float64\n",
              "price      float64\n",
              "dtype: object"
            ]
          },
          "metadata": {},
          "execution_count": 9
        }
      ]
    },
    {
      "cell_type": "markdown",
      "source": [
        "Changing the diamond colour from string to int so our model can process it better"
      ],
      "metadata": {
        "id": "WN3RslDw1CoM"
      }
    },
    {
      "cell_type": "code",
      "source": [
        "#find out how many different values we have \n",
        "df_no_dup['color'].value_counts()"
      ],
      "metadata": {
        "colab": {
          "base_uri": "https://localhost:8080/"
        },
        "id": "3K7lpgAK1O13",
        "outputId": "13c7e916-a405-4966-a831-f0a419b2a6c6"
      },
      "execution_count": 10,
      "outputs": [
        {
          "output_type": "execute_result",
          "data": {
            "text/plain": [
              "G    11292\n",
              "E     9797\n",
              "F     9542\n",
              "H     8304\n",
              "D     6775\n",
              "I     5422\n",
              "J     2808\n",
              "Name: color, dtype: int64"
            ]
          },
          "metadata": {},
          "execution_count": 10
        }
      ]
    },
    {
      "cell_type": "code",
      "source": [
        "# Convert the numeric object values to string values, the higher the number the more colourful is diamond is. lower number means a diamonds is almost colourless and therefore ideal\n",
        "df_no_dup['color'].replace(['G','E','F','H','D','I','J'],[10,20,30,40,50,60,70],inplace=True)\n",
        "df_no_dup.head()"
      ],
      "metadata": {
        "colab": {
          "base_uri": "https://localhost:8080/",
          "height": 206
        },
        "id": "mwtSdPDz00xo",
        "outputId": "938f3f6e-4885-4cd3-ca91-c024e9102962"
      },
      "execution_count": 11,
      "outputs": [
        {
          "output_type": "execute_result",
          "data": {
            "text/plain": [
              "   carat  color  clarity  depth  table  price\n",
              "0   0.23     20        7   61.5   55.0  326.0\n",
              "1   0.21     20        6   59.8   61.0  326.0\n",
              "2   0.23     20        4   56.9   65.0  327.0\n",
              "3   0.29     60        5   62.4   58.0  334.0\n",
              "4   0.31     70        7   63.3   58.0  335.0"
            ],
            "text/html": [
              "\n",
              "  <div id=\"df-368311d0-b691-4d6a-8829-4934af173de1\">\n",
              "    <div class=\"colab-df-container\">\n",
              "      <div>\n",
              "<style scoped>\n",
              "    .dataframe tbody tr th:only-of-type {\n",
              "        vertical-align: middle;\n",
              "    }\n",
              "\n",
              "    .dataframe tbody tr th {\n",
              "        vertical-align: top;\n",
              "    }\n",
              "\n",
              "    .dataframe thead th {\n",
              "        text-align: right;\n",
              "    }\n",
              "</style>\n",
              "<table border=\"1\" class=\"dataframe\">\n",
              "  <thead>\n",
              "    <tr style=\"text-align: right;\">\n",
              "      <th></th>\n",
              "      <th>carat</th>\n",
              "      <th>color</th>\n",
              "      <th>clarity</th>\n",
              "      <th>depth</th>\n",
              "      <th>table</th>\n",
              "      <th>price</th>\n",
              "    </tr>\n",
              "  </thead>\n",
              "  <tbody>\n",
              "    <tr>\n",
              "      <th>0</th>\n",
              "      <td>0.23</td>\n",
              "      <td>20</td>\n",
              "      <td>7</td>\n",
              "      <td>61.5</td>\n",
              "      <td>55.0</td>\n",
              "      <td>326.0</td>\n",
              "    </tr>\n",
              "    <tr>\n",
              "      <th>1</th>\n",
              "      <td>0.21</td>\n",
              "      <td>20</td>\n",
              "      <td>6</td>\n",
              "      <td>59.8</td>\n",
              "      <td>61.0</td>\n",
              "      <td>326.0</td>\n",
              "    </tr>\n",
              "    <tr>\n",
              "      <th>2</th>\n",
              "      <td>0.23</td>\n",
              "      <td>20</td>\n",
              "      <td>4</td>\n",
              "      <td>56.9</td>\n",
              "      <td>65.0</td>\n",
              "      <td>327.0</td>\n",
              "    </tr>\n",
              "    <tr>\n",
              "      <th>3</th>\n",
              "      <td>0.29</td>\n",
              "      <td>60</td>\n",
              "      <td>5</td>\n",
              "      <td>62.4</td>\n",
              "      <td>58.0</td>\n",
              "      <td>334.0</td>\n",
              "    </tr>\n",
              "    <tr>\n",
              "      <th>4</th>\n",
              "      <td>0.31</td>\n",
              "      <td>70</td>\n",
              "      <td>7</td>\n",
              "      <td>63.3</td>\n",
              "      <td>58.0</td>\n",
              "      <td>335.0</td>\n",
              "    </tr>\n",
              "  </tbody>\n",
              "</table>\n",
              "</div>\n",
              "      <button class=\"colab-df-convert\" onclick=\"convertToInteractive('df-368311d0-b691-4d6a-8829-4934af173de1')\"\n",
              "              title=\"Convert this dataframe to an interactive table.\"\n",
              "              style=\"display:none;\">\n",
              "        \n",
              "  <svg xmlns=\"http://www.w3.org/2000/svg\" height=\"24px\"viewBox=\"0 0 24 24\"\n",
              "       width=\"24px\">\n",
              "    <path d=\"M0 0h24v24H0V0z\" fill=\"none\"/>\n",
              "    <path d=\"M18.56 5.44l.94 2.06.94-2.06 2.06-.94-2.06-.94-.94-2.06-.94 2.06-2.06.94zm-11 1L8.5 8.5l.94-2.06 2.06-.94-2.06-.94L8.5 2.5l-.94 2.06-2.06.94zm10 10l.94 2.06.94-2.06 2.06-.94-2.06-.94-.94-2.06-.94 2.06-2.06.94z\"/><path d=\"M17.41 7.96l-1.37-1.37c-.4-.4-.92-.59-1.43-.59-.52 0-1.04.2-1.43.59L10.3 9.45l-7.72 7.72c-.78.78-.78 2.05 0 2.83L4 21.41c.39.39.9.59 1.41.59.51 0 1.02-.2 1.41-.59l7.78-7.78 2.81-2.81c.8-.78.8-2.07 0-2.86zM5.41 20L4 18.59l7.72-7.72 1.47 1.35L5.41 20z\"/>\n",
              "  </svg>\n",
              "      </button>\n",
              "      \n",
              "  <style>\n",
              "    .colab-df-container {\n",
              "      display:flex;\n",
              "      flex-wrap:wrap;\n",
              "      gap: 12px;\n",
              "    }\n",
              "\n",
              "    .colab-df-convert {\n",
              "      background-color: #E8F0FE;\n",
              "      border: none;\n",
              "      border-radius: 50%;\n",
              "      cursor: pointer;\n",
              "      display: none;\n",
              "      fill: #1967D2;\n",
              "      height: 32px;\n",
              "      padding: 0 0 0 0;\n",
              "      width: 32px;\n",
              "    }\n",
              "\n",
              "    .colab-df-convert:hover {\n",
              "      background-color: #E2EBFA;\n",
              "      box-shadow: 0px 1px 2px rgba(60, 64, 67, 0.3), 0px 1px 3px 1px rgba(60, 64, 67, 0.15);\n",
              "      fill: #174EA6;\n",
              "    }\n",
              "\n",
              "    [theme=dark] .colab-df-convert {\n",
              "      background-color: #3B4455;\n",
              "      fill: #D2E3FC;\n",
              "    }\n",
              "\n",
              "    [theme=dark] .colab-df-convert:hover {\n",
              "      background-color: #434B5C;\n",
              "      box-shadow: 0px 1px 3px 1px rgba(0, 0, 0, 0.15);\n",
              "      filter: drop-shadow(0px 1px 2px rgba(0, 0, 0, 0.3));\n",
              "      fill: #FFFFFF;\n",
              "    }\n",
              "  </style>\n",
              "\n",
              "      <script>\n",
              "        const buttonEl =\n",
              "          document.querySelector('#df-368311d0-b691-4d6a-8829-4934af173de1 button.colab-df-convert');\n",
              "        buttonEl.style.display =\n",
              "          google.colab.kernel.accessAllowed ? 'block' : 'none';\n",
              "\n",
              "        async function convertToInteractive(key) {\n",
              "          const element = document.querySelector('#df-368311d0-b691-4d6a-8829-4934af173de1');\n",
              "          const dataTable =\n",
              "            await google.colab.kernel.invokeFunction('convertToInteractive',\n",
              "                                                     [key], {});\n",
              "          if (!dataTable) return;\n",
              "\n",
              "          const docLinkHtml = 'Like what you see? Visit the ' +\n",
              "            '<a target=\"_blank\" href=https://colab.research.google.com/notebooks/data_table.ipynb>data table notebook</a>'\n",
              "            + ' to learn more about interactive tables.';\n",
              "          element.innerHTML = '';\n",
              "          dataTable['output_type'] = 'display_data';\n",
              "          await google.colab.output.renderOutput(dataTable, element);\n",
              "          const docLink = document.createElement('div');\n",
              "          docLink.innerHTML = docLinkHtml;\n",
              "          element.appendChild(docLink);\n",
              "        }\n",
              "      </script>\n",
              "    </div>\n",
              "  </div>\n",
              "  "
            ]
          },
          "metadata": {},
          "execution_count": 11
        }
      ]
    },
    {
      "cell_type": "code",
      "source": [],
      "metadata": {
        "id": "ipg81LK500uA"
      },
      "execution_count": 11,
      "outputs": []
    },
    {
      "cell_type": "code",
      "source": [],
      "metadata": {
        "id": "jfz85CWT00ql"
      },
      "execution_count": 11,
      "outputs": []
    },
    {
      "cell_type": "markdown",
      "source": [
        "Now that we had cleaned up our data, we are going to begin setting up for our model's training."
      ],
      "metadata": {
        "id": "eqN-D3Zruvbz"
      }
    },
    {
      "cell_type": "code",
      "source": [
        "#input data of regressor\n",
        "#X= np.array(df_no_dup[\"price\"]).reshape(-1,1)\n",
        "#X.shape"
      ],
      "metadata": {
        "id": "F0gliB_EXKPE"
      },
      "execution_count": 12,
      "outputs": []
    },
    {
      "cell_type": "code",
      "source": [
        "#y=np.array(df_no_dup)\n",
        "#y.shape"
      ],
      "metadata": {
        "id": "Tov0C_XeRTkp"
      },
      "execution_count": 13,
      "outputs": []
    },
    {
      "cell_type": "code",
      "source": [],
      "metadata": {
        "id": "OlevIbBrRTh4"
      },
      "execution_count": 13,
      "outputs": []
    },
    {
      "cell_type": "code",
      "source": [],
      "metadata": {
        "id": "LTzGPHjjRTdn"
      },
      "execution_count": 13,
      "outputs": []
    },
    {
      "cell_type": "code",
      "source": [],
      "metadata": {
        "id": "C5mGlE9wRTai"
      },
      "execution_count": 13,
      "outputs": []
    },
    {
      "cell_type": "code",
      "source": [],
      "metadata": {
        "id": "mmR8hH7QRTXu"
      },
      "execution_count": 13,
      "outputs": []
    },
    {
      "cell_type": "code",
      "source": [],
      "metadata": {
        "id": "pPe74_LPRTVi"
      },
      "execution_count": 13,
      "outputs": []
    },
    {
      "cell_type": "markdown",
      "source": [
        "#### Step 2: Create the labels set (y) from the “price” column, and then create the features (X) DataFrame from the remaining columns.\n",
        "#### NOTE\n",
        "#### A value of 1 in the “clarity” column means that the diamond is high quality . A value of 8 means that the diamonds has flaws visible to the naked eye.\n",
        "##### Split the data into training and testing datasets by using train_test_split"
      ],
      "metadata": {
        "id": "q-3ibP1Hyoyb"
      }
    },
    {
      "cell_type": "markdown",
      "source": [],
      "metadata": {
        "id": "pPg7-rFEv3Jp"
      }
    },
    {
      "cell_type": "code",
      "source": [
        "# Separate the data into labels and features\n",
        "\n",
        "# Separate the y variable, the labels\n",
        "y =df_no_dup['price']\n",
        "\n",
        "# Separate the X variable, the features\n",
        "X =df_no_dup.drop(columns=['price'])"
      ],
      "metadata": {
        "id": "1nhC4dtXvNNc"
      },
      "execution_count": 14,
      "outputs": []
    },
    {
      "cell_type": "code",
      "source": [
        "# Review the y variable Series\n",
        "y"
      ],
      "metadata": {
        "id": "_IE8y0NEvNP4",
        "colab": {
          "base_uri": "https://localhost:8080/"
        },
        "outputId": "a3d0caaa-836c-41a0-fdd7-f1012c8e567d"
      },
      "execution_count": 15,
      "outputs": [
        {
          "output_type": "execute_result",
          "data": {
            "text/plain": [
              "0         326.0\n",
              "1         326.0\n",
              "2         327.0\n",
              "3         334.0\n",
              "4         335.0\n",
              "          ...  \n",
              "53935    2757.0\n",
              "53936    2757.0\n",
              "53937    2757.0\n",
              "53938    2757.0\n",
              "53939    2757.0\n",
              "Name: price, Length: 53940, dtype: float64"
            ]
          },
          "metadata": {},
          "execution_count": 15
        }
      ]
    },
    {
      "cell_type": "code",
      "source": [
        "X"
      ],
      "metadata": {
        "id": "9AUttfrKvNSB",
        "colab": {
          "base_uri": "https://localhost:8080/",
          "height": 423
        },
        "outputId": "1468ca7c-4e17-438e-b9e4-583eef0d530a"
      },
      "execution_count": 16,
      "outputs": [
        {
          "output_type": "execute_result",
          "data": {
            "text/plain": [
              "       carat  color  clarity  depth  table\n",
              "0       0.23     20        7   61.5   55.0\n",
              "1       0.21     20        6   59.8   61.0\n",
              "2       0.23     20        4   56.9   65.0\n",
              "3       0.29     60        5   62.4   58.0\n",
              "4       0.31     70        7   63.3   58.0\n",
              "...      ...    ...      ...    ...    ...\n",
              "53935   0.72     50        6   60.8   57.0\n",
              "53936   0.72     50        6   63.1   55.0\n",
              "53937   0.70     50        6   62.8   60.0\n",
              "53938   0.86     40        7   61.0   58.0\n",
              "53939   0.75     50        7   62.2   55.0\n",
              "\n",
              "[53940 rows x 5 columns]"
            ],
            "text/html": [
              "\n",
              "  <div id=\"df-521852a9-29b1-480a-a841-c73df2873b03\">\n",
              "    <div class=\"colab-df-container\">\n",
              "      <div>\n",
              "<style scoped>\n",
              "    .dataframe tbody tr th:only-of-type {\n",
              "        vertical-align: middle;\n",
              "    }\n",
              "\n",
              "    .dataframe tbody tr th {\n",
              "        vertical-align: top;\n",
              "    }\n",
              "\n",
              "    .dataframe thead th {\n",
              "        text-align: right;\n",
              "    }\n",
              "</style>\n",
              "<table border=\"1\" class=\"dataframe\">\n",
              "  <thead>\n",
              "    <tr style=\"text-align: right;\">\n",
              "      <th></th>\n",
              "      <th>carat</th>\n",
              "      <th>color</th>\n",
              "      <th>clarity</th>\n",
              "      <th>depth</th>\n",
              "      <th>table</th>\n",
              "    </tr>\n",
              "  </thead>\n",
              "  <tbody>\n",
              "    <tr>\n",
              "      <th>0</th>\n",
              "      <td>0.23</td>\n",
              "      <td>20</td>\n",
              "      <td>7</td>\n",
              "      <td>61.5</td>\n",
              "      <td>55.0</td>\n",
              "    </tr>\n",
              "    <tr>\n",
              "      <th>1</th>\n",
              "      <td>0.21</td>\n",
              "      <td>20</td>\n",
              "      <td>6</td>\n",
              "      <td>59.8</td>\n",
              "      <td>61.0</td>\n",
              "    </tr>\n",
              "    <tr>\n",
              "      <th>2</th>\n",
              "      <td>0.23</td>\n",
              "      <td>20</td>\n",
              "      <td>4</td>\n",
              "      <td>56.9</td>\n",
              "      <td>65.0</td>\n",
              "    </tr>\n",
              "    <tr>\n",
              "      <th>3</th>\n",
              "      <td>0.29</td>\n",
              "      <td>60</td>\n",
              "      <td>5</td>\n",
              "      <td>62.4</td>\n",
              "      <td>58.0</td>\n",
              "    </tr>\n",
              "    <tr>\n",
              "      <th>4</th>\n",
              "      <td>0.31</td>\n",
              "      <td>70</td>\n",
              "      <td>7</td>\n",
              "      <td>63.3</td>\n",
              "      <td>58.0</td>\n",
              "    </tr>\n",
              "    <tr>\n",
              "      <th>...</th>\n",
              "      <td>...</td>\n",
              "      <td>...</td>\n",
              "      <td>...</td>\n",
              "      <td>...</td>\n",
              "      <td>...</td>\n",
              "    </tr>\n",
              "    <tr>\n",
              "      <th>53935</th>\n",
              "      <td>0.72</td>\n",
              "      <td>50</td>\n",
              "      <td>6</td>\n",
              "      <td>60.8</td>\n",
              "      <td>57.0</td>\n",
              "    </tr>\n",
              "    <tr>\n",
              "      <th>53936</th>\n",
              "      <td>0.72</td>\n",
              "      <td>50</td>\n",
              "      <td>6</td>\n",
              "      <td>63.1</td>\n",
              "      <td>55.0</td>\n",
              "    </tr>\n",
              "    <tr>\n",
              "      <th>53937</th>\n",
              "      <td>0.70</td>\n",
              "      <td>50</td>\n",
              "      <td>6</td>\n",
              "      <td>62.8</td>\n",
              "      <td>60.0</td>\n",
              "    </tr>\n",
              "    <tr>\n",
              "      <th>53938</th>\n",
              "      <td>0.86</td>\n",
              "      <td>40</td>\n",
              "      <td>7</td>\n",
              "      <td>61.0</td>\n",
              "      <td>58.0</td>\n",
              "    </tr>\n",
              "    <tr>\n",
              "      <th>53939</th>\n",
              "      <td>0.75</td>\n",
              "      <td>50</td>\n",
              "      <td>7</td>\n",
              "      <td>62.2</td>\n",
              "      <td>55.0</td>\n",
              "    </tr>\n",
              "  </tbody>\n",
              "</table>\n",
              "<p>53940 rows × 5 columns</p>\n",
              "</div>\n",
              "      <button class=\"colab-df-convert\" onclick=\"convertToInteractive('df-521852a9-29b1-480a-a841-c73df2873b03')\"\n",
              "              title=\"Convert this dataframe to an interactive table.\"\n",
              "              style=\"display:none;\">\n",
              "        \n",
              "  <svg xmlns=\"http://www.w3.org/2000/svg\" height=\"24px\"viewBox=\"0 0 24 24\"\n",
              "       width=\"24px\">\n",
              "    <path d=\"M0 0h24v24H0V0z\" fill=\"none\"/>\n",
              "    <path d=\"M18.56 5.44l.94 2.06.94-2.06 2.06-.94-2.06-.94-.94-2.06-.94 2.06-2.06.94zm-11 1L8.5 8.5l.94-2.06 2.06-.94-2.06-.94L8.5 2.5l-.94 2.06-2.06.94zm10 10l.94 2.06.94-2.06 2.06-.94-2.06-.94-.94-2.06-.94 2.06-2.06.94z\"/><path d=\"M17.41 7.96l-1.37-1.37c-.4-.4-.92-.59-1.43-.59-.52 0-1.04.2-1.43.59L10.3 9.45l-7.72 7.72c-.78.78-.78 2.05 0 2.83L4 21.41c.39.39.9.59 1.41.59.51 0 1.02-.2 1.41-.59l7.78-7.78 2.81-2.81c.8-.78.8-2.07 0-2.86zM5.41 20L4 18.59l7.72-7.72 1.47 1.35L5.41 20z\"/>\n",
              "  </svg>\n",
              "      </button>\n",
              "      \n",
              "  <style>\n",
              "    .colab-df-container {\n",
              "      display:flex;\n",
              "      flex-wrap:wrap;\n",
              "      gap: 12px;\n",
              "    }\n",
              "\n",
              "    .colab-df-convert {\n",
              "      background-color: #E8F0FE;\n",
              "      border: none;\n",
              "      border-radius: 50%;\n",
              "      cursor: pointer;\n",
              "      display: none;\n",
              "      fill: #1967D2;\n",
              "      height: 32px;\n",
              "      padding: 0 0 0 0;\n",
              "      width: 32px;\n",
              "    }\n",
              "\n",
              "    .colab-df-convert:hover {\n",
              "      background-color: #E2EBFA;\n",
              "      box-shadow: 0px 1px 2px rgba(60, 64, 67, 0.3), 0px 1px 3px 1px rgba(60, 64, 67, 0.15);\n",
              "      fill: #174EA6;\n",
              "    }\n",
              "\n",
              "    [theme=dark] .colab-df-convert {\n",
              "      background-color: #3B4455;\n",
              "      fill: #D2E3FC;\n",
              "    }\n",
              "\n",
              "    [theme=dark] .colab-df-convert:hover {\n",
              "      background-color: #434B5C;\n",
              "      box-shadow: 0px 1px 3px 1px rgba(0, 0, 0, 0.15);\n",
              "      filter: drop-shadow(0px 1px 2px rgba(0, 0, 0, 0.3));\n",
              "      fill: #FFFFFF;\n",
              "    }\n",
              "  </style>\n",
              "\n",
              "      <script>\n",
              "        const buttonEl =\n",
              "          document.querySelector('#df-521852a9-29b1-480a-a841-c73df2873b03 button.colab-df-convert');\n",
              "        buttonEl.style.display =\n",
              "          google.colab.kernel.accessAllowed ? 'block' : 'none';\n",
              "\n",
              "        async function convertToInteractive(key) {\n",
              "          const element = document.querySelector('#df-521852a9-29b1-480a-a841-c73df2873b03');\n",
              "          const dataTable =\n",
              "            await google.colab.kernel.invokeFunction('convertToInteractive',\n",
              "                                                     [key], {});\n",
              "          if (!dataTable) return;\n",
              "\n",
              "          const docLinkHtml = 'Like what you see? Visit the ' +\n",
              "            '<a target=\"_blank\" href=https://colab.research.google.com/notebooks/data_table.ipynb>data table notebook</a>'\n",
              "            + ' to learn more about interactive tables.';\n",
              "          element.innerHTML = '';\n",
              "          dataTable['output_type'] = 'display_data';\n",
              "          await google.colab.output.renderOutput(dataTable, element);\n",
              "          const docLink = document.createElement('div');\n",
              "          docLink.innerHTML = docLinkHtml;\n",
              "          element.appendChild(docLink);\n",
              "        }\n",
              "      </script>\n",
              "    </div>\n",
              "  </div>\n",
              "  "
            ]
          },
          "metadata": {},
          "execution_count": 16
        }
      ]
    },
    {
      "cell_type": "markdown",
      "source": [
        "attempt 2"
      ],
      "metadata": {
        "id": "1dNJId-S6Qkz"
      }
    },
    {
      "cell_type": "code",
      "source": [
        "#the input regressor\n",
        "X= np.array(df_no_dup[\"price\"]).reshape(-1,1)\n",
        "X"
      ],
      "metadata": {
        "colab": {
          "base_uri": "https://localhost:8080/"
        },
        "id": "mufL3eQ47lNJ",
        "outputId": "4f7d09f1-4b49-4496-9f3d-cd8cd0ceada8"
      },
      "execution_count": 32,
      "outputs": [
        {
          "output_type": "execute_result",
          "data": {
            "text/plain": [
              "array([[ 326.],\n",
              "       [ 326.],\n",
              "       [ 327.],\n",
              "       ...,\n",
              "       [2757.],\n",
              "       [2757.],\n",
              "       [2757.]])"
            ]
          },
          "metadata": {},
          "execution_count": 32
        }
      ]
    },
    {
      "cell_type": "code",
      "source": [
        "X.shape"
      ],
      "metadata": {
        "colab": {
          "base_uri": "https://localhost:8080/"
        },
        "id": "gFq69EmW7lKA",
        "outputId": "1570be5b-246a-4063-e84b-18f899957641"
      },
      "execution_count": 34,
      "outputs": [
        {
          "output_type": "execute_result",
          "data": {
            "text/plain": [
              "(53940, 1)"
            ]
          },
          "metadata": {},
          "execution_count": 34
        }
      ]
    },
    {
      "cell_type": "code",
      "source": [
        "#output data predictor\n",
        "y=np.array(df_no_dup[\"carat\"])\n",
        "y"
      ],
      "metadata": {
        "colab": {
          "base_uri": "https://localhost:8080/"
        },
        "id": "DWOoc7gi7lHV",
        "outputId": "33e76752-cc33-4e0e-fb77-5d65a5116662"
      },
      "execution_count": 35,
      "outputs": [
        {
          "output_type": "execute_result",
          "data": {
            "text/plain": [
              "array([0.23, 0.21, 0.23, ..., 0.7 , 0.86, 0.75])"
            ]
          },
          "metadata": {},
          "execution_count": 35
        }
      ]
    },
    {
      "cell_type": "code",
      "source": [
        "#what is the shape of y now\n",
        "y.shape"
      ],
      "metadata": {
        "colab": {
          "base_uri": "https://localhost:8080/"
        },
        "id": "DhOTtxHE7lEh",
        "outputId": "6eb35e50-c002-4fa9-fd03-a9ff5cd92abd"
      },
      "execution_count": 36,
      "outputs": [
        {
          "output_type": "execute_result",
          "data": {
            "text/plain": [
              "(53940,)"
            ]
          },
          "metadata": {},
          "execution_count": 36
        }
      ]
    },
    {
      "cell_type": "code",
      "source": [
        "print(type(y))"
      ],
      "metadata": {
        "colab": {
          "base_uri": "https://localhost:8080/"
        },
        "id": "ArZa3p2S7lB7",
        "outputId": "031d7311-32db-4bd3-af33-f220a27126dc"
      },
      "execution_count": 37,
      "outputs": [
        {
          "output_type": "stream",
          "name": "stdout",
          "text": [
            "<class 'numpy.ndarray'>\n"
          ]
        }
      ]
    },
    {
      "cell_type": "code",
      "source": [
        "print(type(X))"
      ],
      "metadata": {
        "colab": {
          "base_uri": "https://localhost:8080/"
        },
        "id": "KRd69wmj7k-4",
        "outputId": "9e79b6cc-0163-4153-c24f-b6e34afedeac"
      },
      "execution_count": 38,
      "outputs": [
        {
          "output_type": "stream",
          "name": "stdout",
          "text": [
            "<class 'numpy.ndarray'>\n"
          ]
        }
      ]
    },
    {
      "cell_type": "code",
      "source": [],
      "metadata": {
        "id": "yXzYRHVJ7k77"
      },
      "execution_count": null,
      "outputs": []
    },
    {
      "cell_type": "code",
      "source": [],
      "metadata": {
        "id": "qRgoFwvS7k4k"
      },
      "execution_count": null,
      "outputs": []
    },
    {
      "cell_type": "code",
      "source": [
        "#splitting dataset\n",
        "X_train, X_test,y_train,y_test= train_test_split(X,y,test_size= 0.30)"
      ],
      "metadata": {
        "id": "Abn86R6S6Y1H"
      },
      "execution_count": 39,
      "outputs": []
    },
    {
      "cell_type": "code",
      "source": [
        "#explore the train and test datasets\n",
        "X_train.shape"
      ],
      "metadata": {
        "colab": {
          "base_uri": "https://localhost:8080/"
        },
        "id": "kQILVMgs7CSu",
        "outputId": "f1ccd003-4613-405d-d467-f6566b04df3c"
      },
      "execution_count": 43,
      "outputs": [
        {
          "output_type": "execute_result",
          "data": {
            "text/plain": [
              "(37758, 1)"
            ]
          },
          "metadata": {},
          "execution_count": 43
        }
      ]
    },
    {
      "cell_type": "code",
      "source": [
        "X_test.shape"
      ],
      "metadata": {
        "colab": {
          "base_uri": "https://localhost:8080/"
        },
        "id": "cawn1j_G9mzF",
        "outputId": "6a76a0d3-f460-45c5-e67e-370a07edbe62"
      },
      "execution_count": 41,
      "outputs": [
        {
          "output_type": "execute_result",
          "data": {
            "text/plain": [
              "(16182, 1)"
            ]
          },
          "metadata": {},
          "execution_count": 41
        }
      ]
    },
    {
      "cell_type": "code",
      "source": [
        "y_train.shape"
      ],
      "metadata": {
        "colab": {
          "base_uri": "https://localhost:8080/"
        },
        "id": "R7qs3PKw9mvc",
        "outputId": "a0ea4e0d-45de-4fd7-c0f0-fbdda6e0e86b"
      },
      "execution_count": 45,
      "outputs": [
        {
          "output_type": "execute_result",
          "data": {
            "text/plain": [
              "(37758,)"
            ]
          },
          "metadata": {},
          "execution_count": 45
        }
      ]
    },
    {
      "cell_type": "code",
      "source": [
        "y_test.shape"
      ],
      "metadata": {
        "colab": {
          "base_uri": "https://localhost:8080/"
        },
        "id": "-Rof2YLK9mss",
        "outputId": "8d20e819-b1e6-4bdf-aad4-9606d2b4750c"
      },
      "execution_count": 44,
      "outputs": [
        {
          "output_type": "execute_result",
          "data": {
            "text/plain": [
              "(16182,)"
            ]
          },
          "metadata": {},
          "execution_count": 44
        }
      ]
    },
    {
      "cell_type": "markdown",
      "source": [
        "#modeling"
      ],
      "metadata": {
        "id": "KYVcDxBK-vt7"
      }
    },
    {
      "cell_type": "code",
      "source": [
        "# Import the LogisticRegression module from SKLearn\n",
        "from sklearn.linear_model import LogisticRegression\n",
        "# Import the LogisticRegression module from SKLearn\n",
        "from sklearn.linear_model import LinearRegression"
      ],
      "metadata": {
        "id": "SeBHohvP_1Cz"
      },
      "execution_count": 47,
      "outputs": []
    },
    {
      "cell_type": "code",
      "source": [
        "#modelling instantiation\n",
        "model= LinearRegression()\n",
        "#fitting model\n",
        "mymodel=model.fit(X_train,y_train)\n"
      ],
      "metadata": {
        "id": "OFr6NCi0-uN8"
      },
      "execution_count": 48,
      "outputs": []
    },
    {
      "cell_type": "code",
      "source": [
        "#getting attributes for the model and printing them\n",
        "print(\"the intercept is:\",mymodel.intercept_)\n",
        "print(\"the slope is:\",mymodel.coef_)\n",
        "\n",
        "y_r=print(\"the coeff of determindation is:\",mymodel.score(X_train,y_train))\n"
      ],
      "metadata": {
        "colab": {
          "base_uri": "https://localhost:8080/"
        },
        "id": "4jiAepj19moc",
        "outputId": "7349ba2c-781a-4afc-dc54-260a77dbc4e7"
      },
      "execution_count": 56,
      "outputs": [
        {
          "output_type": "stream",
          "name": "stdout",
          "text": [
            "the intercept is: 0.3662736529104613\n",
            "the slope is: [0.00010982]\n",
            "the coeff of determindation is: 0.8500231627938499\n"
          ]
        }
      ]
    },
    {
      "cell_type": "code",
      "source": [
        "#predicting using testing\n",
        "y_pred=mymodel.predict(X_test)\n",
        "y_pred"
      ],
      "metadata": {
        "colab": {
          "base_uri": "https://localhost:8080/"
        },
        "id": "f_Nm2wLT9ml0",
        "outputId": "3d28a633-51fd-4150-8c36-fedfd031bf6b"
      },
      "execution_count": 57,
      "outputs": [
        {
          "output_type": "execute_result",
          "data": {
            "text/plain": [
              "array([0.53715368, 2.1702879 , 0.51947265, ..., 0.83795084, 0.42195243,\n",
              "       0.42019531])"
            ]
          },
          "metadata": {},
          "execution_count": 57
        }
      ]
    },
    {
      "cell_type": "code",
      "source": [],
      "metadata": {
        "colab": {
          "base_uri": "https://localhost:8080/",
          "height": 242
        },
        "id": "Ws5ZFYZ0DMJu",
        "outputId": "3b1c423f-6bec-4680-da4b-dac3041b4027"
      },
      "execution_count": 59,
      "outputs": [
        {
          "output_type": "error",
          "ename": "TypeError",
          "evalue": "ignored",
          "traceback": [
            "\u001b[0;31m---------------------------------------------------------------------------\u001b[0m",
            "\u001b[0;31mTypeError\u001b[0m                                 Traceback (most recent call last)",
            "\u001b[0;32m<ipython-input-59-6fee2e9a4356>\u001b[0m in \u001b[0;36m<cell line: 3>\u001b[0;34m()\u001b[0m\n\u001b[1;32m      1\u001b[0m \u001b[0;31m# Instantiate the Logistic Regression model\u001b[0m\u001b[0;34m\u001b[0m\u001b[0;34m\u001b[0m\u001b[0m\n\u001b[1;32m      2\u001b[0m \u001b[0;31m# Assign a random_state parameter of 1 to the model\u001b[0m\u001b[0;34m\u001b[0m\u001b[0;34m\u001b[0m\u001b[0m\n\u001b[0;32m----> 3\u001b[0;31m \u001b[0mlin_regression\u001b[0m \u001b[0;34m=\u001b[0m \u001b[0mLinearRegression\u001b[0m\u001b[0;34m(\u001b[0m\u001b[0mrandom_state\u001b[0m\u001b[0;34m=\u001b[0m\u001b[0;36m1\u001b[0m\u001b[0;34m)\u001b[0m\u001b[0;34m\u001b[0m\u001b[0;34m\u001b[0m\u001b[0m\n\u001b[0m\u001b[1;32m      4\u001b[0m \u001b[0;34m\u001b[0m\u001b[0m\n\u001b[1;32m      5\u001b[0m \u001b[0;31m# Fit the model using training data\u001b[0m\u001b[0;34m\u001b[0m\u001b[0;34m\u001b[0m\u001b[0m\n",
            "\u001b[0;31mTypeError\u001b[0m: __init__() got an unexpected keyword argument 'random_state'"
          ]
        }
      ]
    },
    {
      "cell_type": "code",
      "source": [],
      "metadata": {
        "id": "TPXUpr1o9mjb"
      },
      "execution_count": null,
      "outputs": []
    },
    {
      "cell_type": "code",
      "source": [],
      "metadata": {
        "id": "RJtaUXAa9mgY"
      },
      "execution_count": null,
      "outputs": []
    },
    {
      "cell_type": "code",
      "source": [],
      "metadata": {
        "id": "X3Hya2dc9mdv"
      },
      "execution_count": null,
      "outputs": []
    },
    {
      "cell_type": "markdown",
      "source": [
        "attempt2"
      ],
      "metadata": {
        "id": "hTv5f5tR6Th0"
      }
    },
    {
      "cell_type": "code",
      "source": [],
      "metadata": {
        "id": "noiUbgVr6Pkf"
      },
      "execution_count": null,
      "outputs": []
    },
    {
      "cell_type": "markdown",
      "source": [
        "Create a Logistic Regression Model with the Original Data\n",
        "Step 1: Fit a logistic regression model by using the training data (X_train and y_train)."
      ],
      "metadata": {
        "id": "NtHuLlmzw7RS"
      }
    },
    {
      "cell_type": "code",
      "source": [
        "# Split the preprocessed data into a training and testing dataset\n",
        "X_train, X_test,y_train,y_test =train_test_split(X,y, random_state=1)"
      ],
      "metadata": {
        "id": "fEx-MDBkw-yS"
      },
      "execution_count": 17,
      "outputs": []
    },
    {
      "cell_type": "code",
      "source": [
        "# Create a StandardScaler instances\n",
        "scaler = StandardScaler()\n",
        "\n",
        "# Fit the StandardScaler\n",
        "X_scaler = scaler.fit(X_train)\n",
        "\n",
        "# Scale the data\n",
        "X_train_scaled = X_scaler.transform(X_train)\n",
        "X_test_scaled = X_scaler.transform(X_test)"
      ],
      "metadata": {
        "id": "SaiwG4UKw-0t"
      },
      "execution_count": 60,
      "outputs": []
    },
    {
      "cell_type": "markdown",
      "source": [
        "Compile and train"
      ],
      "metadata": {
        "id": "c8j5sSKn39yl"
      }
    },
    {
      "cell_type": "code",
      "source": [
        "# Define the model - deep neural net, i.e., the number of input features and hidden nodes for each layer.\n",
        "#  YOUR CODE GOES HERE\n",
        "diamonds_nn= len(X_train_scaled[0])\n",
        "hidden_node_layer = 120\n",
        "second_hidden_node_layer =80\n",
        "third_hidden_layer= 30\n",
        "nn = tf.keras.models.Sequential()\n",
        "\n",
        "# First hidden layer\n",
        "nn.add(tf.keras.layers.Dense(units=hidden_node_layer, input_dim=diamonds_nn, activation='relu'))\n",
        "#additional layer\n",
        "nn.add(tf.keras.layers.Dense(units=third_hidden_layer, input_dim=diamonds_nn, activation='sigmoid'))\n",
        "# Second hidden layer\n",
        "nn.add(tf.keras.layers.Dense(units=second_hidden_node_layer, activation='sigmoid'))\n",
        "\n",
        "\n",
        "# Output layer\n",
        "nn.add(tf.keras.layers.Dense(units=1, activation='sigmoid'))\n",
        "\n",
        "# Check the structure of the model\n",
        "nn.summary()"
      ],
      "metadata": {
        "id": "rz1ekFWnw-3S",
        "colab": {
          "base_uri": "https://localhost:8080/"
        },
        "outputId": "48cd0b38-6f80-4600-a86d-1e92983d6bd0"
      },
      "execution_count": 72,
      "outputs": [
        {
          "output_type": "stream",
          "name": "stdout",
          "text": [
            "Model: \"sequential_5\"\n",
            "_________________________________________________________________\n",
            " Layer (type)                Output Shape              Param #   \n",
            "=================================================================\n",
            " dense_16 (Dense)            (None, 120)               240       \n",
            "                                                                 \n",
            " dense_17 (Dense)            (None, 30)                3630      \n",
            "                                                                 \n",
            " dense_18 (Dense)            (None, 80)                2480      \n",
            "                                                                 \n",
            " dense_19 (Dense)            (None, 1)                 81        \n",
            "                                                                 \n",
            "=================================================================\n",
            "Total params: 6,431\n",
            "Trainable params: 6,431\n",
            "Non-trainable params: 0\n",
            "_________________________________________________________________\n"
          ]
        }
      ]
    },
    {
      "cell_type": "code",
      "source": [
        "# Compile the model\n",
        "nn.compile(loss='binary_crossentropy', optimizer='adam', metrics=['accuracy'])"
      ],
      "metadata": {
        "id": "LT1Fm0gCw-53"
      },
      "execution_count": 73,
      "outputs": []
    },
    {
      "cell_type": "code",
      "source": [
        "# Train the model\n",
        "trained_model = nn.fit(X_train_scaled, y_train, epochs=100)"
      ],
      "metadata": {
        "id": "F25QX2SHw-8B",
        "colab": {
          "base_uri": "https://localhost:8080/"
        },
        "outputId": "407d0f62-4f20-4836-97b8-9a14de0cf544"
      },
      "execution_count": 75,
      "outputs": [
        {
          "output_type": "stream",
          "name": "stdout",
          "text": [
            "Epoch 1/100\n",
            "1180/1180 [==============================] - 2s 2ms/step - loss: -26.8706 - accuracy: 0.0289\n",
            "Epoch 2/100\n",
            "1180/1180 [==============================] - 2s 2ms/step - loss: -31.7491 - accuracy: 0.0289\n",
            "Epoch 3/100\n",
            "1180/1180 [==============================] - 3s 3ms/step - loss: -36.6193 - accuracy: 0.0289\n",
            "Epoch 4/100\n",
            "1180/1180 [==============================] - 3s 2ms/step - loss: -41.5124 - accuracy: 0.0289\n",
            "Epoch 5/100\n",
            "1180/1180 [==============================] - 2s 2ms/step - loss: -46.4184 - accuracy: 0.0289\n",
            "Epoch 6/100\n",
            "1180/1180 [==============================] - 2s 2ms/step - loss: -51.3162 - accuracy: 0.0289\n",
            "Epoch 7/100\n",
            "1180/1180 [==============================] - 2s 2ms/step - loss: -56.2106 - accuracy: 0.0289\n",
            "Epoch 8/100\n",
            "1180/1180 [==============================] - 3s 3ms/step - loss: -61.0799 - accuracy: 0.0289\n",
            "Epoch 9/100\n",
            "1180/1180 [==============================] - 3s 2ms/step - loss: -65.9702 - accuracy: 0.0289\n",
            "Epoch 10/100\n",
            "1180/1180 [==============================] - 2s 2ms/step - loss: -70.8832 - accuracy: 0.0289\n",
            "Epoch 11/100\n",
            "1180/1180 [==============================] - 2s 2ms/step - loss: -75.7860 - accuracy: 0.0289\n",
            "Epoch 12/100\n",
            "1180/1180 [==============================] - 2s 2ms/step - loss: -80.6793 - accuracy: 0.0289\n",
            "Epoch 13/100\n",
            "1180/1180 [==============================] - 3s 3ms/step - loss: -85.5940 - accuracy: 0.0289\n",
            "Epoch 14/100\n",
            "1180/1180 [==============================] - 3s 2ms/step - loss: -90.4855 - accuracy: 0.0289\n",
            "Epoch 15/100\n",
            "1180/1180 [==============================] - 3s 2ms/step - loss: -95.3577 - accuracy: 0.0289\n",
            "Epoch 16/100\n",
            "1180/1180 [==============================] - 2s 2ms/step - loss: -100.2669 - accuracy: 0.0289\n",
            "Epoch 17/100\n",
            "1180/1180 [==============================] - 4s 3ms/step - loss: -105.1449 - accuracy: 0.0289\n",
            "Epoch 18/100\n",
            "1180/1180 [==============================] - 3s 2ms/step - loss: -110.0327 - accuracy: 0.0289\n",
            "Epoch 19/100\n",
            "1180/1180 [==============================] - 2s 2ms/step - loss: -114.9254 - accuracy: 0.0289\n",
            "Epoch 20/100\n",
            "1180/1180 [==============================] - 3s 2ms/step - loss: -119.7877 - accuracy: 0.0289\n",
            "Epoch 21/100\n",
            "1180/1180 [==============================] - 2s 2ms/step - loss: -124.6566 - accuracy: 0.0289\n",
            "Epoch 22/100\n",
            "1180/1180 [==============================] - 3s 2ms/step - loss: -129.5345 - accuracy: 0.0289\n",
            "Epoch 23/100\n",
            "1180/1180 [==============================] - 3s 2ms/step - loss: -134.3849 - accuracy: 0.0289\n",
            "Epoch 24/100\n",
            "1180/1180 [==============================] - 2s 2ms/step - loss: -139.2816 - accuracy: 0.0289\n",
            "Epoch 25/100\n",
            "1180/1180 [==============================] - 2s 2ms/step - loss: -144.1869 - accuracy: 0.0289\n",
            "Epoch 26/100\n",
            "1180/1180 [==============================] - 2s 2ms/step - loss: -149.0323 - accuracy: 0.0289\n",
            "Epoch 27/100\n",
            "1180/1180 [==============================] - 6s 5ms/step - loss: -153.9632 - accuracy: 0.0289\n",
            "Epoch 28/100\n",
            "1180/1180 [==============================] - 2s 2ms/step - loss: -158.9251 - accuracy: 0.0289\n",
            "Epoch 29/100\n",
            "1180/1180 [==============================] - 2s 2ms/step - loss: -163.7070 - accuracy: 0.0289\n",
            "Epoch 30/100\n",
            "1180/1180 [==============================] - 2s 2ms/step - loss: -168.6636 - accuracy: 0.0289\n",
            "Epoch 31/100\n",
            "1180/1180 [==============================] - 3s 2ms/step - loss: -173.5125 - accuracy: 0.0289\n",
            "Epoch 32/100\n",
            "1180/1180 [==============================] - 3s 3ms/step - loss: -178.4686 - accuracy: 0.0289\n",
            "Epoch 33/100\n",
            "1180/1180 [==============================] - 2s 2ms/step - loss: -183.3520 - accuracy: 0.0289\n",
            "Epoch 34/100\n",
            "1180/1180 [==============================] - 2s 2ms/step - loss: -188.3050 - accuracy: 0.0289\n",
            "Epoch 35/100\n",
            "1180/1180 [==============================] - 2s 2ms/step - loss: -193.1527 - accuracy: 0.0289\n",
            "Epoch 36/100\n",
            "1180/1180 [==============================] - 3s 2ms/step - loss: -198.0741 - accuracy: 0.0289\n",
            "Epoch 37/100\n",
            "1180/1180 [==============================] - 3s 3ms/step - loss: -202.9094 - accuracy: 0.0289\n",
            "Epoch 38/100\n",
            "1180/1180 [==============================] - 2s 2ms/step - loss: -207.8262 - accuracy: 0.0289\n",
            "Epoch 39/100\n",
            "1180/1180 [==============================] - 2s 2ms/step - loss: -212.8027 - accuracy: 0.0289\n",
            "Epoch 40/100\n",
            "1180/1180 [==============================] - 2s 2ms/step - loss: -217.6093 - accuracy: 0.0289\n",
            "Epoch 41/100\n",
            "1180/1180 [==============================] - 3s 3ms/step - loss: -222.5389 - accuracy: 0.0289\n",
            "Epoch 42/100\n",
            "1180/1180 [==============================] - 3s 2ms/step - loss: -227.3596 - accuracy: 0.0289\n",
            "Epoch 43/100\n",
            "1180/1180 [==============================] - 3s 2ms/step - loss: -232.3428 - accuracy: 0.0289\n",
            "Epoch 44/100\n",
            "1180/1180 [==============================] - 2s 2ms/step - loss: -237.2552 - accuracy: 0.0289\n",
            "Epoch 45/100\n",
            "1180/1180 [==============================] - 2s 2ms/step - loss: -242.2148 - accuracy: 0.0289\n",
            "Epoch 46/100\n",
            "1180/1180 [==============================] - 3s 3ms/step - loss: -246.8828 - accuracy: 0.0289\n",
            "Epoch 47/100\n",
            "1180/1180 [==============================] - 3s 2ms/step - loss: -251.8810 - accuracy: 0.0289\n",
            "Epoch 48/100\n",
            "1180/1180 [==============================] - 3s 2ms/step - loss: -256.7129 - accuracy: 0.0289\n",
            "Epoch 49/100\n",
            "1180/1180 [==============================] - 2s 2ms/step - loss: -261.5806 - accuracy: 0.0289\n",
            "Epoch 50/100\n",
            "1180/1180 [==============================] - 2s 2ms/step - loss: -266.5056 - accuracy: 0.0289\n",
            "Epoch 51/100\n",
            "1180/1180 [==============================] - 3s 3ms/step - loss: -271.4249 - accuracy: 0.0289\n",
            "Epoch 52/100\n",
            "1180/1180 [==============================] - 2s 2ms/step - loss: -276.2820 - accuracy: 0.0289\n",
            "Epoch 53/100\n",
            "1180/1180 [==============================] - 2s 2ms/step - loss: -281.2272 - accuracy: 0.0289\n",
            "Epoch 54/100\n",
            "1180/1180 [==============================] - 2s 2ms/step - loss: -285.9874 - accuracy: 0.0289\n",
            "Epoch 55/100\n",
            "1180/1180 [==============================] - 2s 2ms/step - loss: -290.7005 - accuracy: 0.0289\n",
            "Epoch 56/100\n",
            "1180/1180 [==============================] - 3s 3ms/step - loss: -295.8006 - accuracy: 0.0289\n",
            "Epoch 57/100\n",
            "1180/1180 [==============================] - 2s 2ms/step - loss: -300.7029 - accuracy: 0.0289\n",
            "Epoch 58/100\n",
            "1180/1180 [==============================] - 3s 2ms/step - loss: -305.6404 - accuracy: 0.0289\n",
            "Epoch 59/100\n",
            "1180/1180 [==============================] - 3s 2ms/step - loss: -310.4402 - accuracy: 0.0289\n",
            "Epoch 60/100\n",
            "1180/1180 [==============================] - 3s 2ms/step - loss: -315.5037 - accuracy: 0.0289\n",
            "Epoch 61/100\n",
            "1180/1180 [==============================] - 3s 3ms/step - loss: -320.4046 - accuracy: 0.0289\n",
            "Epoch 62/100\n",
            "1180/1180 [==============================] - 2s 2ms/step - loss: -325.2596 - accuracy: 0.0289\n",
            "Epoch 63/100\n",
            "1180/1180 [==============================] - 2s 2ms/step - loss: -330.2143 - accuracy: 0.0289\n",
            "Epoch 64/100\n",
            "1180/1180 [==============================] - 2s 2ms/step - loss: -335.0026 - accuracy: 0.0289\n",
            "Epoch 65/100\n",
            "1180/1180 [==============================] - 3s 3ms/step - loss: -339.8837 - accuracy: 0.0289\n",
            "Epoch 66/100\n",
            "1180/1180 [==============================] - 3s 3ms/step - loss: -344.6713 - accuracy: 0.0289\n",
            "Epoch 67/100\n",
            "1180/1180 [==============================] - 3s 2ms/step - loss: -349.6647 - accuracy: 0.0289\n",
            "Epoch 68/100\n",
            "1180/1180 [==============================] - 2s 2ms/step - loss: -354.5113 - accuracy: 0.0289\n",
            "Epoch 69/100\n",
            "1180/1180 [==============================] - 3s 2ms/step - loss: -359.4181 - accuracy: 0.0289\n",
            "Epoch 70/100\n",
            "1180/1180 [==============================] - 3s 3ms/step - loss: -364.1843 - accuracy: 0.0289\n",
            "Epoch 71/100\n",
            "1180/1180 [==============================] - 3s 2ms/step - loss: -369.1827 - accuracy: 0.0289\n",
            "Epoch 72/100\n",
            "1180/1180 [==============================] - 2s 2ms/step - loss: -374.1879 - accuracy: 0.0289\n",
            "Epoch 73/100\n",
            "1180/1180 [==============================] - 2s 2ms/step - loss: -379.0076 - accuracy: 0.0289\n",
            "Epoch 74/100\n",
            "1180/1180 [==============================] - 2s 2ms/step - loss: -383.8849 - accuracy: 0.0289\n",
            "Epoch 75/100\n",
            "1180/1180 [==============================] - 3s 3ms/step - loss: -388.6530 - accuracy: 0.0289\n",
            "Epoch 76/100\n",
            "1180/1180 [==============================] - 3s 2ms/step - loss: -393.7481 - accuracy: 0.0289\n",
            "Epoch 77/100\n",
            "1180/1180 [==============================] - 2s 2ms/step - loss: -398.4805 - accuracy: 0.0289\n",
            "Epoch 78/100\n",
            "1180/1180 [==============================] - 3s 2ms/step - loss: -403.5163 - accuracy: 0.0289\n",
            "Epoch 79/100\n",
            "1180/1180 [==============================] - 2s 2ms/step - loss: -408.2111 - accuracy: 0.0289\n",
            "Epoch 80/100\n",
            "1180/1180 [==============================] - 3s 3ms/step - loss: -413.3416 - accuracy: 0.0289\n",
            "Epoch 81/100\n",
            "1180/1180 [==============================] - 2s 2ms/step - loss: -418.0735 - accuracy: 0.0289\n",
            "Epoch 82/100\n",
            "1180/1180 [==============================] - 3s 2ms/step - loss: -422.9856 - accuracy: 0.0289\n",
            "Epoch 83/100\n",
            "1180/1180 [==============================] - 2s 2ms/step - loss: -427.7556 - accuracy: 0.0289\n",
            "Epoch 84/100\n",
            "1180/1180 [==============================] - 3s 2ms/step - loss: -432.8366 - accuracy: 0.0289\n",
            "Epoch 85/100\n",
            "1180/1180 [==============================] - 3s 3ms/step - loss: -437.7104 - accuracy: 0.0289\n",
            "Epoch 86/100\n",
            "1180/1180 [==============================] - 2s 2ms/step - loss: -442.6515 - accuracy: 0.0289\n",
            "Epoch 87/100\n",
            "1180/1180 [==============================] - 2s 2ms/step - loss: -447.4784 - accuracy: 0.0289\n",
            "Epoch 88/100\n",
            "1180/1180 [==============================] - 2s 2ms/step - loss: -452.2663 - accuracy: 0.0289\n",
            "Epoch 89/100\n",
            "1180/1180 [==============================] - 3s 2ms/step - loss: -457.1883 - accuracy: 0.0289\n",
            "Epoch 90/100\n",
            "1180/1180 [==============================] - 3s 3ms/step - loss: -462.1219 - accuracy: 0.0289\n",
            "Epoch 91/100\n",
            "1180/1180 [==============================] - 3s 2ms/step - loss: -467.1053 - accuracy: 0.0289\n",
            "Epoch 92/100\n",
            "1180/1180 [==============================] - 2s 2ms/step - loss: -471.9472 - accuracy: 0.0289\n",
            "Epoch 93/100\n",
            "1180/1180 [==============================] - 3s 2ms/step - loss: -476.8663 - accuracy: 0.0289\n",
            "Epoch 94/100\n",
            "1180/1180 [==============================] - 3s 3ms/step - loss: -481.6111 - accuracy: 0.0289\n",
            "Epoch 95/100\n",
            "1180/1180 [==============================] - 3s 3ms/step - loss: -486.6004 - accuracy: 0.0289\n",
            "Epoch 96/100\n",
            "1180/1180 [==============================] - 2s 2ms/step - loss: -491.4576 - accuracy: 0.0289\n",
            "Epoch 97/100\n",
            "1180/1180 [==============================] - 2s 2ms/step - loss: -496.4806 - accuracy: 0.0289\n",
            "Epoch 98/100\n",
            "1180/1180 [==============================] - 2s 2ms/step - loss: -501.4667 - accuracy: 0.0289\n",
            "Epoch 99/100\n",
            "1180/1180 [==============================] - 4s 3ms/step - loss: -506.1375 - accuracy: 0.0289\n",
            "Epoch 100/100\n",
            "1180/1180 [==============================] - 3s 2ms/step - loss: -511.1382 - accuracy: 0.0289\n"
          ]
        }
      ]
    },
    {
      "cell_type": "code",
      "source": [
        "# Evaluate the model using the test data\n",
        "model_loss, model_accuracy = nn.evaluate(X_test_scaled,y_test,verbose=2)\n",
        "print(f\"Loss: {model_loss}, Accuracy: {model_accuracy}\")"
      ],
      "metadata": {
        "id": "9paEwE5uw-_N",
        "colab": {
          "base_uri": "https://localhost:8080/"
        },
        "outputId": "2ecc044f-faca-4414-fdd5-990069000243"
      },
      "execution_count": 70,
      "outputs": [
        {
          "output_type": "stream",
          "name": "stdout",
          "text": [
            "506/506 - 1s - loss: -2.1535e+01 - accuracy: 0.0289 - 1s/epoch - 2ms/step\n",
            "Loss: -21.53515625, Accuracy: 0.028859226033091545\n"
          ]
        }
      ]
    },
    {
      "cell_type": "code",
      "source": [
        "# Export our model to HDF5 file\n",
        "#nn.save('../saved_files/AlphabetSoupCharity.h5')"
      ],
      "metadata": {
        "id": "udokGvk4w_BW"
      },
      "execution_count": 23,
      "outputs": []
    },
    {
      "cell_type": "code",
      "source": [
        "#exporting our DDF5 File\n",
        "#files.download('/saved_files/AlphabetSoupCharity.h5')"
      ],
      "metadata": {
        "id": "ScvgSAuCw_Dr",
        "colab": {
          "base_uri": "https://localhost:8080/",
          "height": 17
        },
        "outputId": "8ab8789a-339b-4b12-ce98-b06aa96ff714"
      },
      "execution_count": 24,
      "outputs": [
        {
          "output_type": "display_data",
          "data": {
            "text/plain": [
              "<IPython.core.display.Javascript object>"
            ],
            "application/javascript": [
              "\n",
              "    async function download(id, filename, size) {\n",
              "      if (!google.colab.kernel.accessAllowed) {\n",
              "        return;\n",
              "      }\n",
              "      const div = document.createElement('div');\n",
              "      const label = document.createElement('label');\n",
              "      label.textContent = `Downloading \"${filename}\": `;\n",
              "      div.appendChild(label);\n",
              "      const progress = document.createElement('progress');\n",
              "      progress.max = size;\n",
              "      div.appendChild(progress);\n",
              "      document.body.appendChild(div);\n",
              "\n",
              "      const buffers = [];\n",
              "      let downloaded = 0;\n",
              "\n",
              "      const channel = await google.colab.kernel.comms.open(id);\n",
              "      // Send a message to notify the kernel that we're ready.\n",
              "      channel.send({})\n",
              "\n",
              "      for await (const message of channel.messages) {\n",
              "        // Send a message to notify the kernel that we're ready.\n",
              "        channel.send({})\n",
              "        if (message.buffers) {\n",
              "          for (const buffer of message.buffers) {\n",
              "            buffers.push(buffer);\n",
              "            downloaded += buffer.byteLength;\n",
              "            progress.value = downloaded;\n",
              "          }\n",
              "        }\n",
              "      }\n",
              "      const blob = new Blob(buffers, {type: 'application/binary'});\n",
              "      const a = document.createElement('a');\n",
              "      a.href = window.URL.createObjectURL(blob);\n",
              "      a.download = filename;\n",
              "      div.appendChild(a);\n",
              "      a.click();\n",
              "      div.remove();\n",
              "    }\n",
              "  "
            ]
          },
          "metadata": {}
        },
        {
          "output_type": "display_data",
          "data": {
            "text/plain": [
              "<IPython.core.display.Javascript object>"
            ],
            "application/javascript": [
              "download(\"download_6d5a9899-5233-4f49-9e89-b3a3cdf30013\", \"AlphabetSoupCharity.h5\", 67216)"
            ]
          },
          "metadata": {}
        }
      ]
    },
    {
      "cell_type": "code",
      "source": [],
      "metadata": {
        "id": "AaK_2lfAw_HE"
      },
      "execution_count": 24,
      "outputs": []
    }
  ]
}